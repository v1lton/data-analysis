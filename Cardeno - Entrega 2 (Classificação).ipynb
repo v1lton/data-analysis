{
  "nbformat": 4,
  "nbformat_minor": 0,
  "metadata": {
    "colab": {
      "provenance": []
    },
    "kernelspec": {
      "name": "python3",
      "display_name": "Python 3"
    },
    "language_info": {
      "name": "python"
    }
  },
  "cells": [
    {
      "cell_type": "markdown",
      "source": [
        "# Importação de Bibliotecas e Leitura dos Dados"
      ],
      "metadata": {
        "id": "lnkBof-hboPk"
      }
    },
    {
      "cell_type": "markdown",
      "source": [
        "Iremos realizar a importação das bibliotecas que nos ajudarão na construção do modelo. Podemos destacar Optuna, para nos auxiliar na escolha dos hiper-parâmetros; Scikit, para o treinamento dos modelos; MLFlow, para que possamos ter o registro dos modelos. Além disso, também utilizar auto-sklearn como ferramenta de automação."
      ],
      "metadata": {
        "id": "mnPAnxBCW0k7"
      }
    },
    {
      "cell_type": "code",
      "source": [
        "!pip install optuna\n",
        "!pip install category_encoders\n",
        "!pip install optuna-integration\n",
        "!pip install mlflow\n",
        "!pip install pyngrok"
      ],
      "metadata": {
        "colab": {
          "base_uri": "https://localhost:8080/"
        },
        "id": "G-qRlitRJAbW",
        "outputId": "6f77a0b2-02e0-492e-ab67-7c43073e76bc",
        "collapsed": true
      },
      "execution_count": 1,
      "outputs": [
        {
          "output_type": "stream",
          "name": "stdout",
          "text": [
            "Collecting optuna\n",
            "  Downloading optuna-3.6.1-py3-none-any.whl (380 kB)\n",
            "\u001b[2K     \u001b[90m━━━━━━━━━━━━━━━━━━━━━━━━━━━━━━━━━━━━━━━━\u001b[0m \u001b[32m380.1/380.1 kB\u001b[0m \u001b[31m3.9 MB/s\u001b[0m eta \u001b[36m0:00:00\u001b[0m\n",
            "\u001b[?25hCollecting alembic>=1.5.0 (from optuna)\n",
            "  Downloading alembic-1.13.2-py3-none-any.whl (232 kB)\n",
            "\u001b[2K     \u001b[90m━━━━━━━━━━━━━━━━━━━━━━━━━━━━━━━━━━━━━━━━\u001b[0m \u001b[32m233.0/233.0 kB\u001b[0m \u001b[31m6.0 MB/s\u001b[0m eta \u001b[36m0:00:00\u001b[0m\n",
            "\u001b[?25hCollecting colorlog (from optuna)\n",
            "  Downloading colorlog-6.8.2-py3-none-any.whl (11 kB)\n",
            "Requirement already satisfied: numpy in /usr/local/lib/python3.10/dist-packages (from optuna) (1.25.2)\n",
            "Requirement already satisfied: packaging>=20.0 in /usr/local/lib/python3.10/dist-packages (from optuna) (24.1)\n",
            "Requirement already satisfied: sqlalchemy>=1.3.0 in /usr/local/lib/python3.10/dist-packages (from optuna) (2.0.31)\n",
            "Requirement already satisfied: tqdm in /usr/local/lib/python3.10/dist-packages (from optuna) (4.66.4)\n",
            "Requirement already satisfied: PyYAML in /usr/local/lib/python3.10/dist-packages (from optuna) (6.0.1)\n",
            "Collecting Mako (from alembic>=1.5.0->optuna)\n",
            "  Downloading Mako-1.3.5-py3-none-any.whl (78 kB)\n",
            "\u001b[2K     \u001b[90m━━━━━━━━━━━━━━━━━━━━━━━━━━━━━━━━━━━━━━━━\u001b[0m \u001b[32m78.6/78.6 kB\u001b[0m \u001b[31m4.2 MB/s\u001b[0m eta \u001b[36m0:00:00\u001b[0m\n",
            "\u001b[?25hRequirement already satisfied: typing-extensions>=4 in /usr/local/lib/python3.10/dist-packages (from alembic>=1.5.0->optuna) (4.12.2)\n",
            "Requirement already satisfied: greenlet!=0.4.17 in /usr/local/lib/python3.10/dist-packages (from sqlalchemy>=1.3.0->optuna) (3.0.3)\n",
            "Requirement already satisfied: MarkupSafe>=0.9.2 in /usr/local/lib/python3.10/dist-packages (from Mako->alembic>=1.5.0->optuna) (2.1.5)\n",
            "Installing collected packages: Mako, colorlog, alembic, optuna\n",
            "Successfully installed Mako-1.3.5 alembic-1.13.2 colorlog-6.8.2 optuna-3.6.1\n",
            "Collecting category_encoders\n",
            "  Downloading category_encoders-2.6.3-py2.py3-none-any.whl (81 kB)\n",
            "\u001b[2K     \u001b[90m━━━━━━━━━━━━━━━━━━━━━━━━━━━━━━━━━━━━━━━━\u001b[0m \u001b[32m81.9/81.9 kB\u001b[0m \u001b[31m1.7 MB/s\u001b[0m eta \u001b[36m0:00:00\u001b[0m\n",
            "\u001b[?25hRequirement already satisfied: numpy>=1.14.0 in /usr/local/lib/python3.10/dist-packages (from category_encoders) (1.25.2)\n",
            "Requirement already satisfied: scikit-learn>=0.20.0 in /usr/local/lib/python3.10/dist-packages (from category_encoders) (1.2.2)\n",
            "Requirement already satisfied: scipy>=1.0.0 in /usr/local/lib/python3.10/dist-packages (from category_encoders) (1.11.4)\n",
            "Requirement already satisfied: statsmodels>=0.9.0 in /usr/local/lib/python3.10/dist-packages (from category_encoders) (0.14.2)\n",
            "Requirement already satisfied: pandas>=1.0.5 in /usr/local/lib/python3.10/dist-packages (from category_encoders) (2.0.3)\n",
            "Requirement already satisfied: patsy>=0.5.1 in /usr/local/lib/python3.10/dist-packages (from category_encoders) (0.5.6)\n",
            "Requirement already satisfied: python-dateutil>=2.8.2 in /usr/local/lib/python3.10/dist-packages (from pandas>=1.0.5->category_encoders) (2.8.2)\n",
            "Requirement already satisfied: pytz>=2020.1 in /usr/local/lib/python3.10/dist-packages (from pandas>=1.0.5->category_encoders) (2023.4)\n",
            "Requirement already satisfied: tzdata>=2022.1 in /usr/local/lib/python3.10/dist-packages (from pandas>=1.0.5->category_encoders) (2024.1)\n",
            "Requirement already satisfied: six in /usr/local/lib/python3.10/dist-packages (from patsy>=0.5.1->category_encoders) (1.16.0)\n",
            "Requirement already satisfied: joblib>=1.1.1 in /usr/local/lib/python3.10/dist-packages (from scikit-learn>=0.20.0->category_encoders) (1.4.2)\n",
            "Requirement already satisfied: threadpoolctl>=2.0.0 in /usr/local/lib/python3.10/dist-packages (from scikit-learn>=0.20.0->category_encoders) (3.5.0)\n",
            "Requirement already satisfied: packaging>=21.3 in /usr/local/lib/python3.10/dist-packages (from statsmodels>=0.9.0->category_encoders) (24.1)\n",
            "Installing collected packages: category_encoders\n",
            "Successfully installed category_encoders-2.6.3\n",
            "Collecting optuna-integration\n",
            "  Downloading optuna_integration-3.6.0-py3-none-any.whl (93 kB)\n",
            "\u001b[2K     \u001b[90m━━━━━━━━━━━━━━━━━━━━━━━━━━━━━━━━━━━━━━━━\u001b[0m \u001b[32m93.4/93.4 kB\u001b[0m \u001b[31m1.7 MB/s\u001b[0m eta \u001b[36m0:00:00\u001b[0m\n",
            "\u001b[?25hRequirement already satisfied: optuna in /usr/local/lib/python3.10/dist-packages (from optuna-integration) (3.6.1)\n",
            "Requirement already satisfied: alembic>=1.5.0 in /usr/local/lib/python3.10/dist-packages (from optuna->optuna-integration) (1.13.2)\n",
            "Requirement already satisfied: colorlog in /usr/local/lib/python3.10/dist-packages (from optuna->optuna-integration) (6.8.2)\n",
            "Requirement already satisfied: numpy in /usr/local/lib/python3.10/dist-packages (from optuna->optuna-integration) (1.25.2)\n",
            "Requirement already satisfied: packaging>=20.0 in /usr/local/lib/python3.10/dist-packages (from optuna->optuna-integration) (24.1)\n",
            "Requirement already satisfied: sqlalchemy>=1.3.0 in /usr/local/lib/python3.10/dist-packages (from optuna->optuna-integration) (2.0.31)\n",
            "Requirement already satisfied: tqdm in /usr/local/lib/python3.10/dist-packages (from optuna->optuna-integration) (4.66.4)\n",
            "Requirement already satisfied: PyYAML in /usr/local/lib/python3.10/dist-packages (from optuna->optuna-integration) (6.0.1)\n",
            "Requirement already satisfied: Mako in /usr/local/lib/python3.10/dist-packages (from alembic>=1.5.0->optuna->optuna-integration) (1.3.5)\n",
            "Requirement already satisfied: typing-extensions>=4 in /usr/local/lib/python3.10/dist-packages (from alembic>=1.5.0->optuna->optuna-integration) (4.12.2)\n",
            "Requirement already satisfied: greenlet!=0.4.17 in /usr/local/lib/python3.10/dist-packages (from sqlalchemy>=1.3.0->optuna->optuna-integration) (3.0.3)\n",
            "Requirement already satisfied: MarkupSafe>=0.9.2 in /usr/local/lib/python3.10/dist-packages (from Mako->alembic>=1.5.0->optuna->optuna-integration) (2.1.5)\n",
            "Installing collected packages: optuna-integration\n",
            "Successfully installed optuna-integration-3.6.0\n",
            "Collecting mlflow\n",
            "  Downloading mlflow-2.14.2-py3-none-any.whl (25.8 MB)\n",
            "\u001b[2K     \u001b[90m━━━━━━━━━━━━━━━━━━━━━━━━━━━━━━━━━━━━━━━━\u001b[0m \u001b[32m25.8/25.8 MB\u001b[0m \u001b[31m33.5 MB/s\u001b[0m eta \u001b[36m0:00:00\u001b[0m\n",
            "\u001b[?25hRequirement already satisfied: Flask<4 in /usr/local/lib/python3.10/dist-packages (from mlflow) (2.2.5)\n",
            "Requirement already satisfied: alembic!=1.10.0,<2 in /usr/local/lib/python3.10/dist-packages (from mlflow) (1.13.2)\n",
            "Requirement already satisfied: cachetools<6,>=5.0.0 in /usr/local/lib/python3.10/dist-packages (from mlflow) (5.3.3)\n",
            "Requirement already satisfied: click<9,>=7.0 in /usr/local/lib/python3.10/dist-packages (from mlflow) (8.1.7)\n",
            "Requirement already satisfied: cloudpickle<4 in /usr/local/lib/python3.10/dist-packages (from mlflow) (2.2.1)\n",
            "Collecting docker<8,>=4.0.0 (from mlflow)\n",
            "  Downloading docker-7.1.0-py3-none-any.whl (147 kB)\n",
            "\u001b[2K     \u001b[90m━━━━━━━━━━━━━━━━━━━━━━━━━━━━━━━━━━━━━━━━\u001b[0m \u001b[32m147.8/147.8 kB\u001b[0m \u001b[31m11.6 MB/s\u001b[0m eta \u001b[36m0:00:00\u001b[0m\n",
            "\u001b[?25hRequirement already satisfied: entrypoints<1 in /usr/local/lib/python3.10/dist-packages (from mlflow) (0.4)\n",
            "Collecting gitpython<4,>=3.1.9 (from mlflow)\n",
            "  Downloading GitPython-3.1.43-py3-none-any.whl (207 kB)\n",
            "\u001b[2K     \u001b[90m━━━━━━━━━━━━━━━━━━━━━━━━━━━━━━━━━━━━━━━━\u001b[0m \u001b[32m207.3/207.3 kB\u001b[0m \u001b[31m16.0 MB/s\u001b[0m eta \u001b[36m0:00:00\u001b[0m\n",
            "\u001b[?25hCollecting graphene<4 (from mlflow)\n",
            "  Downloading graphene-3.3-py2.py3-none-any.whl (128 kB)\n",
            "\u001b[2K     \u001b[90m━━━━━━━━━━━━━━━━━━━━━━━━━━━━━━━━━━━━━━━━\u001b[0m \u001b[32m128.2/128.2 kB\u001b[0m \u001b[31m11.9 MB/s\u001b[0m eta \u001b[36m0:00:00\u001b[0m\n",
            "\u001b[?25hCollecting importlib-metadata!=4.7.0,<8,>=3.7.0 (from mlflow)\n",
            "  Downloading importlib_metadata-7.2.1-py3-none-any.whl (25 kB)\n",
            "Requirement already satisfied: markdown<4,>=3.3 in /usr/local/lib/python3.10/dist-packages (from mlflow) (3.6)\n",
            "Requirement already satisfied: matplotlib<4 in /usr/local/lib/python3.10/dist-packages (from mlflow) (3.7.1)\n",
            "Requirement already satisfied: numpy<2 in /usr/local/lib/python3.10/dist-packages (from mlflow) (1.25.2)\n",
            "Collecting opentelemetry-api<3,>=1.9.0 (from mlflow)\n",
            "  Downloading opentelemetry_api-1.25.0-py3-none-any.whl (59 kB)\n",
            "\u001b[2K     \u001b[90m━━━━━━━━━━━━━━━━━━━━━━━━━━━━━━━━━━━━━━━━\u001b[0m \u001b[32m59.9/59.9 kB\u001b[0m \u001b[31m6.6 MB/s\u001b[0m eta \u001b[36m0:00:00\u001b[0m\n",
            "\u001b[?25hCollecting opentelemetry-sdk<3,>=1.9.0 (from mlflow)\n",
            "  Downloading opentelemetry_sdk-1.25.0-py3-none-any.whl (107 kB)\n",
            "\u001b[2K     \u001b[90m━━━━━━━━━━━━━━━━━━━━━━━━━━━━━━━━━━━━━━━━\u001b[0m \u001b[32m107.0/107.0 kB\u001b[0m \u001b[31m9.2 MB/s\u001b[0m eta \u001b[36m0:00:00\u001b[0m\n",
            "\u001b[?25hRequirement already satisfied: packaging<25 in /usr/local/lib/python3.10/dist-packages (from mlflow) (24.1)\n",
            "Requirement already satisfied: pandas<3 in /usr/local/lib/python3.10/dist-packages (from mlflow) (2.0.3)\n",
            "Requirement already satisfied: protobuf<5,>=3.12.0 in /usr/local/lib/python3.10/dist-packages (from mlflow) (3.20.3)\n",
            "Requirement already satisfied: pyarrow<16,>=4.0.0 in /usr/local/lib/python3.10/dist-packages (from mlflow) (14.0.2)\n",
            "Requirement already satisfied: pytz<2025 in /usr/local/lib/python3.10/dist-packages (from mlflow) (2023.4)\n",
            "Requirement already satisfied: pyyaml<7,>=5.1 in /usr/local/lib/python3.10/dist-packages (from mlflow) (6.0.1)\n",
            "Collecting querystring-parser<2 (from mlflow)\n",
            "  Downloading querystring_parser-1.2.4-py2.py3-none-any.whl (7.9 kB)\n",
            "Requirement already satisfied: requests<3,>=2.17.3 in /usr/local/lib/python3.10/dist-packages (from mlflow) (2.31.0)\n",
            "Requirement already satisfied: scikit-learn<2 in /usr/local/lib/python3.10/dist-packages (from mlflow) (1.2.2)\n",
            "Requirement already satisfied: scipy<2 in /usr/local/lib/python3.10/dist-packages (from mlflow) (1.11.4)\n",
            "Requirement already satisfied: sqlalchemy<3,>=1.4.0 in /usr/local/lib/python3.10/dist-packages (from mlflow) (2.0.31)\n",
            "Requirement already satisfied: sqlparse<1,>=0.4.0 in /usr/local/lib/python3.10/dist-packages (from mlflow) (0.5.0)\n",
            "Requirement already satisfied: Jinja2<4,>=2.11 in /usr/local/lib/python3.10/dist-packages (from mlflow) (3.1.4)\n",
            "Collecting gunicorn<23 (from mlflow)\n",
            "  Downloading gunicorn-22.0.0-py3-none-any.whl (84 kB)\n",
            "\u001b[2K     \u001b[90m━━━━━━━━━━━━━━━━━━━━━━━━━━━━━━━━━━━━━━━━\u001b[0m \u001b[32m84.4/84.4 kB\u001b[0m \u001b[31m8.1 MB/s\u001b[0m eta \u001b[36m0:00:00\u001b[0m\n",
            "\u001b[?25hRequirement already satisfied: Mako in /usr/local/lib/python3.10/dist-packages (from alembic!=1.10.0,<2->mlflow) (1.3.5)\n",
            "Requirement already satisfied: typing-extensions>=4 in /usr/local/lib/python3.10/dist-packages (from alembic!=1.10.0,<2->mlflow) (4.12.2)\n",
            "Requirement already satisfied: urllib3>=1.26.0 in /usr/local/lib/python3.10/dist-packages (from docker<8,>=4.0.0->mlflow) (2.0.7)\n",
            "Requirement already satisfied: Werkzeug>=2.2.2 in /usr/local/lib/python3.10/dist-packages (from Flask<4->mlflow) (3.0.3)\n",
            "Requirement already satisfied: itsdangerous>=2.0 in /usr/local/lib/python3.10/dist-packages (from Flask<4->mlflow) (2.2.0)\n",
            "Collecting gitdb<5,>=4.0.1 (from gitpython<4,>=3.1.9->mlflow)\n",
            "  Downloading gitdb-4.0.11-py3-none-any.whl (62 kB)\n",
            "\u001b[2K     \u001b[90m━━━━━━━━━━━━━━━━━━━━━━━━━━━━━━━━━━━━━━━━\u001b[0m \u001b[32m62.7/62.7 kB\u001b[0m \u001b[31m7.7 MB/s\u001b[0m eta \u001b[36m0:00:00\u001b[0m\n",
            "\u001b[?25hCollecting graphql-core<3.3,>=3.1 (from graphene<4->mlflow)\n",
            "  Downloading graphql_core-3.2.3-py3-none-any.whl (202 kB)\n",
            "\u001b[2K     \u001b[90m━━━━━━━━━━━━━━━━━━━━━━━━━━━━━━━━━━━━━━━━\u001b[0m \u001b[32m202.9/202.9 kB\u001b[0m \u001b[31m19.2 MB/s\u001b[0m eta \u001b[36m0:00:00\u001b[0m\n",
            "\u001b[?25hCollecting graphql-relay<3.3,>=3.1 (from graphene<4->mlflow)\n",
            "  Downloading graphql_relay-3.2.0-py3-none-any.whl (16 kB)\n",
            "Collecting aniso8601<10,>=8 (from graphene<4->mlflow)\n",
            "  Downloading aniso8601-9.0.1-py2.py3-none-any.whl (52 kB)\n",
            "\u001b[2K     \u001b[90m━━━━━━━━━━━━━━━━━━━━━━━━━━━━━━━━━━━━━━━━\u001b[0m \u001b[32m52.8/52.8 kB\u001b[0m \u001b[31m6.2 MB/s\u001b[0m eta \u001b[36m0:00:00\u001b[0m\n",
            "\u001b[?25hRequirement already satisfied: zipp>=0.5 in /usr/local/lib/python3.10/dist-packages (from importlib-metadata!=4.7.0,<8,>=3.7.0->mlflow) (3.19.2)\n",
            "Requirement already satisfied: MarkupSafe>=2.0 in /usr/local/lib/python3.10/dist-packages (from Jinja2<4,>=2.11->mlflow) (2.1.5)\n",
            "Requirement already satisfied: contourpy>=1.0.1 in /usr/local/lib/python3.10/dist-packages (from matplotlib<4->mlflow) (1.2.1)\n",
            "Requirement already satisfied: cycler>=0.10 in /usr/local/lib/python3.10/dist-packages (from matplotlib<4->mlflow) (0.12.1)\n",
            "Requirement already satisfied: fonttools>=4.22.0 in /usr/local/lib/python3.10/dist-packages (from matplotlib<4->mlflow) (4.53.0)\n",
            "Requirement already satisfied: kiwisolver>=1.0.1 in /usr/local/lib/python3.10/dist-packages (from matplotlib<4->mlflow) (1.4.5)\n",
            "Requirement already satisfied: pillow>=6.2.0 in /usr/local/lib/python3.10/dist-packages (from matplotlib<4->mlflow) (9.4.0)\n",
            "Requirement already satisfied: pyparsing>=2.3.1 in /usr/local/lib/python3.10/dist-packages (from matplotlib<4->mlflow) (3.1.2)\n",
            "Requirement already satisfied: python-dateutil>=2.7 in /usr/local/lib/python3.10/dist-packages (from matplotlib<4->mlflow) (2.8.2)\n",
            "Collecting deprecated>=1.2.6 (from opentelemetry-api<3,>=1.9.0->mlflow)\n",
            "  Downloading Deprecated-1.2.14-py2.py3-none-any.whl (9.6 kB)\n",
            "Collecting importlib-metadata!=4.7.0,<8,>=3.7.0 (from mlflow)\n",
            "  Downloading importlib_metadata-7.1.0-py3-none-any.whl (24 kB)\n",
            "Collecting opentelemetry-semantic-conventions==0.46b0 (from opentelemetry-sdk<3,>=1.9.0->mlflow)\n",
            "  Downloading opentelemetry_semantic_conventions-0.46b0-py3-none-any.whl (130 kB)\n",
            "\u001b[2K     \u001b[90m━━━━━━━━━━━━━━━━━━━━━━━━━━━━━━━━━━━━━━━━\u001b[0m \u001b[32m130.5/130.5 kB\u001b[0m \u001b[31m13.3 MB/s\u001b[0m eta \u001b[36m0:00:00\u001b[0m\n",
            "\u001b[?25hRequirement already satisfied: tzdata>=2022.1 in /usr/local/lib/python3.10/dist-packages (from pandas<3->mlflow) (2024.1)\n",
            "Requirement already satisfied: six in /usr/local/lib/python3.10/dist-packages (from querystring-parser<2->mlflow) (1.16.0)\n",
            "Requirement already satisfied: charset-normalizer<4,>=2 in /usr/local/lib/python3.10/dist-packages (from requests<3,>=2.17.3->mlflow) (3.3.2)\n",
            "Requirement already satisfied: idna<4,>=2.5 in /usr/local/lib/python3.10/dist-packages (from requests<3,>=2.17.3->mlflow) (3.7)\n",
            "Requirement already satisfied: certifi>=2017.4.17 in /usr/local/lib/python3.10/dist-packages (from requests<3,>=2.17.3->mlflow) (2024.6.2)\n",
            "Requirement already satisfied: joblib>=1.1.1 in /usr/local/lib/python3.10/dist-packages (from scikit-learn<2->mlflow) (1.4.2)\n",
            "Requirement already satisfied: threadpoolctl>=2.0.0 in /usr/local/lib/python3.10/dist-packages (from scikit-learn<2->mlflow) (3.5.0)\n",
            "Requirement already satisfied: greenlet!=0.4.17 in /usr/local/lib/python3.10/dist-packages (from sqlalchemy<3,>=1.4.0->mlflow) (3.0.3)\n",
            "Requirement already satisfied: wrapt<2,>=1.10 in /usr/local/lib/python3.10/dist-packages (from deprecated>=1.2.6->opentelemetry-api<3,>=1.9.0->mlflow) (1.14.1)\n",
            "Collecting smmap<6,>=3.0.1 (from gitdb<5,>=4.0.1->gitpython<4,>=3.1.9->mlflow)\n",
            "  Downloading smmap-5.0.1-py3-none-any.whl (24 kB)\n",
            "Installing collected packages: aniso8601, smmap, querystring-parser, importlib-metadata, gunicorn, graphql-core, deprecated, opentelemetry-api, graphql-relay, gitdb, docker, opentelemetry-semantic-conventions, graphene, gitpython, opentelemetry-sdk, mlflow\n",
            "  Attempting uninstall: importlib-metadata\n",
            "    Found existing installation: importlib_metadata 8.0.0\n",
            "    Uninstalling importlib_metadata-8.0.0:\n",
            "      Successfully uninstalled importlib_metadata-8.0.0\n",
            "Successfully installed aniso8601-9.0.1 deprecated-1.2.14 docker-7.1.0 gitdb-4.0.11 gitpython-3.1.43 graphene-3.3 graphql-core-3.2.3 graphql-relay-3.2.0 gunicorn-22.0.0 importlib-metadata-7.1.0 mlflow-2.14.2 opentelemetry-api-1.25.0 opentelemetry-sdk-1.25.0 opentelemetry-semantic-conventions-0.46b0 querystring-parser-1.2.4 smmap-5.0.1\n",
            "Collecting pyngrok\n",
            "  Downloading pyngrok-7.1.6-py3-none-any.whl (22 kB)\n",
            "Requirement already satisfied: PyYAML>=5.1 in /usr/local/lib/python3.10/dist-packages (from pyngrok) (6.0.1)\n",
            "Installing collected packages: pyngrok\n",
            "Successfully installed pyngrok-7.1.6\n"
          ]
        }
      ]
    },
    {
      "cell_type": "code",
      "source": [
        "from google.colab import drive\n",
        "import optuna\n",
        "import pandas as pd\n",
        "import numpy as np\n",
        "import matplotlib.pyplot as plt\n",
        "import seaborn as sns\n",
        "import category_encoders as ce\n",
        "from optuna.integration import SkoptSampler\n",
        "import mlflow\n",
        "import subprocess\n",
        "from pyngrok import ngrok, conf\n",
        "import getpass\n",
        "import warnings\n",
        "\n",
        "warnings.filterwarnings(\"ignore\")"
      ],
      "metadata": {
        "id": "ESzIWkS9PzO3"
      },
      "execution_count": 2,
      "outputs": []
    },
    {
      "cell_type": "code",
      "execution_count": 3,
      "metadata": {
        "id": "1Kh6wrQFI7CC",
        "colab": {
          "base_uri": "https://localhost:8080/"
        },
        "collapsed": true,
        "outputId": "6d2af874-dacc-49b9-8c6b-9d158dfab965"
      },
      "outputs": [
        {
          "output_type": "stream",
          "name": "stdout",
          "text": [
            "Collecting scikit-optimize\n",
            "  Downloading scikit_optimize-0.10.2-py2.py3-none-any.whl (107 kB)\n",
            "\u001b[2K     \u001b[90m━━━━━━━━━━━━━━━━━━━━━━━━━━━━━━━━━━━━━━━━\u001b[0m \u001b[32m107.8/107.8 kB\u001b[0m \u001b[31m1.9 MB/s\u001b[0m eta \u001b[36m0:00:00\u001b[0m\n",
            "\u001b[?25hRequirement already satisfied: joblib>=0.11 in /usr/local/lib/python3.10/dist-packages (from scikit-optimize) (1.4.2)\n",
            "Collecting pyaml>=16.9 (from scikit-optimize)\n",
            "  Downloading pyaml-24.4.0-py3-none-any.whl (24 kB)\n",
            "Requirement already satisfied: numpy>=1.20.3 in /usr/local/lib/python3.10/dist-packages (from scikit-optimize) (1.25.2)\n",
            "Requirement already satisfied: scipy>=1.1.0 in /usr/local/lib/python3.10/dist-packages (from scikit-optimize) (1.11.4)\n",
            "Requirement already satisfied: scikit-learn>=1.0.0 in /usr/local/lib/python3.10/dist-packages (from scikit-optimize) (1.2.2)\n",
            "Requirement already satisfied: packaging>=21.3 in /usr/local/lib/python3.10/dist-packages (from scikit-optimize) (24.1)\n",
            "Requirement already satisfied: PyYAML in /usr/local/lib/python3.10/dist-packages (from pyaml>=16.9->scikit-optimize) (6.0.1)\n",
            "Requirement already satisfied: threadpoolctl>=2.0.0 in /usr/local/lib/python3.10/dist-packages (from scikit-learn>=1.0.0->scikit-optimize) (3.5.0)\n",
            "Installing collected packages: pyaml, scikit-optimize\n",
            "Successfully installed pyaml-24.4.0 scikit-optimize-0.10.2\n"
          ]
        }
      ],
      "source": [
        "# Extraindo os imports do scikit para uma outra célula por conta de problema em\n",
        "# importar o autosklearn diretamente\n",
        "\n",
        "!pip install scikit-optimize\n",
        "\n",
        "from sklearn.preprocessing import StandardScaler, MinMaxScaler, RobustScaler\n",
        "from sklearn.ensemble import IsolationForest\n",
        "from sklearn.impute import KNNImputer\n",
        "from sklearn.model_selection import train_test_split, cross_val_score, StratifiedKFold, cross_validate\n",
        "from sklearn.ensemble import RandomForestClassifier, GradientBoostingClassifier\n",
        "from sklearn.svm import SVC\n",
        "from sklearn.neighbors import KNeighborsClassifier\n",
        "from sklearn.linear_model import LogisticRegression\n",
        "from sklearn.tree import DecisionTreeClassifier\n",
        "from sklearn.metrics import make_scorer, f1_score, precision_score, recall_score, roc_auc_score, confusion_matrix, classification_report"
      ]
    },
    {
      "cell_type": "markdown",
      "source": [
        "Para a construção do modelo, utilizaremos os dados sobre assentamentos rurais no Brasil. Esses dados foram coletados e disponibilizados pela Rede DATALUTA, uma rede de pesquisadores que realizam levantamento de dados pertinentes aos conflitos geoespaciais."
      ],
      "metadata": {
        "id": "0HoL9426Xaaz"
      }
    },
    {
      "cell_type": "code",
      "source": [
        "drive.mount('/content/drive', force_remount=True)"
      ],
      "metadata": {
        "colab": {
          "base_uri": "https://localhost:8080/"
        },
        "id": "Fehne1Gw_YFx",
        "outputId": "78a4f3b3-faa3-41ce-ef72-e70a0935e883"
      },
      "execution_count": 4,
      "outputs": [
        {
          "output_type": "stream",
          "name": "stdout",
          "text": [
            "Mounted at /content/drive\n"
          ]
        }
      ]
    },
    {
      "cell_type": "code",
      "source": [
        "# Tabela com dados sobre assentamentos rurais no Brasil.\n",
        "assent_data = pd.read_excel(\"/content/drive/MyDrive/data-analysis/Assentamentos.xlsx\", skiprows=[0])\n",
        "\n",
        "new_columns = assent_data.columns.str.replace(' ', '-', regex=True)\n",
        "assent_data.columns = new_columns\n",
        "assent_data.head()"
      ],
      "metadata": {
        "colab": {
          "base_uri": "https://localhost:8080/",
          "height": 328
        },
        "id": "0sfxOXMSJz03",
        "outputId": "7e16092b-325e-494a-dda5-b223422bfc70"
      },
      "execution_count": 5,
      "outputs": [
        {
          "output_type": "execute_result",
          "data": {
            "text/plain": [
              "  REGIÃO  UF  CODIGO-DO-MUNICIPIO        MUNICÍPIO CÓDIGO-ASSENTAMENTO  \\\n",
              "0      N  AC              1200138           BUJARI           AC0158000   \n",
              "1      N  AC              1200427  RODRIGUES ALVES           AC0156000   \n",
              "2      N  AC              1200427  RODRIGUES ALVES           AC0121000   \n",
              "3      N  AC              1200179         CAPIXABA           AC0061000   \n",
              "4      N  AC              1200302            FEIJO           AC0038000   \n",
              "\n",
              "  TIPO-ASSENTAMENTO    NOME-ASSENTAMENTO  CONTA  ANO-CRIAÇÃO ÁREA-(HECTARES)  \\\n",
              "0                PA         PA ABIB CURY      1         2011        117.9924   \n",
              "1                PA        PA AGRO JURUA      1         2010        2140.305   \n",
              "2                PA  PA ALBERTO SANTIAGO      1         2005            2160   \n",
              "3                PA          PA ALCOBRÁS      1         1998       7684.8457   \n",
              "4                PA             PA AMENA      1         1996            1900   \n",
              "\n",
              "   CAPACIDADE-(FAMILIAS) FAMÍLIAS-ASSENTADAS FASE TIPO-ATO-CRIAÇÃO NUM-ATO-CR  \\\n",
              "0                      8                   6   03              POR        030   \n",
              "1                     75                  70   03              POR         32   \n",
              "2                     55                  55   03              POR        024   \n",
              "3                    443                 430   05              POR        058   \n",
              "4                     19                  17   04              POR        061   \n",
              "\n",
              "           DATA-ATO-CR       FORMA-OBT             DATA-OBT  FONTE  \n",
              "0  2011-11-29 00:00:00   Transferência  2011-11-29 00:00:00  INCRA  \n",
              "1  2010-12-10 00:00:00     Arrecadação  2010-10-19 00:00:00  INCRA  \n",
              "2  2005-08-15 00:00:00     Arrecadação  1999-03-11 00:00:00  INCRA  \n",
              "3  1998-11-24 00:00:00  Desapropriação  1997-10-13 00:00:00  INCRA  \n",
              "4  1996-12-26 00:00:00     Arrecadação  1980-05-23 00:00:00  INCRA  "
            ],
            "text/html": [
              "\n",
              "  <div id=\"df-aa3777fa-cda1-4b5d-b6a9-722b377a0eca\" class=\"colab-df-container\">\n",
              "    <div>\n",
              "<style scoped>\n",
              "    .dataframe tbody tr th:only-of-type {\n",
              "        vertical-align: middle;\n",
              "    }\n",
              "\n",
              "    .dataframe tbody tr th {\n",
              "        vertical-align: top;\n",
              "    }\n",
              "\n",
              "    .dataframe thead th {\n",
              "        text-align: right;\n",
              "    }\n",
              "</style>\n",
              "<table border=\"1\" class=\"dataframe\">\n",
              "  <thead>\n",
              "    <tr style=\"text-align: right;\">\n",
              "      <th></th>\n",
              "      <th>REGIÃO</th>\n",
              "      <th>UF</th>\n",
              "      <th>CODIGO-DO-MUNICIPIO</th>\n",
              "      <th>MUNICÍPIO</th>\n",
              "      <th>CÓDIGO-ASSENTAMENTO</th>\n",
              "      <th>TIPO-ASSENTAMENTO</th>\n",
              "      <th>NOME-ASSENTAMENTO</th>\n",
              "      <th>CONTA</th>\n",
              "      <th>ANO-CRIAÇÃO</th>\n",
              "      <th>ÁREA-(HECTARES)</th>\n",
              "      <th>CAPACIDADE-(FAMILIAS)</th>\n",
              "      <th>FAMÍLIAS-ASSENTADAS</th>\n",
              "      <th>FASE</th>\n",
              "      <th>TIPO-ATO-CRIAÇÃO</th>\n",
              "      <th>NUM-ATO-CR</th>\n",
              "      <th>DATA-ATO-CR</th>\n",
              "      <th>FORMA-OBT</th>\n",
              "      <th>DATA-OBT</th>\n",
              "      <th>FONTE</th>\n",
              "    </tr>\n",
              "  </thead>\n",
              "  <tbody>\n",
              "    <tr>\n",
              "      <th>0</th>\n",
              "      <td>N</td>\n",
              "      <td>AC</td>\n",
              "      <td>1200138</td>\n",
              "      <td>BUJARI</td>\n",
              "      <td>AC0158000</td>\n",
              "      <td>PA</td>\n",
              "      <td>PA ABIB CURY</td>\n",
              "      <td>1</td>\n",
              "      <td>2011</td>\n",
              "      <td>117.9924</td>\n",
              "      <td>8</td>\n",
              "      <td>6</td>\n",
              "      <td>03</td>\n",
              "      <td>POR</td>\n",
              "      <td>030</td>\n",
              "      <td>2011-11-29 00:00:00</td>\n",
              "      <td>Transferência</td>\n",
              "      <td>2011-11-29 00:00:00</td>\n",
              "      <td>INCRA</td>\n",
              "    </tr>\n",
              "    <tr>\n",
              "      <th>1</th>\n",
              "      <td>N</td>\n",
              "      <td>AC</td>\n",
              "      <td>1200427</td>\n",
              "      <td>RODRIGUES ALVES</td>\n",
              "      <td>AC0156000</td>\n",
              "      <td>PA</td>\n",
              "      <td>PA AGRO JURUA</td>\n",
              "      <td>1</td>\n",
              "      <td>2010</td>\n",
              "      <td>2140.305</td>\n",
              "      <td>75</td>\n",
              "      <td>70</td>\n",
              "      <td>03</td>\n",
              "      <td>POR</td>\n",
              "      <td>32</td>\n",
              "      <td>2010-12-10 00:00:00</td>\n",
              "      <td>Arrecadação</td>\n",
              "      <td>2010-10-19 00:00:00</td>\n",
              "      <td>INCRA</td>\n",
              "    </tr>\n",
              "    <tr>\n",
              "      <th>2</th>\n",
              "      <td>N</td>\n",
              "      <td>AC</td>\n",
              "      <td>1200427</td>\n",
              "      <td>RODRIGUES ALVES</td>\n",
              "      <td>AC0121000</td>\n",
              "      <td>PA</td>\n",
              "      <td>PA ALBERTO SANTIAGO</td>\n",
              "      <td>1</td>\n",
              "      <td>2005</td>\n",
              "      <td>2160</td>\n",
              "      <td>55</td>\n",
              "      <td>55</td>\n",
              "      <td>03</td>\n",
              "      <td>POR</td>\n",
              "      <td>024</td>\n",
              "      <td>2005-08-15 00:00:00</td>\n",
              "      <td>Arrecadação</td>\n",
              "      <td>1999-03-11 00:00:00</td>\n",
              "      <td>INCRA</td>\n",
              "    </tr>\n",
              "    <tr>\n",
              "      <th>3</th>\n",
              "      <td>N</td>\n",
              "      <td>AC</td>\n",
              "      <td>1200179</td>\n",
              "      <td>CAPIXABA</td>\n",
              "      <td>AC0061000</td>\n",
              "      <td>PA</td>\n",
              "      <td>PA ALCOBRÁS</td>\n",
              "      <td>1</td>\n",
              "      <td>1998</td>\n",
              "      <td>7684.8457</td>\n",
              "      <td>443</td>\n",
              "      <td>430</td>\n",
              "      <td>05</td>\n",
              "      <td>POR</td>\n",
              "      <td>058</td>\n",
              "      <td>1998-11-24 00:00:00</td>\n",
              "      <td>Desapropriação</td>\n",
              "      <td>1997-10-13 00:00:00</td>\n",
              "      <td>INCRA</td>\n",
              "    </tr>\n",
              "    <tr>\n",
              "      <th>4</th>\n",
              "      <td>N</td>\n",
              "      <td>AC</td>\n",
              "      <td>1200302</td>\n",
              "      <td>FEIJO</td>\n",
              "      <td>AC0038000</td>\n",
              "      <td>PA</td>\n",
              "      <td>PA AMENA</td>\n",
              "      <td>1</td>\n",
              "      <td>1996</td>\n",
              "      <td>1900</td>\n",
              "      <td>19</td>\n",
              "      <td>17</td>\n",
              "      <td>04</td>\n",
              "      <td>POR</td>\n",
              "      <td>061</td>\n",
              "      <td>1996-12-26 00:00:00</td>\n",
              "      <td>Arrecadação</td>\n",
              "      <td>1980-05-23 00:00:00</td>\n",
              "      <td>INCRA</td>\n",
              "    </tr>\n",
              "  </tbody>\n",
              "</table>\n",
              "</div>\n",
              "    <div class=\"colab-df-buttons\">\n",
              "\n",
              "  <div class=\"colab-df-container\">\n",
              "    <button class=\"colab-df-convert\" onclick=\"convertToInteractive('df-aa3777fa-cda1-4b5d-b6a9-722b377a0eca')\"\n",
              "            title=\"Convert this dataframe to an interactive table.\"\n",
              "            style=\"display:none;\">\n",
              "\n",
              "  <svg xmlns=\"http://www.w3.org/2000/svg\" height=\"24px\" viewBox=\"0 -960 960 960\">\n",
              "    <path d=\"M120-120v-720h720v720H120Zm60-500h600v-160H180v160Zm220 220h160v-160H400v160Zm0 220h160v-160H400v160ZM180-400h160v-160H180v160Zm440 0h160v-160H620v160ZM180-180h160v-160H180v160Zm440 0h160v-160H620v160Z\"/>\n",
              "  </svg>\n",
              "    </button>\n",
              "\n",
              "  <style>\n",
              "    .colab-df-container {\n",
              "      display:flex;\n",
              "      gap: 12px;\n",
              "    }\n",
              "\n",
              "    .colab-df-convert {\n",
              "      background-color: #E8F0FE;\n",
              "      border: none;\n",
              "      border-radius: 50%;\n",
              "      cursor: pointer;\n",
              "      display: none;\n",
              "      fill: #1967D2;\n",
              "      height: 32px;\n",
              "      padding: 0 0 0 0;\n",
              "      width: 32px;\n",
              "    }\n",
              "\n",
              "    .colab-df-convert:hover {\n",
              "      background-color: #E2EBFA;\n",
              "      box-shadow: 0px 1px 2px rgba(60, 64, 67, 0.3), 0px 1px 3px 1px rgba(60, 64, 67, 0.15);\n",
              "      fill: #174EA6;\n",
              "    }\n",
              "\n",
              "    .colab-df-buttons div {\n",
              "      margin-bottom: 4px;\n",
              "    }\n",
              "\n",
              "    [theme=dark] .colab-df-convert {\n",
              "      background-color: #3B4455;\n",
              "      fill: #D2E3FC;\n",
              "    }\n",
              "\n",
              "    [theme=dark] .colab-df-convert:hover {\n",
              "      background-color: #434B5C;\n",
              "      box-shadow: 0px 1px 3px 1px rgba(0, 0, 0, 0.15);\n",
              "      filter: drop-shadow(0px 1px 2px rgba(0, 0, 0, 0.3));\n",
              "      fill: #FFFFFF;\n",
              "    }\n",
              "  </style>\n",
              "\n",
              "    <script>\n",
              "      const buttonEl =\n",
              "        document.querySelector('#df-aa3777fa-cda1-4b5d-b6a9-722b377a0eca button.colab-df-convert');\n",
              "      buttonEl.style.display =\n",
              "        google.colab.kernel.accessAllowed ? 'block' : 'none';\n",
              "\n",
              "      async function convertToInteractive(key) {\n",
              "        const element = document.querySelector('#df-aa3777fa-cda1-4b5d-b6a9-722b377a0eca');\n",
              "        const dataTable =\n",
              "          await google.colab.kernel.invokeFunction('convertToInteractive',\n",
              "                                                    [key], {});\n",
              "        if (!dataTable) return;\n",
              "\n",
              "        const docLinkHtml = 'Like what you see? Visit the ' +\n",
              "          '<a target=\"_blank\" href=https://colab.research.google.com/notebooks/data_table.ipynb>data table notebook</a>'\n",
              "          + ' to learn more about interactive tables.';\n",
              "        element.innerHTML = '';\n",
              "        dataTable['output_type'] = 'display_data';\n",
              "        await google.colab.output.renderOutput(dataTable, element);\n",
              "        const docLink = document.createElement('div');\n",
              "        docLink.innerHTML = docLinkHtml;\n",
              "        element.appendChild(docLink);\n",
              "      }\n",
              "    </script>\n",
              "  </div>\n",
              "\n",
              "\n",
              "<div id=\"df-90efc9a2-5156-4c9f-a8ae-7e0c89332372\">\n",
              "  <button class=\"colab-df-quickchart\" onclick=\"quickchart('df-90efc9a2-5156-4c9f-a8ae-7e0c89332372')\"\n",
              "            title=\"Suggest charts\"\n",
              "            style=\"display:none;\">\n",
              "\n",
              "<svg xmlns=\"http://www.w3.org/2000/svg\" height=\"24px\"viewBox=\"0 0 24 24\"\n",
              "     width=\"24px\">\n",
              "    <g>\n",
              "        <path d=\"M19 3H5c-1.1 0-2 .9-2 2v14c0 1.1.9 2 2 2h14c1.1 0 2-.9 2-2V5c0-1.1-.9-2-2-2zM9 17H7v-7h2v7zm4 0h-2V7h2v10zm4 0h-2v-4h2v4z\"/>\n",
              "    </g>\n",
              "</svg>\n",
              "  </button>\n",
              "\n",
              "<style>\n",
              "  .colab-df-quickchart {\n",
              "      --bg-color: #E8F0FE;\n",
              "      --fill-color: #1967D2;\n",
              "      --hover-bg-color: #E2EBFA;\n",
              "      --hover-fill-color: #174EA6;\n",
              "      --disabled-fill-color: #AAA;\n",
              "      --disabled-bg-color: #DDD;\n",
              "  }\n",
              "\n",
              "  [theme=dark] .colab-df-quickchart {\n",
              "      --bg-color: #3B4455;\n",
              "      --fill-color: #D2E3FC;\n",
              "      --hover-bg-color: #434B5C;\n",
              "      --hover-fill-color: #FFFFFF;\n",
              "      --disabled-bg-color: #3B4455;\n",
              "      --disabled-fill-color: #666;\n",
              "  }\n",
              "\n",
              "  .colab-df-quickchart {\n",
              "    background-color: var(--bg-color);\n",
              "    border: none;\n",
              "    border-radius: 50%;\n",
              "    cursor: pointer;\n",
              "    display: none;\n",
              "    fill: var(--fill-color);\n",
              "    height: 32px;\n",
              "    padding: 0;\n",
              "    width: 32px;\n",
              "  }\n",
              "\n",
              "  .colab-df-quickchart:hover {\n",
              "    background-color: var(--hover-bg-color);\n",
              "    box-shadow: 0 1px 2px rgba(60, 64, 67, 0.3), 0 1px 3px 1px rgba(60, 64, 67, 0.15);\n",
              "    fill: var(--button-hover-fill-color);\n",
              "  }\n",
              "\n",
              "  .colab-df-quickchart-complete:disabled,\n",
              "  .colab-df-quickchart-complete:disabled:hover {\n",
              "    background-color: var(--disabled-bg-color);\n",
              "    fill: var(--disabled-fill-color);\n",
              "    box-shadow: none;\n",
              "  }\n",
              "\n",
              "  .colab-df-spinner {\n",
              "    border: 2px solid var(--fill-color);\n",
              "    border-color: transparent;\n",
              "    border-bottom-color: var(--fill-color);\n",
              "    animation:\n",
              "      spin 1s steps(1) infinite;\n",
              "  }\n",
              "\n",
              "  @keyframes spin {\n",
              "    0% {\n",
              "      border-color: transparent;\n",
              "      border-bottom-color: var(--fill-color);\n",
              "      border-left-color: var(--fill-color);\n",
              "    }\n",
              "    20% {\n",
              "      border-color: transparent;\n",
              "      border-left-color: var(--fill-color);\n",
              "      border-top-color: var(--fill-color);\n",
              "    }\n",
              "    30% {\n",
              "      border-color: transparent;\n",
              "      border-left-color: var(--fill-color);\n",
              "      border-top-color: var(--fill-color);\n",
              "      border-right-color: var(--fill-color);\n",
              "    }\n",
              "    40% {\n",
              "      border-color: transparent;\n",
              "      border-right-color: var(--fill-color);\n",
              "      border-top-color: var(--fill-color);\n",
              "    }\n",
              "    60% {\n",
              "      border-color: transparent;\n",
              "      border-right-color: var(--fill-color);\n",
              "    }\n",
              "    80% {\n",
              "      border-color: transparent;\n",
              "      border-right-color: var(--fill-color);\n",
              "      border-bottom-color: var(--fill-color);\n",
              "    }\n",
              "    90% {\n",
              "      border-color: transparent;\n",
              "      border-bottom-color: var(--fill-color);\n",
              "    }\n",
              "  }\n",
              "</style>\n",
              "\n",
              "  <script>\n",
              "    async function quickchart(key) {\n",
              "      const quickchartButtonEl =\n",
              "        document.querySelector('#' + key + ' button');\n",
              "      quickchartButtonEl.disabled = true;  // To prevent multiple clicks.\n",
              "      quickchartButtonEl.classList.add('colab-df-spinner');\n",
              "      try {\n",
              "        const charts = await google.colab.kernel.invokeFunction(\n",
              "            'suggestCharts', [key], {});\n",
              "      } catch (error) {\n",
              "        console.error('Error during call to suggestCharts:', error);\n",
              "      }\n",
              "      quickchartButtonEl.classList.remove('colab-df-spinner');\n",
              "      quickchartButtonEl.classList.add('colab-df-quickchart-complete');\n",
              "    }\n",
              "    (() => {\n",
              "      let quickchartButtonEl =\n",
              "        document.querySelector('#df-90efc9a2-5156-4c9f-a8ae-7e0c89332372 button');\n",
              "      quickchartButtonEl.style.display =\n",
              "        google.colab.kernel.accessAllowed ? 'block' : 'none';\n",
              "    })();\n",
              "  </script>\n",
              "</div>\n",
              "\n",
              "    </div>\n",
              "  </div>\n"
            ],
            "application/vnd.google.colaboratory.intrinsic+json": {
              "type": "dataframe",
              "variable_name": "assent_data",
              "summary": "{\n  \"name\": \"assent_data\",\n  \"rows\": 9583,\n  \"fields\": [\n    {\n      \"column\": \"REGI\\u00c3O\",\n      \"properties\": {\n        \"dtype\": \"category\",\n        \"num_unique_values\": 5,\n        \"samples\": [\n          \"NE\",\n          \"S\",\n          \"CO\"\n        ],\n        \"semantic_type\": \"\",\n        \"description\": \"\"\n      }\n    },\n    {\n      \"column\": \"UF\",\n      \"properties\": {\n        \"dtype\": \"category\",\n        \"num_unique_values\": 27,\n        \"samples\": [\n          \"GO\",\n          \"PA\",\n          \"MA\"\n        ],\n        \"semantic_type\": \"\",\n        \"description\": \"\"\n      }\n    },\n    {\n      \"column\": \"CODIGO-DO-MUNICIPIO\",\n      \"properties\": {\n        \"dtype\": \"number\",\n        \"std\": 1198020,\n        \"min\": 1100015,\n        \"max\": 5300108,\n        \"num_unique_values\": 2153,\n        \"samples\": [\n          4110201,\n          4305124,\n          5007109\n        ],\n        \"semantic_type\": \"\",\n        \"description\": \"\"\n      }\n    },\n    {\n      \"column\": \"MUNIC\\u00cdPIO\",\n      \"properties\": {\n        \"dtype\": \"category\",\n        \"num_unique_values\": 2114,\n        \"samples\": [\n          \"SAO BERNARDO\",\n          \"RESTINGA\",\n          \"MIMOSO DO SUL\"\n        ],\n        \"semantic_type\": \"\",\n        \"description\": \"\"\n      }\n    },\n    {\n      \"column\": \"C\\u00d3DIGO-ASSENTAMENTO\",\n      \"properties\": {\n        \"dtype\": \"string\",\n        \"num_unique_values\": 9567,\n        \"samples\": [\n          \"MA0980000\",\n          \"TO0141000\",\n          \"SE0141000\"\n        ],\n        \"semantic_type\": \"\",\n        \"description\": \"\"\n      }\n    },\n    {\n      \"column\": \"TIPO-ASSENTAMENTO\",\n      \"properties\": {\n        \"dtype\": \"category\",\n        \"num_unique_values\": 25,\n        \"samples\": [\n          \"RESEX\",\n          \"PAE  \",\n          \"PA\"\n        ],\n        \"semantic_type\": \"\",\n        \"description\": \"\"\n      }\n    },\n    {\n      \"column\": \"NOME-ASSENTAMENTO\",\n      \"properties\": {\n        \"dtype\": \"string\",\n        \"num_unique_values\": 7672,\n        \"samples\": [\n          \"TERRITORIO QUILOMBOLA MACAMBIRA\",\n          \"PRB NOVA ESPERAN\\u00c7A RIO PRETO\",\n          \"PA LAGOA SECA DOS LEANDROS\"\n        ],\n        \"semantic_type\": \"\",\n        \"description\": \"\"\n      }\n    },\n    {\n      \"column\": \"CONTA\",\n      \"properties\": {\n        \"dtype\": \"number\",\n        \"std\": 0,\n        \"min\": 1,\n        \"max\": 1,\n        \"num_unique_values\": 1,\n        \"samples\": [\n          1\n        ],\n        \"semantic_type\": \"\",\n        \"description\": \"\"\n      }\n    },\n    {\n      \"column\": \"ANO-CRIA\\u00c7\\u00c3O\",\n      \"properties\": {\n        \"dtype\": \"number\",\n        \"std\": 6,\n        \"min\": 1927,\n        \"max\": 2022,\n        \"num_unique_values\": 60,\n        \"samples\": [\n          2011\n        ],\n        \"semantic_type\": \"\",\n        \"description\": \"\"\n      }\n    },\n    {\n      \"column\": \"\\u00c1REA-(HECTARES)\",\n      \"properties\": {\n        \"dtype\": \"string\",\n        \"num_unique_values\": 9105,\n        \"samples\": [\n          1081.7692\n        ],\n        \"semantic_type\": \"\",\n        \"description\": \"\"\n      }\n    },\n    {\n      \"column\": \"CAPACIDADE-(FAMILIAS)\",\n      \"properties\": {\n        \"dtype\": \"number\",\n        \"std\": 357,\n        \"min\": 1,\n        \"max\": 15551,\n        \"num_unique_values\": 661,\n        \"samples\": [\n          652\n        ],\n        \"semantic_type\": \"\",\n        \"description\": \"\"\n      }\n    },\n    {\n      \"column\": \"FAM\\u00cdLIAS-ASSENTADAS\",\n      \"properties\": {\n        \"dtype\": \"category\",\n        \"num_unique_values\": 686,\n        \"samples\": [\n          177\n        ],\n        \"semantic_type\": \"\",\n        \"description\": \"\"\n      }\n    },\n    {\n      \"column\": \"FASE\",\n      \"properties\": {\n        \"dtype\": \"category\",\n        \"num_unique_values\": 11,\n        \"samples\": [\n          6\n        ],\n        \"semantic_type\": \"\",\n        \"description\": \"\"\n      }\n    },\n    {\n      \"column\": \"TIPO-ATO-CRIA\\u00c7\\u00c3O\",\n      \"properties\": {\n        \"dtype\": \"category\",\n        \"num_unique_values\": 7,\n        \"samples\": [\n          \"POR\"\n        ],\n        \"semantic_type\": \"\",\n        \"description\": \"\"\n      }\n    },\n    {\n      \"column\": \"NUM-ATO-CR\",\n      \"properties\": {\n        \"dtype\": \"category\",\n        \"num_unique_values\": 1248,\n        \"samples\": [\n          \"00117\"\n        ],\n        \"semantic_type\": \"\",\n        \"description\": \"\"\n      }\n    },\n    {\n      \"column\": \"DATA-ATO-CR\",\n      \"properties\": {\n        \"dtype\": \"category\",\n        \"num_unique_values\": 2664,\n        \"samples\": [\n          \"1995-09-27 00:00:00\"\n        ],\n        \"semantic_type\": \"\",\n        \"description\": \"\"\n      }\n    },\n    {\n      \"column\": \"FORMA-OBT\",\n      \"properties\": {\n        \"dtype\": \"category\",\n        \"num_unique_values\": 22,\n        \"samples\": [\n          \"Transfer\\u00eancia\"\n        ],\n        \"semantic_type\": \"\",\n        \"description\": \"\"\n      }\n    },\n    {\n      \"column\": \"DATA-OBT\",\n      \"properties\": {\n        \"dtype\": \"category\",\n        \"num_unique_values\": 2927,\n        \"samples\": [\n          \"1986-06-09 00:00:00\"\n        ],\n        \"semantic_type\": \"\",\n        \"description\": \"\"\n      }\n    },\n    {\n      \"column\": \"FONTE\",\n      \"properties\": {\n        \"dtype\": \"category\",\n        \"num_unique_values\": 2,\n        \"samples\": [\n          \"N.I\"\n        ],\n        \"semantic_type\": \"\",\n        \"description\": \"\"\n      }\n    }\n  ]\n}"
            }
          },
          "metadata": {},
          "execution_count": 5
        }
      ]
    },
    {
      "cell_type": "markdown",
      "source": [
        "A construção do nosso modelo focará na coluna de fases. Contextualizando, assentamentos rurais possuem fases definidas pelo Programa Nacional de Reforma Agrária.\n",
        "\n",
        "Desse modo, estamos interessados em *categorizar* a fase de um assentamento baseado em suas informações."
      ],
      "metadata": {
        "id": "owECBCYSX1vg"
      }
    },
    {
      "cell_type": "code",
      "source": [
        "seed = 42\n",
        "target = 'FASE'"
      ],
      "metadata": {
        "id": "y6ODO9en_ZtN"
      },
      "execution_count": 6,
      "outputs": []
    },
    {
      "cell_type": "markdown",
      "source": [
        "# Tratamento dos Dados"
      ],
      "metadata": {
        "id": "qTZdSafEbv85"
      }
    },
    {
      "cell_type": "markdown",
      "source": [
        "Nesse momento, realizaremos o tratamento dos dados. Primeiramente, transformaremos as colunas numéricas para o tipo float. Também transfomaremos em `np.nan` os valores preenchidos com 'N.I' ou 'N.I.', que expressam dados não identificados."
      ],
      "metadata": {
        "id": "T-c2esRtdMhL"
      }
    },
    {
      "cell_type": "code",
      "source": [
        "def floatify(s):\n",
        "  try:\n",
        "    return float(s)\n",
        "  except ValueError:\n",
        "    return np.nan"
      ],
      "metadata": {
        "id": "LSs4Dxv5cR1r"
      },
      "execution_count": 7,
      "outputs": []
    },
    {
      "cell_type": "code",
      "source": [
        "def remove_ni(s):\n",
        "  if s == 'N.I' or s == 'N.I.':\n",
        "    return np.nan\n",
        "  else:\n",
        "    return s"
      ],
      "metadata": {
        "id": "FC4ac-8qcUT-"
      },
      "execution_count": 8,
      "outputs": []
    },
    {
      "cell_type": "code",
      "source": [
        "# Colunas que observamos tipo de dado incongruente\n",
        "columns = ['ÁREA-(HECTARES)', 'FAMÍLIAS-ASSENTADAS', 'FASE', 'NUM-ATO-CR']\n",
        "assent_data[columns] = assent_data[columns].applymap(floatify)\n",
        "\n",
        "# Removendo valores ni\n",
        "assent_data = assent_data.applymap(remove_ni)"
      ],
      "metadata": {
        "id": "ZYPAnTfEJ83L"
      },
      "execution_count": 9,
      "outputs": []
    },
    {
      "cell_type": "markdown",
      "source": [
        "Removendo colunas identificadores (códigos e ids)"
      ],
      "metadata": {
        "id": "Dg-PbqUd4Rjf"
      }
    },
    {
      "cell_type": "code",
      "source": [
        "# Removendo colunas com muitos valores ou valores únicos e/ou com informação pouco relevante para análise i.e. identificadores\n",
        "assent_data.drop(columns=['FONTE', 'CONTA', 'CÓDIGO-ASSENTAMENTO', 'NOME-ASSENTAMENTO', 'CODIGO-DO-MUNICIPIO'], inplace=True)\n",
        "\n",
        "# Removendo dados faltantes com relação a datas.\n",
        "assent_data.dropna(subset=['DATA-OBT'], inplace=True)\n",
        "assent_data.isnull().sum()"
      ],
      "metadata": {
        "colab": {
          "base_uri": "https://localhost:8080/"
        },
        "id": "UajUJbbRKOI_",
        "outputId": "edb8bcfa-c785-49a5-d420-c1912a4ec80f"
      },
      "execution_count": 10,
      "outputs": [
        {
          "output_type": "execute_result",
          "data": {
            "text/plain": [
              "REGIÃO                     0\n",
              "UF                         0\n",
              "MUNICÍPIO                  0\n",
              "TIPO-ASSENTAMENTO         12\n",
              "ANO-CRIAÇÃO                0\n",
              "ÁREA-(HECTARES)            6\n",
              "CAPACIDADE-(FAMILIAS)      0\n",
              "FAMÍLIAS-ASSENTADAS      244\n",
              "FASE                       0\n",
              "TIPO-ATO-CRIAÇÃO          74\n",
              "NUM-ATO-CR               101\n",
              "DATA-ATO-CR                0\n",
              "FORMA-OBT                  0\n",
              "DATA-OBT                   0\n",
              "dtype: int64"
            ]
          },
          "metadata": {},
          "execution_count": 10
        }
      ]
    },
    {
      "cell_type": "markdown",
      "source": [
        "Conferir se os tipos estão corretos."
      ],
      "metadata": {
        "id": "PvYBRTCpdyDP"
      }
    },
    {
      "cell_type": "code",
      "source": [
        "assent_data.dtypes"
      ],
      "metadata": {
        "colab": {
          "base_uri": "https://localhost:8080/"
        },
        "id": "6E64zFcfUpvU",
        "outputId": "55f4c6e9-1d8a-48b7-cab7-772a2ce2e9bc"
      },
      "execution_count": 11,
      "outputs": [
        {
          "output_type": "execute_result",
          "data": {
            "text/plain": [
              "REGIÃO                    object\n",
              "UF                        object\n",
              "MUNICÍPIO                 object\n",
              "TIPO-ASSENTAMENTO         object\n",
              "ANO-CRIAÇÃO                int64\n",
              "ÁREA-(HECTARES)          float64\n",
              "CAPACIDADE-(FAMILIAS)      int64\n",
              "FAMÍLIAS-ASSENTADAS      float64\n",
              "FASE                     float64\n",
              "TIPO-ATO-CRIAÇÃO          object\n",
              "NUM-ATO-CR               float64\n",
              "DATA-ATO-CR               object\n",
              "FORMA-OBT                 object\n",
              "DATA-OBT                  object\n",
              "dtype: object"
            ]
          },
          "metadata": {},
          "execution_count": 11
        }
      ]
    },
    {
      "cell_type": "markdown",
      "source": [
        "# Normalização"
      ],
      "metadata": {
        "id": "QZy7R995b8HQ"
      }
    },
    {
      "cell_type": "markdown",
      "source": [
        "Função utilizada para o preenchimento de dados faltantes. Adotamos 2 diferentes abordagens:\n",
        "- Categóricos: Substituir valores faltantes por um token comum, que será posteriormente tratado na encodificação\n",
        "- Numéricos: Utilização uma imputação baseada no KNN"
      ],
      "metadata": {
        "id": "2CCJCQXmd_lo"
      }
    },
    {
      "cell_type": "code",
      "source": [
        "# Preenche dados faltantes: categóricos com o token UNK e númericos usando o KNN imputer\n",
        "def fill_nan(df, type_=None):\n",
        "    if type_ == 'obj':\n",
        "        df.fillna('UNK', inplace=True)\n",
        "    elif type_ == 'num':\n",
        "        df.fillna(np.nan, inplace=True)\n",
        "        imputer = KNNImputer()\n",
        "        df = imputer.fit_transform(df)\n",
        "    return df"
      ],
      "metadata": {
        "id": "ii5O-xHScgY5"
      },
      "execution_count": 12,
      "outputs": []
    },
    {
      "cell_type": "markdown",
      "source": [
        "Função responsável por realizar o enconding das variáveis categóricas, Para realizar o enconding optamos por algoritmo categorical boost encoder, este algoritmo faz em codificação baseado na variável alvo ('FASE').\n",
        "\n"
      ],
      "metadata": {
        "id": "hwSifIlLd3oS"
      }
    },
    {
      "cell_type": "code",
      "source": [
        "# Faz o enconding das variáveis categóricas\n",
        "def categorical_encoder(df, target):\n",
        "    c_encoder = ce.cat_boost.CatBoostEncoder(random_state=seed)\n",
        "    c_encoder.fit(df.drop(columns=[target]), df[target])\n",
        "    targets = df[target]\n",
        "    df = c_encoder.transform(df.drop(columns=[target]))\n",
        "    return df, targets"
      ],
      "metadata": {
        "id": "PUnkDzu7cfNX"
      },
      "execution_count": 13,
      "outputs": []
    },
    {
      "cell_type": "markdown",
      "source": [
        "Função que realiza a normalização dos dados numéricos, utilizamos a normalização Min-Max."
      ],
      "metadata": {
        "id": "8XspzuP0eBMf"
      }
    },
    {
      "cell_type": "code",
      "source": [
        "# Realiza a normalização\n",
        "def normalize(df):\n",
        "    scaler = MinMaxScaler()\n",
        "    return  scaler.fit_transform(df)"
      ],
      "metadata": {
        "id": "jPxHMgMschdY"
      },
      "execution_count": 14,
      "outputs": []
    },
    {
      "cell_type": "markdown",
      "source": [
        "Rotina de remoção de *outliers*. Utilizamos o algoritmo Isolation Forests para identificação dos dados anômalos."
      ],
      "metadata": {
        "id": "D3MzbKSOeCCq"
      }
    },
    {
      "cell_type": "code",
      "source": [
        "# Remoção multivariada de outliers\n",
        "def remocao_outliers(df):\n",
        "    clf = IsolationForest(random_state=seed)\n",
        "    outliers = clf.fit_predict(df)\n",
        "    df['outlier'] = outliers\n",
        "    return df[df['outlier'] == 1]"
      ],
      "metadata": {
        "id": "-FM7Ar3Zci51"
      },
      "execution_count": 15,
      "outputs": []
    },
    {
      "cell_type": "markdown",
      "source": [
        "Função que realiza a divisão do dataset entre treino/teste, utilizamos uma proporção 67/33 para a divisão."
      ],
      "metadata": {
        "id": "HhsAs9v2eC1N"
      }
    },
    {
      "cell_type": "code",
      "source": [
        "# Split dataset\n",
        "def dataset_split(df, target, split=0.33):\n",
        "    X = df.drop(columns=target).copy()\n",
        "    y = df[target].copy()\n",
        "    return train_test_split(X, y, test_size=split, random_state=seed, stratify=y.values)\n"
      ],
      "metadata": {
        "id": "lhksn4ImLEiH"
      },
      "execution_count": 16,
      "outputs": []
    },
    {
      "cell_type": "markdown",
      "source": [
        "Normalização"
      ],
      "metadata": {
        "id": "90XaKis96JC9"
      }
    },
    {
      "cell_type": "code",
      "source": [
        "# Normalizando dados numericos\n",
        "assent_data_norm = assent_data.copy()\n",
        "num_cols = list(assent_data_norm._get_numeric_data().columns)\n",
        "num_cols.remove('FASE')\n",
        "assent_data_norm[num_cols] = normalize(assent_data[num_cols])"
      ],
      "metadata": {
        "id": "LjKVEbYOcqcq"
      },
      "execution_count": 17,
      "outputs": []
    },
    {
      "cell_type": "markdown",
      "source": [
        "Imputação dos dados faltantes"
      ],
      "metadata": {
        "id": "Gk6e0N5N6Lcl"
      }
    },
    {
      "cell_type": "code",
      "source": [
        "# Imputação de dados\n",
        "assent_data_imp = assent_data_norm.copy()\n",
        "cat_cols = list(set(assent_data_imp.columns) - set(num_cols))\n",
        "assent_data_imp[cat_cols] = fill_nan(assent_data_imp[cat_cols], type_='obj')\n",
        "assent_data_imp[target] = assent_data_imp[target].astype('int64')\n",
        "assent_data_imp[num_cols] = fill_nan(assent_data_imp[num_cols], type_='num')"
      ],
      "metadata": {
        "id": "bKzBd3zQcskV"
      },
      "execution_count": 18,
      "outputs": []
    },
    {
      "cell_type": "markdown",
      "source": [
        "Codificação dos dados categóricos"
      ],
      "metadata": {
        "id": "n8N24eCf6V1T"
      }
    },
    {
      "cell_type": "code",
      "source": [
        "# codificando colunas categoricas\n",
        "data_encoded = categorical_encoder(assent_data_imp.copy(), target)\n",
        "assent_data_encoded = pd.DataFrame(data_encoded[0])\n",
        "assent_data_encoded[target] = data_encoded[1]"
      ],
      "metadata": {
        "id": "z2dvubAectzh"
      },
      "execution_count": 19,
      "outputs": []
    },
    {
      "cell_type": "markdown",
      "source": [
        "Remoção de *outliers*"
      ],
      "metadata": {
        "id": "4XT_AkGf6Zbf"
      }
    },
    {
      "cell_type": "code",
      "source": [
        "# Removendo outliers\n",
        "assent_data_wout_out = remocao_outliers(assent_data_encoded.copy())\n",
        "assent_data_wout_out.drop(columns='outlier', inplace=True)"
      ],
      "metadata": {
        "id": "jWNj0CukcvEv"
      },
      "execution_count": 20,
      "outputs": []
    },
    {
      "cell_type": "markdown",
      "source": [
        "Divisão do dataset em treino e teste"
      ],
      "metadata": {
        "id": "Ou9ntB266fwv"
      }
    },
    {
      "cell_type": "code",
      "source": [
        "# Dividindo o dataset entre treino e teste (67/33)\n",
        "X_train, X_test, y_train, y_test = dataset_split(assent_data_wout_out.copy(), target)\n",
        "df_train = pd.DataFrame(X_train, columns=assent_data_wout_out.drop(columns=target).columns)\n",
        "df_train[target] = y_train\n",
        "df_test = pd.DataFrame(X_test, columns=assent_data_wout_out.drop(columns=target).columns)\n",
        "df_test[target] = y_test"
      ],
      "metadata": {
        "id": "62V2APN-L_nP"
      },
      "execution_count": 21,
      "outputs": []
    },
    {
      "cell_type": "markdown",
      "source": [
        "# Configuração MLFlow"
      ],
      "metadata": {
        "id": "dxWqZ0cz_fbS"
      }
    },
    {
      "cell_type": "markdown",
      "source": [
        "Registraremos nossos modelos com o suporte do MLFlow. Para o dashboard, estamos utilizando ngrok."
      ],
      "metadata": {
        "id": "qlmIPkDbeGUp"
      }
    },
    {
      "cell_type": "code",
      "source": [
        "subprocess.Popen([\"mlflow\", \"ui\", \"--backend-store-uri\", \"sqlite:///mlflow.db\"])"
      ],
      "metadata": {
        "colab": {
          "base_uri": "https://localhost:8080/"
        },
        "id": "GIGimPM6_j3D",
        "outputId": "b4a3a0f9-1da1-447c-fa76-3ad4e3aa3836"
      },
      "execution_count": 26,
      "outputs": [
        {
          "output_type": "execute_result",
          "data": {
            "text/plain": [
              "<Popen: returncode: None args: ['mlflow', 'ui', '--backend-store-uri', 'sqli...>"
            ]
          },
          "metadata": {},
          "execution_count": 26
        }
      ]
    },
    {
      "cell_type": "code",
      "source": [
        "# Set our tracking server uri for logging\n",
        "mlflow.set_tracking_uri(\"sqlite:///mlflow.db\")\n",
        "\n",
        "# Create a new MLflow Experiment\n",
        "mlflow.set_experiment(\"Optuna Experiment\")"
      ],
      "metadata": {
        "colab": {
          "base_uri": "https://localhost:8080/"
        },
        "id": "pijt00UB_lza",
        "outputId": "482e02a5-d1cd-48e5-812d-ad6f784b100b"
      },
      "execution_count": 27,
      "outputs": [
        {
          "output_type": "execute_result",
          "data": {
            "text/plain": [
              "<Experiment: artifact_location='/content/mlruns/1', creation_time=1720723685637, experiment_id='1', last_update_time=1720723685637, lifecycle_stage='active', name='Optuna Experiment', tags={}>"
            ]
          },
          "metadata": {},
          "execution_count": 27
        }
      ]
    },
    {
      "cell_type": "markdown",
      "source": [
        "É possível criar uma conta em https://dashboard.ngrok.com\n",
        "\n",
        "Depois de criar, no lado esquerdo do dashboard vai ter um menu lateral. Clica em \"Your Authtoken\". Nessa página você vai ter acesso ao token para ser inserido abaixo.\n",
        "\n",
        "O código abaixo vai gerar um log com um link após `* ngrok tunnel`. Esse link vai ter os dados dos experimentos."
      ],
      "metadata": {
        "id": "8Oio1qMH_sNq"
      }
    },
    {
      "cell_type": "code",
      "source": [
        "print(\"Enter your authtoken\")\n",
        "conf.get_default().auth_token = getpass.getpass()\n",
        "port=5000\n",
        "public_url = ngrok.connect(port).public_url\n",
        "print(f' * ngrok tunnel \\\"{public_url}\\\" -> \\\"http://127.0.0.1:{port}\\\"')"
      ],
      "metadata": {
        "colab": {
          "base_uri": "https://localhost:8080/"
        },
        "id": "uq_-SqMq_nOx",
        "outputId": "9333395c-9a92-42fe-9297-8bc86ccd1ec7"
      },
      "execution_count": 28,
      "outputs": [
        {
          "output_type": "stream",
          "name": "stdout",
          "text": [
            "Enter your authtoken\n",
            "··········\n",
            " * ngrok tunnel \"https://1981-34-148-167-152.ngrok-free.app\" -> \"http://127.0.0.1:5000\"\n"
          ]
        }
      ]
    },
    {
      "cell_type": "markdown",
      "source": [
        "# Classificação"
      ],
      "metadata": {
        "id": "QuA75cbBKviG"
      }
    },
    {
      "cell_type": "markdown",
      "source": [
        "## Definição dos Params"
      ],
      "metadata": {
        "id": "uLIlq7Qvc-Go"
      }
    },
    {
      "cell_type": "markdown",
      "source": [
        "Para a tarefa de classificação da **fase** dos assentamentos, treinaremos os dados nos seguintes algoritmos: Random Forest, Gradient Boosting, Decision Tree e Logistic Regression.\n",
        "\n",
        "Para seleção dos hiper-parâmetros desses algoritmos estamos utilizando optuna. Além disso, estamos empregando cross-validation para avaliação de performance dos modelos no conjunto de teste.\n",
        "\n",
        "Estamos salvando os parâmetros dos modelos treinados e suas métricas por meio do MLFlow.\n",
        "\n",
        "As seguintes métricas estão sendo salva: accuracy, F1, precision e recall."
      ],
      "metadata": {
        "id": "f0IzjG2EAzuF"
      }
    },
    {
      "cell_type": "code",
      "source": [
        "# Estrutura para armazenar os melhores resultados\n",
        "best_results = {\n",
        "    'RandomForest': {'accuracy': 0, 'params': None},\n",
        "    'GradientBoosting': {'accuracy': 0, 'params': None},\n",
        "    'DecisionTree': {'accuracy': 0, 'params': None},\n",
        "    'LR': {'accuracy': 0, 'params': None}\n",
        "}\n",
        "\n",
        "# Definir a função de objetivo\n",
        "def objective(trial):\n",
        "    # Escolher o modelo\n",
        "    classifier_name = trial.suggest_categorical('classifier', ['RandomForest', 'GradientBoosting', 'DecisionTree', 'LR'])\n",
        "\n",
        "    if classifier_name == 'RandomForest':\n",
        "        n_estimators = trial.suggest_int('rf_n_estimators', 10, 200)\n",
        "        max_depth = trial.suggest_int('rf_max_depth', 2, 26)\n",
        "        criterion = trial.suggest_categorical('rf_criterion', ['gini', 'entropy'])\n",
        "\n",
        "        model = RandomForestClassifier(n_estimators=n_estimators, max_depth=max_depth, criterion=criterion)  # Ou regressor\n",
        "\n",
        "    elif classifier_name == 'GradientBoosting':\n",
        "        n_estimators = trial.suggest_int('gb_n_estimators', 10, 50)\n",
        "        learning_rate = trial.suggest_float('gb_learning_rate', 0.01, 0.1)\n",
        "        max_depth = trial.suggest_int('gb_max_depth', 2, 20)\n",
        "\n",
        "        model = GradientBoostingClassifier(n_estimators=n_estimators, learning_rate=learning_rate, max_depth=max_depth) # Ou regressor\n",
        "\n",
        "    elif classifier_name == 'DecisionTree':\n",
        "        max_depth = trial.suggest_int('dt_max_depth', 2, 26)\n",
        "        criterion = trial.suggest_categorical('dt_criterion', ['gini', 'entropy'])\n",
        "        splitter = trial.suggest_categorical('dt_splitter', ['best', 'random'])\n",
        "\n",
        "        model = DecisionTreeClassifier(max_depth=max_depth, criterion=criterion, splitter=splitter)\n",
        "\n",
        "\n",
        "    elif classifier_name == 'LR':\n",
        "        C = trial.suggest_float('C', 1e-4, 10.0)\n",
        "        solver = trial.suggest_categorical('solver', ['newton-cg', 'lbfgs', 'liblinear', 'sag', 'saga'])\n",
        "        max_iter = trial.suggest_int('max_iter', 600, 1000)\n",
        "\n",
        "        # Criar o modelo com os hiperparâmetros sugeridos\n",
        "        model = LogisticRegression(C=C, solver=solver, max_iter=max_iter) # Escolher outro algoritmo para regressão\n",
        "\n",
        "    # Definir validação cruzada estratificada\n",
        "    kfold = StratifiedKFold(n_splits=5)\n",
        "\n",
        "    # Avaliar o modelo usando validação cruzada\n",
        "    scoring = {\n",
        "        'accuracy': 'accuracy',\n",
        "        'f1': make_scorer(f1_score, average='weighted'),\n",
        "        'precision': make_scorer(precision_score, average='weighted'),\n",
        "        'recall': make_scorer(recall_score, average='weighted')\n",
        "    }\n",
        "    scores = cross_validate(model, X_train, y_train, cv=kfold, scoring=scoring)\n",
        "\n",
        "    accuracy = scores['test_accuracy'].mean()\n",
        "    f1 = scores['test_f1'].mean()\n",
        "    precision = scores['test_precision'].mean()\n",
        "    recall = scores['test_recall'].mean()\n",
        "\n",
        "    # Atualizar os melhores resultados se necessário\n",
        "    if accuracy > best_results[classifier_name]['accuracy']:\n",
        "        best_results[classifier_name]['accuracy'] = accuracy\n",
        "        best_results[classifier_name]['params'] = trial.params\n",
        "        best_results[classifier_name]['f1'] = f1\n",
        "        best_results[classifier_name]['precision'] = precision\n",
        "        best_results[classifier_name]['recall'] = recall\n",
        "\n",
        "    # Log the model and parameters only if training was successful\n",
        "    with mlflow.start_run(nested=True):\n",
        "      # Logging params\n",
        "      mlflow.log_param('classifier', classifier_name)\n",
        "      if classifier_name == 'RandomForest':\n",
        "          mlflow.log_param('rf_n_estimators', n_estimators)\n",
        "          mlflow.log_param('rf_max_depth', max_depth)\n",
        "          mlflow.log_param('rf_criterion', criterion)\n",
        "      elif classifier_name == 'GradientBoosting':\n",
        "          mlflow.log_param('gb_n_estimators', n_estimators)\n",
        "          mlflow.log_param('gb_learning_rate', learning_rate)\n",
        "          mlflow.log_param('gb_max_depth', max_depth)\n",
        "      elif classifier_name == 'DecisionTree':\n",
        "          mlflow.log_param('dt_max_depth', max_depth)\n",
        "          mlflow.log_param('dt_criterion', criterion)\n",
        "          mlflow.log_param('dt_splitter', splitter)\n",
        "      elif classifier_name == 'LR':\n",
        "          mlflow.log_param('C', C)\n",
        "          mlflow.log_param('solver', solver)\n",
        "          mlflow.log_param('max_iter', max_iter)\n",
        "\n",
        "      # Logging metrics\n",
        "      mlflow.log_metric('accuracy', accuracy)\n",
        "      mlflow.log_metric('f1', f1)\n",
        "      mlflow.log_metric('precision', precision)\n",
        "      mlflow.log_metric('recall', recall)\n",
        "\n",
        "      mlflow.sklearn.log_model(model, classifier_name)\n",
        "\n",
        "    return accuracy\n",
        "\n",
        "# Criar um estudo e otimizar utilizando otimização bayesiana\n",
        "study = optuna.create_study(direction='maximize')\n",
        "study.optimize(objective, n_trials=50)"
      ],
      "metadata": {
        "colab": {
          "base_uri": "https://localhost:8080/"
        },
        "id": "4xypsQMeOIhB",
        "outputId": "2939dfe9-c0e0-4ce7-c6b8-ec3dbab74150",
        "collapsed": true
      },
      "execution_count": 29,
      "outputs": [
        {
          "output_type": "stream",
          "name": "stderr",
          "text": [
            "[I 2024-07-11 18:52:06,172] A new study created in memory with name: no-name-dee1c5cb-ce95-4a6b-9b20-4c801d2afe6e\n",
            "[I 2024-07-11 18:52:18,330] Trial 0 finished with value: 0.6833383321929685 and parameters: {'classifier': 'LR', 'C': 2.862883433590696, 'solver': 'lbfgs', 'max_iter': 650}. Best is trial 0 with value: 0.6833383321929685.\n",
            "[I 2024-07-11 18:52:29,853] Trial 1 finished with value: 0.6805124143554752 and parameters: {'classifier': 'LR', 'C': 0.9643865992989795, 'solver': 'newton-cg', 'max_iter': 628}. Best is trial 0 with value: 0.6833383321929685.\n",
            "[I 2024-07-11 18:52:40,566] Trial 2 finished with value: 0.6769769708785184 and parameters: {'classifier': 'LR', 'C': 0.3238219861092937, 'solver': 'lbfgs', 'max_iter': 857}. Best is trial 0 with value: 0.6833383321929685.\n",
            "[I 2024-07-11 18:52:58,687] Trial 3 finished with value: 0.7522541732667236 and parameters: {'classifier': 'GradientBoosting', 'gb_n_estimators': 21, 'gb_learning_rate': 0.08151082629765873, 'gb_max_depth': 7}. Best is trial 3 with value: 0.7522541732667236.\n",
            "[I 2024-07-11 18:53:11,505] Trial 4 finished with value: 0.7754027987365382 and parameters: {'classifier': 'RandomForest', 'rf_n_estimators': 155, 'rf_max_depth': 14, 'rf_criterion': 'entropy'}. Best is trial 4 with value: 0.7754027987365382.\n",
            "[I 2024-07-11 18:53:20,129] Trial 5 finished with value: 0.7741652685481124 and parameters: {'classifier': 'RandomForest', 'rf_n_estimators': 83, 'rf_max_depth': 18, 'rf_criterion': 'gini'}. Best is trial 4 with value: 0.7754027987365382.\n",
            "[I 2024-07-11 18:53:23,120] Trial 6 finished with value: 0.6778586447466672 and parameters: {'classifier': 'DecisionTree', 'dt_max_depth': 23, 'dt_criterion': 'gini', 'dt_splitter': 'random'}. Best is trial 4 with value: 0.7754027987365382.\n",
            "[I 2024-07-11 18:53:50,975] Trial 7 finished with value: 0.6651348286172217 and parameters: {'classifier': 'GradientBoosting', 'gb_n_estimators': 12, 'gb_learning_rate': 0.019319484156594117, 'gb_max_depth': 15}. Best is trial 4 with value: 0.7754027987365382.\n",
            "[I 2024-07-11 18:54:09,681] Trial 8 finished with value: 0.7116114136462619 and parameters: {'classifier': 'GradientBoosting', 'gb_n_estimators': 48, 'gb_learning_rate': 0.015505763999123168, 'gb_max_depth': 3}. Best is trial 4 with value: 0.7754027987365382.\n",
            "[I 2024-07-11 18:54:19,491] Trial 9 finished with value: 0.6870482671140646 and parameters: {'classifier': 'GradientBoosting', 'gb_n_estimators': 12, 'gb_learning_rate': 0.029140777138295798, 'gb_max_depth': 5}. Best is trial 4 with value: 0.7754027987365382.\n",
            "[I 2024-07-11 18:54:30,592] Trial 10 finished with value: 0.7412993285906653 and parameters: {'classifier': 'RandomForest', 'rf_n_estimators': 191, 'rf_max_depth': 6, 'rf_criterion': 'entropy'}. Best is trial 4 with value: 0.7754027987365382.\n",
            "[I 2024-07-11 18:54:37,184] Trial 11 finished with value: 0.7752262765056721 and parameters: {'classifier': 'RandomForest', 'rf_n_estimators': 75, 'rf_max_depth': 20, 'rf_criterion': 'gini'}. Best is trial 4 with value: 0.7754027987365382.\n",
            "[I 2024-07-11 18:54:50,118] Trial 12 finished with value: 0.7768171635845572 and parameters: {'classifier': 'RandomForest', 'rf_n_estimators': 141, 'rf_max_depth': 26, 'rf_criterion': 'entropy'}. Best is trial 12 with value: 0.7768171635845572.\n",
            "[I 2024-07-11 18:55:04,592] Trial 13 finished with value: 0.7746951476694379 and parameters: {'classifier': 'RandomForest', 'rf_n_estimators': 165, 'rf_max_depth': 26, 'rf_criterion': 'entropy'}. Best is trial 12 with value: 0.7768171635845572.\n",
            "[I 2024-07-11 18:55:15,188] Trial 14 finished with value: 0.7649787704679871 and parameters: {'classifier': 'RandomForest', 'rf_n_estimators': 144, 'rf_max_depth': 9, 'rf_criterion': 'entropy'}. Best is trial 12 with value: 0.7768171635845572.\n",
            "[I 2024-07-11 18:55:18,531] Trial 15 finished with value: 0.5983397537436772 and parameters: {'classifier': 'DecisionTree', 'dt_max_depth': 2, 'dt_criterion': 'entropy', 'dt_splitter': 'best'}. Best is trial 12 with value: 0.7768171635845572.\n",
            "[I 2024-07-11 18:55:29,222] Trial 16 finished with value: 0.7743427280651601 and parameters: {'classifier': 'RandomForest', 'rf_n_estimators': 133, 'rf_max_depth': 13, 'rf_criterion': 'entropy'}. Best is trial 12 with value: 0.7768171635845572.\n",
            "[I 2024-07-11 18:55:34,039] Trial 17 finished with value: 0.764801467165303 and parameters: {'classifier': 'RandomForest', 'rf_n_estimators': 17, 'rf_max_depth': 26, 'rf_criterion': 'entropy'}. Best is trial 12 with value: 0.7768171635845572.\n",
            "[I 2024-07-11 18:55:43,501] Trial 18 finished with value: 0.7755791647530407 and parameters: {'classifier': 'RandomForest', 'rf_n_estimators': 116, 'rf_max_depth': 14, 'rf_criterion': 'entropy'}. Best is trial 12 with value: 0.7768171635845572.\n",
            "[I 2024-07-11 18:55:47,636] Trial 19 finished with value: 0.7213291967769853 and parameters: {'classifier': 'DecisionTree', 'dt_max_depth': 9, 'dt_criterion': 'gini', 'dt_splitter': 'best'}. Best is trial 12 with value: 0.7768171635845572.\n",
            "[I 2024-07-11 18:55:52,809] Trial 20 finished with value: 0.6220174772629994 and parameters: {'classifier': 'RandomForest', 'rf_n_estimators': 107, 'rf_max_depth': 2, 'rf_criterion': 'entropy'}. Best is trial 12 with value: 0.7768171635845572.\n",
            "[I 2024-07-11 18:56:04,534] Trial 21 finished with value: 0.7748719823290312 and parameters: {'classifier': 'RandomForest', 'rf_n_estimators': 126, 'rf_max_depth': 15, 'rf_criterion': 'entropy'}. Best is trial 12 with value: 0.7768171635845572.\n",
            "[I 2024-07-11 18:56:16,486] Trial 22 finished with value: 0.7750483483455336 and parameters: {'classifier': 'RandomForest', 'rf_n_estimators': 160, 'rf_max_depth': 12, 'rf_criterion': 'entropy'}. Best is trial 12 with value: 0.7768171635845572.\n",
            "[I 2024-07-11 18:56:35,797] Trial 23 finished with value: 0.774341634564615 and parameters: {'classifier': 'RandomForest', 'rf_n_estimators': 190, 'rf_max_depth': 19, 'rf_criterion': 'entropy'}. Best is trial 12 with value: 0.7768171635845572.\n",
            "[I 2024-07-11 18:56:44,859] Trial 24 finished with value: 0.7738111305858351 and parameters: {'classifier': 'RandomForest', 'rf_n_estimators': 104, 'rf_max_depth': 16, 'rf_criterion': 'gini'}. Best is trial 12 with value: 0.7768171635845572.\n",
            "[I 2024-07-11 18:56:59,389] Trial 25 finished with value: 0.7732806266070552 and parameters: {'classifier': 'RandomForest', 'rf_n_estimators': 158, 'rf_max_depth': 21, 'rf_criterion': 'entropy'}. Best is trial 12 with value: 0.7768171635845572.\n",
            "[I 2024-07-11 18:57:07,961] Trial 26 finished with value: 0.7653308776435376 and parameters: {'classifier': 'RandomForest', 'rf_n_estimators': 113, 'rf_max_depth': 9, 'rf_criterion': 'entropy'}. Best is trial 12 with value: 0.7768171635845572.\n",
            "[I 2024-07-11 18:57:12,200] Trial 27 finished with value: 0.6889914175828639 and parameters: {'classifier': 'DecisionTree', 'dt_max_depth': 26, 'dt_criterion': 'entropy', 'dt_splitter': 'random'}. Best is trial 12 with value: 0.7768171635845572.\n",
            "[I 2024-07-11 18:57:32,086] Trial 28 finished with value: 0.6852832010197674 and parameters: {'classifier': 'LR', 'C': 9.52511921400647, 'solver': 'sag', 'max_iter': 979}. Best is trial 12 with value: 0.7768171635845572.\n",
            "[I 2024-07-11 18:57:36,812] Trial 29 finished with value: 0.6479949886432157 and parameters: {'classifier': 'LR', 'C': 7.68699968239534, 'solver': 'liblinear', 'max_iter': 789}. Best is trial 12 with value: 0.7768171635845572.\n",
            "[I 2024-07-11 18:57:47,094] Trial 30 finished with value: 0.7725743814692272 and parameters: {'classifier': 'RandomForest', 'rf_n_estimators': 74, 'rf_max_depth': 22, 'rf_criterion': 'entropy'}. Best is trial 12 with value: 0.7768171635845572.\n",
            "[I 2024-07-11 18:57:53,233] Trial 31 finished with value: 0.770984744105251 and parameters: {'classifier': 'RandomForest', 'rf_n_estimators': 66, 'rf_max_depth': 22, 'rf_criterion': 'gini'}. Best is trial 12 with value: 0.7768171635845572.\n",
            "[I 2024-07-11 18:57:59,738] Trial 32 finished with value: 0.776639547853146 and parameters: {'classifier': 'RandomForest', 'rf_n_estimators': 55, 'rf_max_depth': 17, 'rf_criterion': 'gini'}. Best is trial 12 with value: 0.7768171635845572.\n",
            "[I 2024-07-11 18:58:05,236] Trial 33 finished with value: 0.7685109334433082 and parameters: {'classifier': 'RandomForest', 'rf_n_estimators': 34, 'rf_max_depth': 16, 'rf_criterion': 'gini'}. Best is trial 12 with value: 0.7768171635845572.\n",
            "[I 2024-07-11 18:58:27,000] Trial 34 finished with value: 0.6836921577265186 and parameters: {'classifier': 'LR', 'C': 5.554225771282502, 'solver': 'saga', 'max_iter': 970}. Best is trial 12 with value: 0.7768171635845572.\n",
            "[I 2024-07-11 18:58:37,978] Trial 35 finished with value: 0.7725739128261366 and parameters: {'classifier': 'RandomForest', 'rf_n_estimators': 142, 'rf_max_depth': 12, 'rf_criterion': 'gini'}. Best is trial 12 with value: 0.7768171635845572.\n",
            "[I 2024-07-11 18:58:43,174] Trial 36 finished with value: 0.7683344112124422 and parameters: {'classifier': 'RandomForest', 'rf_n_estimators': 50, 'rf_max_depth': 10, 'rf_criterion': 'entropy'}. Best is trial 12 with value: 0.7768171635845572.\n",
            "[I 2024-07-11 19:00:45,872] Trial 37 finished with value: 0.6888142704945435 and parameters: {'classifier': 'GradientBoosting', 'gb_n_estimators': 44, 'gb_learning_rate': 0.09631389714987335, 'gb_max_depth': 20}. Best is trial 12 with value: 0.7768171635845572.\n",
            "[I 2024-07-11 19:01:03,607] Trial 38 finished with value: 0.684222036847844 and parameters: {'classifier': 'LR', 'C': 4.7452673939275725, 'solver': 'sag', 'max_iter': 760}. Best is trial 12 with value: 0.7768171635845572.\n",
            "[I 2024-07-11 19:01:11,970] Trial 39 finished with value: 0.7718681363313994 and parameters: {'classifier': 'RandomForest', 'rf_n_estimators': 90, 'rf_max_depth': 17, 'rf_criterion': 'gini'}. Best is trial 12 with value: 0.7768171635845572.\n",
            "[I 2024-07-11 19:02:14,675] Trial 40 finished with value: 0.7412983913044837 and parameters: {'classifier': 'GradientBoosting', 'gb_n_estimators': 36, 'gb_learning_rate': 0.05650616304071122, 'gb_max_depth': 12}. Best is trial 12 with value: 0.7768171635845572.\n",
            "[I 2024-07-11 19:02:20,042] Trial 41 finished with value: 0.7693938570263659 and parameters: {'classifier': 'RandomForest', 'rf_n_estimators': 55, 'rf_max_depth': 19, 'rf_criterion': 'gini'}. Best is trial 12 with value: 0.7768171635845572.\n",
            "[I 2024-07-11 19:02:29,895] Trial 42 finished with value: 0.7766397040675096 and parameters: {'classifier': 'RandomForest', 'rf_n_estimators': 119, 'rf_max_depth': 14, 'rf_criterion': 'gini'}. Best is trial 12 with value: 0.7768171635845572.\n",
            "[I 2024-07-11 19:02:37,956] Trial 43 finished with value: 0.772751840986275 and parameters: {'classifier': 'RandomForest', 'rf_n_estimators': 118, 'rf_max_depth': 13, 'rf_criterion': 'gini'}. Best is trial 12 with value: 0.7768171635845572.\n",
            "[I 2024-07-11 19:02:46,965] Trial 44 finished with value: 0.7699252982913273 and parameters: {'classifier': 'RandomForest', 'rf_n_estimators': 96, 'rf_max_depth': 14, 'rf_criterion': 'gini'}. Best is trial 12 with value: 0.7768171635845572.\n",
            "[I 2024-07-11 19:02:50,239] Trial 45 finished with value: 0.6840441086877056 and parameters: {'classifier': 'DecisionTree', 'dt_max_depth': 16, 'dt_criterion': 'entropy', 'dt_splitter': 'best'}. Best is trial 12 with value: 0.7768171635845572.\n",
            "[I 2024-07-11 19:03:04,028] Trial 46 finished with value: 0.7722211807931316 and parameters: {'classifier': 'RandomForest', 'rf_n_estimators': 174, 'rf_max_depth': 11, 'rf_criterion': 'entropy'}. Best is trial 12 with value: 0.7768171635845572.\n",
            "[I 2024-07-11 19:03:13,232] Trial 47 finished with value: 0.7729272697165959 and parameters: {'classifier': 'RandomForest', 'rf_n_estimators': 142, 'rf_max_depth': 15, 'rf_criterion': 'gini'}. Best is trial 12 with value: 0.7768171635845572.\n",
            "[I 2024-07-11 19:04:46,720] Trial 48 finished with value: 0.6914669466028063 and parameters: {'classifier': 'GradientBoosting', 'gb_n_estimators': 31, 'gb_learning_rate': 0.05558770141562472, 'gb_max_depth': 20}. Best is trial 12 with value: 0.7768171635845572.\n",
            "[I 2024-07-11 19:04:57,201] Trial 49 finished with value: 0.7732823449650549 and parameters: {'classifier': 'RandomForest', 'rf_n_estimators': 126, 'rf_max_depth': 24, 'rf_criterion': 'entropy'}. Best is trial 12 with value: 0.7768171635845572.\n"
          ]
        }
      ]
    },
    {
      "cell_type": "markdown",
      "source": [
        "## Teste dos Modelos"
      ],
      "metadata": {
        "id": "bYQ1cai6K5IU"
      }
    },
    {
      "cell_type": "markdown",
      "source": [
        "Para avaliação dos modelos utilizamos:\n",
        "- Matriz de confusão\n",
        "- Acurácia\n",
        "- Área sobre a curva ROC"
      ],
      "metadata": {
        "id": "LqUvDUFo6xso"
      }
    },
    {
      "cell_type": "code",
      "source": [
        "def log_model_metrics(model_name, model, X_train, y_train, X_test, y_test):\n",
        "  with mlflow.start_run(run_name=model_name):\n",
        "      model.fit(X_train, y_train)\n",
        "\n",
        "      # Log model\n",
        "      mlflow.sklearn.log_model(model, model_name)\n",
        "\n",
        "      # Compute and log metrics\n",
        "      train_score = model.score(X_train, y_train)\n",
        "      test_score = model.score(X_test, y_test)\n",
        "\n",
        "      mlflow.log_metric('train_accuracy', train_score)\n",
        "      mlflow.log_metric('test_accuracy', test_score)\n",
        "\n",
        "      # Compute additional metrics\n",
        "      y_pred = model.predict(X_test)\n",
        "      y_proba = model.predict_proba(X_test)[:, 1] if hasattr(model, \"predict_proba\") else np.zeros_like(y_test)\n",
        "\n",
        "      roc_auc = roc_auc_score(y_test, model.predict_proba(X_test), multi_class='ovr')\n",
        "      mlflow.log_metric('roc_auc_score', roc_auc)\n",
        "\n",
        "      # Log confusion matrix as an artifact\n",
        "      cf_matrix = confusion_matrix(y_test, y_pred)\n",
        "      fig, ax = plt.subplots()\n",
        "      sns.heatmap(cf_matrix, annot=True, cmap='Blues', fmt='g', ax=ax)\n",
        "      # sns.heatmap(cf_matrix, annot=True, cmap='Blues')\n",
        "      ax.set_title(f'Confusion Matrix {model_name}\\n')\n",
        "      ax.set_xlabel('Predictions')\n",
        "      ax.set_ylabel('Labels')\n",
        "      plt.show()\n",
        "      plt.close(fig)\n",
        "      mlflow.log_figure(fig, f'confusion_matrix_{model_name}.png')\n",
        "\n",
        "      # Log classification report as an artifact\n",
        "      report_str = classification_report(y_test, y_pred)\n",
        "      mlflow.log_text(report_str, f'classification_report_{model_name}.txt')\n",
        "\n",
        "      # Print report\n",
        "      print(report_str)\n",
        "\n",
        "      print(f'{model_name} train score: {train_score}')\n",
        "      print(f'{model_name} test score: {test_score}')\n",
        "      print(f'{model_name} roc auc score: {roc_auc}')"
      ],
      "metadata": {
        "id": "1rD_gTEuMC7S"
      },
      "execution_count": null,
      "outputs": []
    },
    {
      "cell_type": "markdown",
      "source": [
        "### Random Forest"
      ],
      "metadata": {
        "id": "mEAAkcrwMMEn"
      }
    },
    {
      "cell_type": "code",
      "source": [
        "RF_test = RandomForestClassifier(n_estimators=best_results['RandomForest']['params']['rf_n_estimators'],\n",
        "                                 max_depth=best_results['RandomForest']['params']['rf_max_depth'],\n",
        "                                 criterion=best_results['RandomForest']['params']['rf_criterion'])\n",
        "\n",
        "log_model_metrics('RandomForest', RF_test, X_train, y_train, X_test, y_test)"
      ],
      "metadata": {
        "colab": {
          "base_uri": "https://localhost:8080/",
          "height": 748
        },
        "id": "XInP2bMHMKso",
        "outputId": "6b619d9b-20d7-486f-f2f1-52caa967d0ed"
      },
      "execution_count": null,
      "outputs": [
        {
          "output_type": "display_data",
          "data": {
            "text/plain": [
              "<Figure size 640x480 with 2 Axes>"
            ],
            "image/png": "[encoded data removed]"
          },
          "metadata": {}
        },
        {
          "output_type": "stream",
          "name": "stdout",
          "text": [
            "              precision    recall  f1-score   support\n",
            "\n",
            "           3       0.86      0.89      0.88      1094\n",
            "           4       0.69      0.58      0.63       506\n",
            "           5       0.73      0.83      0.78       823\n",
            "           6       0.65      0.61      0.63       305\n",
            "           7       0.67      0.10      0.17        60\n",
            "\n",
            "    accuracy                           0.77      2788\n",
            "   macro avg       0.72      0.60      0.62      2788\n",
            "weighted avg       0.76      0.77      0.76      2788\n",
            "\n",
            "RandomForest train score: 0.9909878070330447\n",
            "RandomForest test score: 0.7693687230989957\n",
            "RandomForest roc auc score: 0.9347635701299613\n"
          ]
        }
      ]
    },
    {
      "cell_type": "markdown",
      "source": [
        "### Gradient Boosting"
      ],
      "metadata": {
        "id": "e1rvNe5FMPSf"
      }
    },
    {
      "cell_type": "code",
      "source": [
        "GBC_test = GradientBoostingClassifier(n_estimators=best_results['GradientBoosting']['params']['gb_n_estimators'],\n",
        "                                      learning_rate=best_results['GradientBoosting']['params']['gb_learning_rate'],\n",
        "                                      max_depth=best_results['GradientBoosting']['params']['gb_max_depth'])\n",
        "\n",
        "log_model_metrics('GradientBoosting', GBC_test, X_train, y_train, X_test, y_test)"
      ],
      "metadata": {
        "colab": {
          "base_uri": "https://localhost:8080/",
          "height": 748
        },
        "id": "9Qsi622rMRfn",
        "outputId": "a6821b93-6a8a-40c1-c831-a696974acb7d"
      },
      "execution_count": null,
      "outputs": [
        {
          "output_type": "display_data",
          "data": {
            "text/plain": [
              "<Figure size 640x480 with 2 Axes>"
            ],
            "image/png": "[encoded data removed]"
          },
          "metadata": {}
        },
        {
          "output_type": "stream",
          "name": "stdout",
          "text": [
            "              precision    recall  f1-score   support\n",
            "\n",
            "           3       0.86      0.88      0.87      1094\n",
            "           4       0.66      0.54      0.59       506\n",
            "           5       0.70      0.81      0.75       823\n",
            "           6       0.64      0.58      0.61       305\n",
            "           7       0.68      0.22      0.33        60\n",
            "\n",
            "    accuracy                           0.75      2788\n",
            "   macro avg       0.71      0.60      0.63      2788\n",
            "weighted avg       0.75      0.75      0.74      2788\n",
            "\n",
            "GradientBoosting train score: 0.7582611768863757\n",
            "GradientBoosting test score: 0.7496413199426112\n",
            "GradientBoosting roc auc score: 0.9227247898109205\n"
          ]
        }
      ]
    },
    {
      "cell_type": "markdown",
      "source": [
        "### Decision Tree"
      ],
      "metadata": {
        "id": "J3TMsbq-WpR3"
      }
    },
    {
      "cell_type": "code",
      "source": [
        "DT_test = DecisionTreeClassifier(max_depth=best_results['DecisionTree']['params']['dt_max_depth'],\n",
        "                                criterion=best_results['DecisionTree']['params']['dt_criterion'],\n",
        "                                splitter=best_results['DecisionTree']['params']['dt_splitter'])\n",
        "\n",
        "log_model_metrics('DecisionTree', DT_test, X_train, y_train, X_test, y_test)"
      ],
      "metadata": {
        "colab": {
          "base_uri": "https://localhost:8080/",
          "height": 748
        },
        "id": "kFxjk4jwWqjq",
        "outputId": "2a38fc85-81bf-418b-d179-87a618588fa4"
      },
      "execution_count": null,
      "outputs": [
        {
          "output_type": "display_data",
          "data": {
            "text/plain": [
              "<Figure size 640x480 with 2 Axes>"
            ],
            "image/png": "[encoded data removed]"
          },
          "metadata": {}
        },
        {
          "output_type": "stream",
          "name": "stdout",
          "text": [
            "              precision    recall  f1-score   support\n",
            "\n",
            "           3       0.85      0.84      0.84      1094\n",
            "           4       0.55      0.47      0.50       506\n",
            "           5       0.67      0.76      0.71       823\n",
            "           6       0.58      0.58      0.58       305\n",
            "           7       0.29      0.13      0.18        60\n",
            "\n",
            "    accuracy                           0.71      2788\n",
            "   macro avg       0.59      0.56      0.56      2788\n",
            "weighted avg       0.70      0.71      0.70      2788\n",
            "\n",
            "DecisionTree train score: 0.7709842728397244\n",
            "DecisionTree test score: 0.7051649928263989\n",
            "DecisionTree roc auc score: 0.8473266647403609\n"
          ]
        }
      ]
    },
    {
      "cell_type": "markdown",
      "source": [
        "### Logistic Regression"
      ],
      "metadata": {
        "id": "PnpdooinMWSn"
      }
    },
    {
      "cell_type": "code",
      "source": [
        "LR_test = LogisticRegression(C=best_results['LR']['params']['C'],\n",
        "                             solver=best_results['LR']['params']['solver'],\n",
        "                             max_iter=best_results['LR']['params']['max_iter'])\n",
        "\n",
        "log_model_metrics('LR', LR_test, X_train, y_train, X_test, y_test)"
      ],
      "metadata": {
        "colab": {
          "base_uri": "https://localhost:8080/",
          "height": 748
        },
        "id": "xmfEgZWMMZpF",
        "outputId": "6a454cb7-46bf-49d2-9a2a-96626b700c14"
      },
      "execution_count": null,
      "outputs": [
        {
          "output_type": "display_data",
          "data": {
            "text/plain": [
              "<Figure size 640x480 with 2 Axes>"
            ],
            "image/png": "[encoded data removed]"
          },
          "metadata": {}
        },
        {
          "output_type": "stream",
          "name": "stdout",
          "text": [
            "              precision    recall  f1-score   support\n",
            "\n",
            "           3       0.78      0.88      0.83      1094\n",
            "           4       0.52      0.28      0.36       506\n",
            "           5       0.63      0.81      0.71       823\n",
            "           6       0.59      0.41      0.48       305\n",
            "           7       0.33      0.07      0.11        60\n",
            "\n",
            "    accuracy                           0.68      2788\n",
            "   macro avg       0.57      0.49      0.50      2788\n",
            "weighted avg       0.66      0.68      0.66      2788\n",
            "\n",
            "LR train score: 0.6909347941332391\n",
            "LR test score: 0.6822094691535151\n",
            "LR roc auc score: 0.8973224392123557\n"
          ]
        }
      ]
    },
    {
      "cell_type": "markdown",
      "source": [
        "## Otimizando o melhor modelo\n",
        "\n",
        "No passo anterior identificamos que o melhor modelo foi o Random Forest. Nessa etapa realizamos uma novas rodadas de treinamentos utilizando o Random Forest e variando mais hiperparâmetros no intuito de encontrar uma configuração ótima de algoritmo."
      ],
      "metadata": {
        "id": "2HClEjipOjDl"
      }
    },
    {
      "cell_type": "code",
      "source": [
        "best_results_opt = {}\n",
        "\n",
        "def objective_opt(trial, classifier_name='RandomForest'):\n",
        "\n",
        "    n_estimators = trial.suggest_int('rf_n_estimators', 100, 400)\n",
        "    max_depth = trial.suggest_int('rf_max_depth', 5, 50)\n",
        "    criterion = trial.suggest_categorical('rf_criterion', ['gini', 'entropy'])\n",
        "    max_features = trial.suggest_categorical('rf_max_features', ['sqrt', 'log2'])\n",
        "    min_samples_split = trial.suggest_int('rf_min_samples_split', 2, 200)\n",
        "    min_samples_leaf = trial.suggest_int('rf_min_samples_leaf', 2, 200)\n",
        "    bootstrap = trial.suggest_categorical('rf_bootstrap', [True, False])\n",
        "\n",
        "    model = RandomForestClassifier(n_estimators=n_estimators, max_depth=max_depth, criterion=criterion, max_features=max_features, min_samples_split=min_samples_split, min_samples_leaf=min_samples_leaf, bootstrap=bootstrap)\n",
        "\n",
        "    # Definir validação cruzada estratificada\n",
        "    kfold = StratifiedKFold(n_splits=5)\n",
        "\n",
        "    # Avaliar o modelo usando validação cruzada\n",
        "    scoring = {\n",
        "        'accuracy': 'accuracy',\n",
        "        'f1': make_scorer(f1_score, average='weighted'),\n",
        "        'precision': make_scorer(precision_score, average='weighted'),\n",
        "        'recall': make_scorer(recall_score, average='weighted')\n",
        "    }\n",
        "\n",
        "    scores = cross_validate(model, X_train, y_train, cv=kfold, scoring=scoring)\n",
        "\n",
        "    accuracy = scores['test_accuracy'].mean()\n",
        "    f1 = scores['test_f1'].mean()\n",
        "    precision = scores['test_precision'].mean()\n",
        "    recall = scores['test_recall'].mean()\n",
        "\n",
        "    # Atualizar os melhores resultados se necessário\n",
        "    if accuracy > best_results_opt['accuracy']:\n",
        "        best_results_opt['accuracy'] = accuracy\n",
        "        best_results_opt['params'] = trial.params\n",
        "        best_results_opt['f1'] = f1\n",
        "        best_results_opt['precision'] = precision\n",
        "        best_results_opt['recall'] = recall\n",
        "\n",
        "    # Log the model and parameters only if training was successful\n",
        "    with mlflow.start_run(nested=True):\n",
        "      # Logging params\n",
        "      mlflow.log_param('classifier', classifier_name)\n",
        "      if classifier_name == 'RandomForest':\n",
        "          mlflow.log_param('rf_n_estimators', n_estimators)\n",
        "          mlflow.log_param('rf_max_depth', max_depth)\n",
        "          mlflow.log_param('rf_criterion', criterion)\n",
        "          mlflow.log_param('rf_max_features', max_features)\n",
        "          mlflow.log_param('rf_min_samples_split', min_samples_split)\n",
        "          mlflow.log_param('rf_min_samples_leaf', min_samples_leaf)\n",
        "          mlflow.log_param('rf_bootstrap', bootstrap)\n",
        "\n",
        "    # Logging metrics\n",
        "      mlflow.log_metric('accuracy', accuracy)\n",
        "      mlflow.log_metric('f1', f1)\n",
        "      mlflow.log_metric('precision', precision)\n",
        "      mlflow.log_metric('recall', recall)\n",
        "\n",
        "      mlflow.sklearn.log_model(model, classifier_name)\n",
        "\n",
        "    return accuracy\n",
        "\n",
        "best_results_opt['accuracy'] = 0.0\n",
        "study = optuna.create_study(direction='maximize')\n",
        "study.optimize(objective_opt, n_trials=250)"
      ],
      "metadata": {
        "colab": {
          "base_uri": "https://localhost:8080/"
        },
        "id": "QLtqw0j-Om-u",
        "outputId": "ac077d69-23a2-4b99-87b4-60eb649e781f"
      },
      "execution_count": null,
      "outputs": [
        {
          "output_type": "stream",
          "name": "stderr",
          "text": [
            "[I 2024-07-10 18:51:51,024] A new study created in memory with name: no-name-192740ab-b74f-4c31-b06f-b59d4fa62b97\n",
            "[I 2024-07-10 18:52:04,400] Trial 0 finished with value: 0.7211540804753915 and parameters: {'rf_n_estimators': 171, 'rf_max_depth': 27, 'rf_criterion': 'gini', 'rf_max_features': 'sqrt', 'rf_min_samples_split': 100, 'rf_min_samples_leaf': 112, 'rf_bootstrap': False}. Best is trial 0 with value: 0.7211540804753915.\n",
            "[I 2024-07-10 18:52:19,675] Trial 1 finished with value: 0.7024231972081368 and parameters: {'rf_n_estimators': 303, 'rf_max_depth': 30, 'rf_criterion': 'entropy', 'rf_max_features': 'log2', 'rf_min_samples_split': 62, 'rf_min_samples_leaf': 138, 'rf_bootstrap': True}. Best is trial 0 with value: 0.7211540804753915.\n",
            "[I 2024-07-10 18:52:32,937] Trial 2 finished with value: 0.7384707551089906 and parameters: {'rf_n_estimators': 290, 'rf_max_depth': 26, 'rf_criterion': 'gini', 'rf_max_features': 'log2', 'rf_min_samples_split': 165, 'rf_min_samples_leaf': 38, 'rf_bootstrap': False}. Best is trial 2 with value: 0.7384707551089906.\n",
            "[I 2024-07-10 18:52:43,414] Trial 3 finished with value: 0.7504864515282451 and parameters: {'rf_n_estimators': 231, 'rf_max_depth': 30, 'rf_criterion': 'gini', 'rf_max_features': 'sqrt', 'rf_min_samples_split': 70, 'rf_min_samples_leaf': 2, 'rf_bootstrap': True}. Best is trial 3 with value: 0.7504864515282451.\n",
            "[I 2024-07-10 18:52:55,886] Trial 4 finished with value: 0.7225686015377742 and parameters: {'rf_n_estimators': 288, 'rf_max_depth': 19, 'rf_criterion': 'entropy', 'rf_max_features': 'log2', 'rf_min_samples_split': 35, 'rf_min_samples_leaf': 109, 'rf_bootstrap': False}. Best is trial 3 with value: 0.7504864515282451.\n",
            "[I 2024-07-10 18:53:10,294] Trial 5 finished with value: 0.6893449306876869 and parameters: {'rf_n_estimators': 389, 'rf_max_depth': 19, 'rf_criterion': 'gini', 'rf_max_features': 'log2', 'rf_min_samples_split': 114, 'rf_min_samples_leaf': 200, 'rf_bootstrap': True}. Best is trial 3 with value: 0.7504864515282451.\n",
            "[I 2024-07-10 18:53:21,509] Trial 6 finished with value: 0.7170904762351088 and parameters: {'rf_n_estimators': 149, 'rf_max_depth': 15, 'rf_criterion': 'entropy', 'rf_max_features': 'sqrt', 'rf_min_samples_split': 93, 'rf_min_samples_leaf': 94, 'rf_bootstrap': True}. Best is trial 3 with value: 0.7504864515282451.\n",
            "[I 2024-07-10 18:53:38,393] Trial 7 finished with value: 0.7167358696297408 and parameters: {'rf_n_estimators': 354, 'rf_max_depth': 37, 'rf_criterion': 'entropy', 'rf_max_features': 'log2', 'rf_min_samples_split': 53, 'rf_min_samples_leaf': 143, 'rf_bootstrap': False}. Best is trial 3 with value: 0.7504864515282451.\n",
            "[I 2024-07-10 18:53:51,377] Trial 8 finished with value: 0.7029527639007351 and parameters: {'rf_n_estimators': 327, 'rf_max_depth': 31, 'rf_criterion': 'entropy', 'rf_max_features': 'sqrt', 'rf_min_samples_split': 126, 'rf_min_samples_leaf': 153, 'rf_bootstrap': True}. Best is trial 3 with value: 0.7504864515282451.\n",
            "[I 2024-07-10 18:54:11,456] Trial 9 finished with value: 0.7282234052856692 and parameters: {'rf_n_estimators': 366, 'rf_max_depth': 12, 'rf_criterion': 'entropy', 'rf_max_features': 'sqrt', 'rf_min_samples_split': 173, 'rf_min_samples_leaf': 86, 'rf_bootstrap': False}. Best is trial 3 with value: 0.7504864515282451.\n",
            "[I 2024-07-10 18:54:26,187] Trial 10 finished with value: 0.761265711259619 and parameters: {'rf_n_estimators': 212, 'rf_max_depth': 47, 'rf_criterion': 'gini', 'rf_max_features': 'sqrt', 'rf_min_samples_split': 11, 'rf_min_samples_leaf': 9, 'rf_bootstrap': True}. Best is trial 10 with value: 0.761265711259619.\n",
            "[I 2024-07-10 18:54:39,650] Trial 11 finished with value: 0.7658601319074088 and parameters: {'rf_n_estimators': 210, 'rf_max_depth': 49, 'rf_criterion': 'gini', 'rf_max_features': 'sqrt', 'rf_min_samples_split': 5, 'rf_min_samples_leaf': 5, 'rf_bootstrap': True}. Best is trial 11 with value: 0.7658601319074088.\n",
            "[I 2024-07-10 18:54:54,843] Trial 12 finished with value: 0.7702780303243323 and parameters: {'rf_n_estimators': 214, 'rf_max_depth': 48, 'rf_criterion': 'gini', 'rf_max_features': 'sqrt', 'rf_min_samples_split': 6, 'rf_min_samples_leaf': 4, 'rf_bootstrap': True}. Best is trial 12 with value: 0.7702780303243323.\n",
            "[I 2024-07-10 18:55:00,986] Trial 13 finished with value: 0.7344068384399808 and parameters: {'rf_n_estimators': 100, 'rf_max_depth': 49, 'rf_criterion': 'gini', 'rf_max_features': 'sqrt', 'rf_min_samples_split': 2, 'rf_min_samples_leaf': 48, 'rf_bootstrap': True}. Best is trial 12 with value: 0.7702780303243323.\n",
            "[I 2024-07-10 18:55:13,602] Trial 14 finished with value: 0.7344076195117989 and parameters: {'rf_n_estimators': 191, 'rf_max_depth': 42, 'rf_criterion': 'gini', 'rf_max_features': 'sqrt', 'rf_min_samples_split': 29, 'rf_min_samples_leaf': 48, 'rf_bootstrap': True}. Best is trial 12 with value: 0.7702780303243323.\n",
            "[I 2024-07-10 18:55:28,051] Trial 15 finished with value: 0.7416519044093066 and parameters: {'rf_n_estimators': 251, 'rf_max_depth': 41, 'rf_criterion': 'gini', 'rf_max_features': 'sqrt', 'rf_min_samples_split': 30, 'rf_min_samples_leaf': 29, 'rf_bootstrap': True}. Best is trial 12 with value: 0.7702780303243323.\n",
            "[I 2024-07-10 18:55:35,936] Trial 16 finished with value: 0.7225681328946834 and parameters: {'rf_n_estimators': 132, 'rf_max_depth': 50, 'rf_criterion': 'gini', 'rf_max_features': 'sqrt', 'rf_min_samples_split': 5, 'rf_min_samples_leaf': 78, 'rf_bootstrap': True}. Best is trial 12 with value: 0.7702780303243323.\n",
            "[I 2024-07-10 18:55:49,028] Trial 17 finished with value: 0.7273386071302484 and parameters: {'rf_n_estimators': 256, 'rf_max_depth': 43, 'rf_criterion': 'gini', 'rf_max_features': 'sqrt', 'rf_min_samples_split': 144, 'rf_min_samples_leaf': 64, 'rf_bootstrap': True}. Best is trial 12 with value: 0.7702780303243323.\n",
            "[I 2024-07-10 18:56:03,727] Trial 18 finished with value: 0.740943940913479 and parameters: {'rf_n_estimators': 211, 'rf_max_depth': 36, 'rf_criterion': 'gini', 'rf_max_features': 'sqrt', 'rf_min_samples_split': 81, 'rf_min_samples_leaf': 25, 'rf_bootstrap': True}. Best is trial 12 with value: 0.7702780303243323.\n",
            "[I 2024-07-10 18:56:17,420] Trial 19 finished with value: 0.7197417464140993 and parameters: {'rf_n_estimators': 177, 'rf_max_depth': 6, 'rf_criterion': 'gini', 'rf_max_features': 'sqrt', 'rf_min_samples_split': 192, 'rf_min_samples_leaf': 16, 'rf_bootstrap': True}. Best is trial 12 with value: 0.7702780303243323.\n",
            "[I 2024-07-10 18:56:28,591] Trial 20 finished with value: 0.7291060164399996 and parameters: {'rf_n_estimators': 262, 'rf_max_depth': 37, 'rf_criterion': 'gini', 'rf_max_features': 'sqrt', 'rf_min_samples_split': 48, 'rf_min_samples_leaf': 63, 'rf_bootstrap': True}. Best is trial 12 with value: 0.7702780303243323.\n",
            "[I 2024-07-10 18:56:41,698] Trial 21 finished with value: 0.7676267601453419 and parameters: {'rf_n_estimators': 215, 'rf_max_depth': 46, 'rf_criterion': 'gini', 'rf_max_features': 'sqrt', 'rf_min_samples_split': 12, 'rf_min_samples_leaf': 4, 'rf_bootstrap': True}. Best is trial 12 with value: 0.7702780303243323.\n",
            "[I 2024-07-10 18:56:55,316] Trial 22 finished with value: 0.7640924101689304 and parameters: {'rf_n_estimators': 218, 'rf_max_depth': 45, 'rf_criterion': 'gini', 'rf_max_features': 'sqrt', 'rf_min_samples_split': 22, 'rf_min_samples_leaf': 3, 'rf_bootstrap': True}. Best is trial 12 with value: 0.7702780303243323.\n",
            "[I 2024-07-10 18:57:07,382] Trial 23 finished with value: 0.7418287390688999 and parameters: {'rf_n_estimators': 194, 'rf_max_depth': 46, 'rf_criterion': 'gini', 'rf_max_features': 'sqrt', 'rf_min_samples_split': 44, 'rf_min_samples_leaf': 27, 'rf_bootstrap': True}. Best is trial 12 with value: 0.7702780303243323.\n",
            "[I 2024-07-10 18:57:18,850] Trial 24 finished with value: 0.7374100595801582 and parameters: {'rf_n_estimators': 151, 'rf_max_depth': 40, 'rf_criterion': 'gini', 'rf_max_features': 'sqrt', 'rf_min_samples_split': 17, 'rf_min_samples_leaf': 42, 'rf_bootstrap': True}. Best is trial 12 with value: 0.7702780303243323.\n",
            "[I 2024-07-10 18:57:33,341] Trial 25 finished with value: 0.7527851458885941 and parameters: {'rf_n_estimators': 235, 'rf_max_depth': 50, 'rf_criterion': 'gini', 'rf_max_features': 'sqrt', 'rf_min_samples_split': 3, 'rf_min_samples_leaf': 17, 'rf_bootstrap': True}. Best is trial 12 with value: 0.7702780303243323.\n",
            "[I 2024-07-10 18:57:50,095] Trial 26 finished with value: 0.7377641975424355 and parameters: {'rf_n_estimators': 273, 'rf_max_depth': 45, 'rf_criterion': 'gini', 'rf_max_features': 'log2', 'rf_min_samples_split': 22, 'rf_min_samples_leaf': 62, 'rf_bootstrap': False}. Best is trial 12 with value: 0.7702780303243323.\n",
            "[I 2024-07-10 18:57:57,877] Trial 27 finished with value: 0.6965910901575578 and parameters: {'rf_n_estimators': 193, 'rf_max_depth': 34, 'rf_criterion': 'gini', 'rf_max_features': 'sqrt', 'rf_min_samples_split': 41, 'rf_min_samples_leaf': 194, 'rf_bootstrap': True}. Best is trial 12 with value: 0.7702780303243323.\n",
            "[I 2024-07-10 18:58:11,586] Trial 28 finished with value: 0.7460691779687758 and parameters: {'rf_n_estimators': 235, 'rf_max_depth': 39, 'rf_criterion': 'gini', 'rf_max_features': 'sqrt', 'rf_min_samples_split': 69, 'rf_min_samples_leaf': 26, 'rf_bootstrap': True}. Best is trial 12 with value: 0.7702780303243323.\n",
            "[I 2024-07-10 18:58:20,446] Trial 29 finished with value: 0.7211529869748464 and parameters: {'rf_n_estimators': 161, 'rf_max_depth': 47, 'rf_criterion': 'gini', 'rf_max_features': 'sqrt', 'rf_min_samples_split': 18, 'rf_min_samples_leaf': 124, 'rf_bootstrap': False}. Best is trial 12 with value: 0.7702780303243323.\n",
            "[I 2024-07-10 18:58:26,807] Trial 30 finished with value: 0.7483658415423982 and parameters: {'rf_n_estimators': 123, 'rf_max_depth': 25, 'rf_criterion': 'gini', 'rf_max_features': 'sqrt', 'rf_min_samples_split': 86, 'rf_min_samples_leaf': 2, 'rf_bootstrap': True}. Best is trial 12 with value: 0.7702780303243323.\n",
            "[I 2024-07-10 18:58:38,105] Trial 31 finished with value: 0.7541987296647952 and parameters: {'rf_n_estimators': 222, 'rf_max_depth': 44, 'rf_criterion': 'gini', 'rf_max_features': 'sqrt', 'rf_min_samples_split': 22, 'rf_min_samples_leaf': 14, 'rf_bootstrap': True}. Best is trial 12 with value: 0.7702780303243323.\n",
            "[I 2024-07-10 18:58:47,544] Trial 32 finished with value: 0.7510171117213885 and parameters: {'rf_n_estimators': 206, 'rf_max_depth': 47, 'rf_criterion': 'gini', 'rf_max_features': 'sqrt', 'rf_min_samples_split': 57, 'rf_min_samples_leaf': 5, 'rf_bootstrap': True}. Best is trial 12 with value: 0.7702780303243323.\n",
            "[I 2024-07-10 18:58:55,931] Trial 33 finished with value: 0.7375884563833874 and parameters: {'rf_n_estimators': 174, 'rf_max_depth': 44, 'rf_criterion': 'gini', 'rf_max_features': 'sqrt', 'rf_min_samples_split': 33, 'rf_min_samples_leaf': 34, 'rf_bootstrap': True}. Best is trial 12 with value: 0.7702780303243323.\n",
            "[I 2024-07-10 18:59:07,277] Trial 34 finished with value: 0.7543754081100249 and parameters: {'rf_n_estimators': 241, 'rf_max_depth': 50, 'rf_criterion': 'gini', 'rf_max_features': 'log2', 'rf_min_samples_split': 14, 'rf_min_samples_leaf': 19, 'rf_bootstrap': True}. Best is trial 12 with value: 0.7702780303243323.\n",
            "[I 2024-07-10 18:59:19,112] Trial 35 finished with value: 0.7310494793375262 and parameters: {'rf_n_estimators': 311, 'rf_max_depth': 40, 'rf_criterion': 'entropy', 'rf_max_features': 'sqrt', 'rf_min_samples_split': 2, 'rf_min_samples_leaf': 52, 'rf_bootstrap': True}. Best is trial 12 with value: 0.7702780303243323.\n",
            "[I 2024-07-10 18:59:36,648] Trial 36 finished with value: 0.7711618911935715 and parameters: {'rf_n_estimators': 279, 'rf_max_depth': 47, 'rf_criterion': 'gini', 'rf_max_features': 'log2', 'rf_min_samples_split': 26, 'rf_min_samples_leaf': 4, 'rf_bootstrap': False}. Best is trial 36 with value: 0.7711618911935715.\n",
            "[I 2024-07-10 18:59:49,895] Trial 37 finished with value: 0.746777297678967 and parameters: {'rf_n_estimators': 280, 'rf_max_depth': 48, 'rf_criterion': 'gini', 'rf_max_features': 'log2', 'rf_min_samples_split': 38, 'rf_min_samples_leaf': 37, 'rf_bootstrap': False}. Best is trial 36 with value: 0.7711618911935715.\n",
            "[I 2024-07-10 19:00:01,685] Trial 38 finished with value: 0.7103752893871085 and parameters: {'rf_n_estimators': 305, 'rf_max_depth': 34, 'rf_criterion': 'entropy', 'rf_max_features': 'log2', 'rf_min_samples_split': 70, 'rf_min_samples_leaf': 176, 'rf_bootstrap': False}. Best is trial 36 with value: 0.7711618911935715.\n",
            "[I 2024-07-10 19:00:15,630] Trial 39 finished with value: 0.7513706248262115 and parameters: {'rf_n_estimators': 266, 'rf_max_depth': 22, 'rf_criterion': 'gini', 'rf_max_features': 'log2', 'rf_min_samples_split': 104, 'rf_min_samples_leaf': 15, 'rf_bootstrap': False}. Best is trial 36 with value: 0.7711618911935715.\n",
            "[I 2024-07-10 19:00:33,249] Trial 40 finished with value: 0.7474830741737041 and parameters: {'rf_n_estimators': 324, 'rf_max_depth': 42, 'rf_criterion': 'entropy', 'rf_max_features': 'log2', 'rf_min_samples_split': 62, 'rf_min_samples_leaf': 37, 'rf_bootstrap': False}. Best is trial 36 with value: 0.7711618911935715.\n",
            "[I 2024-07-10 19:00:48,002] Trial 41 finished with value: 0.772928050788414 and parameters: {'rf_n_estimators': 218, 'rf_max_depth': 46, 'rf_criterion': 'gini', 'rf_max_features': 'log2', 'rf_min_samples_split': 26, 'rf_min_samples_leaf': 2, 'rf_bootstrap': False}. Best is trial 41 with value: 0.772928050788414.\n",
            "[I 2024-07-10 19:01:01,748] Trial 42 finished with value: 0.7743422594220694 and parameters: {'rf_n_estimators': 199, 'rf_max_depth': 48, 'rf_criterion': 'gini', 'rf_max_features': 'log2', 'rf_min_samples_split': 27, 'rf_min_samples_leaf': 2, 'rf_bootstrap': False}. Best is trial 42 with value: 0.7743422594220694.\n",
            "[I 2024-07-10 19:01:13,197] Trial 43 finished with value: 0.7582626463338051 and parameters: {'rf_n_estimators': 184, 'rf_max_depth': 46, 'rf_criterion': 'gini', 'rf_max_features': 'log2', 'rf_min_samples_split': 29, 'rf_min_samples_leaf': 20, 'rf_bootstrap': False}. Best is trial 42 with value: 0.7743422594220694.\n",
            "[I 2024-07-10 19:01:29,282] Trial 44 finished with value: 0.7582624901194415 and parameters: {'rf_n_estimators': 294, 'rf_max_depth': 43, 'rf_criterion': 'gini', 'rf_max_features': 'log2', 'rf_min_samples_split': 53, 'rf_min_samples_leaf': 11, 'rf_bootstrap': False}. Best is trial 42 with value: 0.7743422594220694.\n",
            "[I 2024-07-10 19:01:46,217] Trial 45 finished with value: 0.7778756721122994 and parameters: {'rf_n_estimators': 248, 'rf_max_depth': 38, 'rf_criterion': 'gini', 'rf_max_features': 'log2', 'rf_min_samples_split': 13, 'rf_min_samples_leaf': 2, 'rf_bootstrap': False}. Best is trial 45 with value: 0.7778756721122994.\n",
            "[I 2024-07-10 19:01:59,740] Trial 46 finished with value: 0.7545516179121637 and parameters: {'rf_n_estimators': 245, 'rf_max_depth': 31, 'rf_criterion': 'gini', 'rf_max_features': 'log2', 'rf_min_samples_split': 36, 'rf_min_samples_leaf': 24, 'rf_bootstrap': False}. Best is trial 45 with value: 0.7778756721122994.\n",
            "[I 2024-07-10 19:02:13,270] Trial 47 finished with value: 0.7227446551255495 and parameters: {'rf_n_estimators': 287, 'rf_max_depth': 38, 'rf_criterion': 'entropy', 'rf_max_features': 'log2', 'rf_min_samples_split': 127, 'rf_min_samples_leaf': 108, 'rf_bootstrap': False}. Best is trial 45 with value: 0.7778756721122994.\n",
            "[I 2024-07-10 19:02:26,754] Trial 48 finished with value: 0.7646233827908009 and parameters: {'rf_n_estimators': 226, 'rf_max_depth': 28, 'rf_criterion': 'gini', 'rf_max_features': 'log2', 'rf_min_samples_split': 27, 'rf_min_samples_leaf': 10, 'rf_bootstrap': False}. Best is trial 45 with value: 0.7778756721122994.\n",
            "[I 2024-07-10 19:02:45,754] Trial 49 finished with value: 0.7510175803644794 and parameters: {'rf_n_estimators': 399, 'rf_max_depth': 34, 'rf_criterion': 'gini', 'rf_max_features': 'log2', 'rf_min_samples_split': 46, 'rf_min_samples_leaf': 31, 'rf_bootstrap': False}. Best is trial 45 with value: 0.7778756721122994.\n",
            "[I 2024-07-10 19:02:56,681] Trial 50 finished with value: 0.7335240710712867 and parameters: {'rf_n_estimators': 252, 'rf_max_depth': 41, 'rf_criterion': 'gini', 'rf_max_features': 'log2', 'rf_min_samples_split': 13, 'rf_min_samples_leaf': 78, 'rf_bootstrap': False}. Best is trial 45 with value: 0.7778756721122994.\n",
            "[I 2024-07-10 19:03:09,495] Trial 51 finished with value: 0.7716916141005333 and parameters: {'rf_n_estimators': 202, 'rf_max_depth': 48, 'rf_criterion': 'gini', 'rf_max_features': 'log2', 'rf_min_samples_split': 10, 'rf_min_samples_leaf': 8, 'rf_bootstrap': False}. Best is trial 45 with value: 0.7778756721122994.\n",
            "[I 2024-07-10 19:03:20,947] Trial 52 finished with value: 0.7672737156836097 and parameters: {'rf_n_estimators': 167, 'rf_max_depth': 48, 'rf_criterion': 'gini', 'rf_max_features': 'log2', 'rf_min_samples_split': 13, 'rf_min_samples_leaf': 11, 'rf_bootstrap': False}. Best is trial 45 with value: 0.7778756721122994.\n",
            "[I 2024-07-10 19:03:32,965] Trial 53 finished with value: 0.7577322985693888 and parameters: {'rf_n_estimators': 201, 'rf_max_depth': 48, 'rf_criterion': 'gini', 'rf_max_features': 'log2', 'rf_min_samples_split': 27, 'rf_min_samples_leaf': 21, 'rf_bootstrap': False}. Best is trial 45 with value: 0.7778756721122994.\n",
            "[I 2024-07-10 19:03:47,604] Trial 54 finished with value: 0.7688639779050404 and parameters: {'rf_n_estimators': 233, 'rf_max_depth': 50, 'rf_criterion': 'gini', 'rf_max_features': 'log2', 'rf_min_samples_split': 36, 'rf_min_samples_leaf': 2, 'rf_bootstrap': False}. Best is trial 45 with value: 0.7778756721122994.\n",
            "[I 2024-07-10 19:03:58,875] Trial 55 finished with value: 0.7699249858626002 and parameters: {'rf_n_estimators': 181, 'rf_max_depth': 44, 'rf_criterion': 'gini', 'rf_max_features': 'log2', 'rf_min_samples_split': 11, 'rf_min_samples_leaf': 10, 'rf_bootstrap': False}. Best is trial 45 with value: 0.7778756721122994.\n",
            "[I 2024-07-10 19:04:08,553] Trial 56 finished with value: 0.7411212442161631 and parameters: {'rf_n_estimators': 200, 'rf_max_depth': 42, 'rf_criterion': 'gini', 'rf_max_features': 'log2', 'rf_min_samples_split': 7, 'rf_min_samples_leaf': 54, 'rf_bootstrap': False}. Best is trial 45 with value: 0.7778756721122994.\n",
            "[I 2024-07-10 19:04:22,951] Trial 57 finished with value: 0.7435963045930147 and parameters: {'rf_n_estimators': 259, 'rf_max_depth': 48, 'rf_criterion': 'entropy', 'rf_max_features': 'log2', 'rf_min_samples_split': 21, 'rf_min_samples_leaf': 42, 'rf_bootstrap': False}. Best is trial 45 with value: 0.7778756721122994.\n",
            "[I 2024-07-10 19:04:35,108] Trial 58 finished with value: 0.7524317889981348 and parameters: {'rf_n_estimators': 223, 'rf_max_depth': 45, 'rf_criterion': 'gini', 'rf_max_features': 'log2', 'rf_min_samples_split': 49, 'rf_min_samples_leaf': 30, 'rf_bootstrap': False}. Best is trial 45 with value: 0.7778756721122994.\n",
            "[I 2024-07-10 19:04:51,737] Trial 59 finished with value: 0.7716922389579877 and parameters: {'rf_n_estimators': 276, 'rf_max_depth': 46, 'rf_criterion': 'gini', 'rf_max_features': 'log2', 'rf_min_samples_split': 8, 'rf_min_samples_leaf': 9, 'rf_bootstrap': False}. Best is trial 45 with value: 0.7778756721122994.\n",
            "[I 2024-07-10 19:05:07,300] Trial 60 finished with value: 0.7398843388851917 and parameters: {'rf_n_estimators': 353, 'rf_max_depth': 36, 'rf_criterion': 'gini', 'rf_max_features': 'log2', 'rf_min_samples_split': 157, 'rf_min_samples_leaf': 21, 'rf_bootstrap': False}. Best is trial 45 with value: 0.7778756721122994.\n",
            "[I 2024-07-10 19:05:23,775] Trial 61 finished with value: 0.7693944818838203 and parameters: {'rf_n_estimators': 275, 'rf_max_depth': 46, 'rf_criterion': 'gini', 'rf_max_features': 'log2', 'rf_min_samples_split': 6, 'rf_min_samples_leaf': 9, 'rf_bootstrap': False}. Best is trial 45 with value: 0.7778756721122994.\n",
            "[I 2024-07-10 19:05:39,710] Trial 62 finished with value: 0.7746951476694379 and parameters: {'rf_n_estimators': 245, 'rf_max_depth': 49, 'rf_criterion': 'gini', 'rf_max_features': 'log2', 'rf_min_samples_split': 22, 'rf_min_samples_leaf': 3, 'rf_bootstrap': False}. Best is trial 45 with value: 0.7778756721122994.\n",
            "[I 2024-07-10 19:05:57,035] Trial 63 finished with value: 0.7752254954338541 and parameters: {'rf_n_estimators': 271, 'rf_max_depth': 49, 'rf_criterion': 'gini', 'rf_max_features': 'log2', 'rf_min_samples_split': 24, 'rf_min_samples_leaf': 2, 'rf_bootstrap': False}. Best is trial 45 with value: 0.7778756721122994.\n",
            "[I 2024-07-10 19:06:11,561] Trial 64 finished with value: 0.761090282529298 and parameters: {'rf_n_estimators': 247, 'rf_max_depth': 50, 'rf_criterion': 'gini', 'rf_max_features': 'log2', 'rf_min_samples_split': 21, 'rf_min_samples_leaf': 15, 'rf_bootstrap': False}. Best is trial 45 with value: 0.7778756721122994.\n",
            "[I 2024-07-10 19:06:27,153] Trial 65 finished with value: 0.7653304090004467 and parameters: {'rf_n_estimators': 265, 'rf_max_depth': 45, 'rf_criterion': 'gini', 'rf_max_features': 'log2', 'rf_min_samples_split': 33, 'rf_min_samples_leaf': 9, 'rf_bootstrap': False}. Best is trial 45 with value: 0.7778756721122994.\n",
            "[I 2024-07-10 19:06:37,482] Trial 66 finished with value: 0.7186804260278123 and parameters: {'rf_n_estimators': 241, 'rf_max_depth': 15, 'rf_criterion': 'gini', 'rf_max_features': 'log2', 'rf_min_samples_split': 41, 'rf_min_samples_leaf': 149, 'rf_bootstrap': False}. Best is trial 45 with value: 0.7778756721122994.\n",
            "[I 2024-07-10 19:06:49,881] Trial 67 finished with value: 0.7547292336435751 and parameters: {'rf_n_estimators': 229, 'rf_max_depth': 49, 'rf_criterion': 'gini', 'rf_max_features': 'log2', 'rf_min_samples_split': 15, 'rf_min_samples_leaf': 25, 'rf_bootstrap': False}. Best is trial 45 with value: 0.7778756721122994.\n",
            "[I 2024-07-10 19:07:00,689] Trial 68 finished with value: 0.721683959596717 and parameters: {'rf_n_estimators': 298, 'rf_max_depth': 44, 'rf_criterion': 'gini', 'rf_max_features': 'log2', 'rf_min_samples_split': 10, 'rf_min_samples_leaf': 127, 'rf_bootstrap': False}. Best is trial 45 with value: 0.7778756721122994.\n",
            "[I 2024-07-10 19:07:15,148] Trial 69 finished with value: 0.7754020176647203 and parameters: {'rf_n_estimators': 209, 'rf_max_depth': 42, 'rf_criterion': 'gini', 'rf_max_features': 'log2', 'rf_min_samples_split': 20, 'rf_min_samples_leaf': 2, 'rf_bootstrap': False}. Best is trial 45 with value: 0.7778756721122994.\n",
            "[I 2024-07-10 19:07:28,009] Trial 70 finished with value: 0.7584394809933984 and parameters: {'rf_n_estimators': 214, 'rf_max_depth': 39, 'rf_criterion': 'gini', 'rf_max_features': 'log2', 'rf_min_samples_split': 19, 'rf_min_samples_leaf': 16, 'rf_bootstrap': False}. Best is trial 45 with value: 0.7778756721122994.\n",
            "[I 2024-07-10 19:07:40,404] Trial 71 finished with value: 0.7676272287884326 and parameters: {'rf_n_estimators': 190, 'rf_max_depth': 43, 'rf_criterion': 'gini', 'rf_max_features': 'log2', 'rf_min_samples_split': 28, 'rf_min_samples_leaf': 8, 'rf_bootstrap': False}. Best is trial 45 with value: 0.7778756721122994.\n",
            "[I 2024-07-10 19:07:55,213] Trial 72 finished with value: 0.7794665591911845 and parameters: {'rf_n_estimators': 202, 'rf_max_depth': 49, 'rf_criterion': 'gini', 'rf_max_features': 'log2', 'rf_min_samples_split': 8, 'rf_min_samples_leaf': 2, 'rf_bootstrap': False}. Best is trial 72 with value: 0.7794665591911845.\n",
            "[I 2024-07-10 19:08:11,641] Trial 73 finished with value: 0.7731048854480072 and parameters: {'rf_n_estimators': 254, 'rf_max_depth': 46, 'rf_criterion': 'gini', 'rf_max_features': 'log2', 'rf_min_samples_split': 24, 'rf_min_samples_leaf': 2, 'rf_bootstrap': False}. Best is trial 72 with value: 0.7794665591911845.\n",
            "[I 2024-07-10 19:08:26,099] Trial 74 finished with value: 0.7683339425693514 and parameters: {'rf_n_estimators': 236, 'rf_max_depth': 49, 'rf_criterion': 'gini', 'rf_max_features': 'log2', 'rf_min_samples_split': 41, 'rf_min_samples_leaf': 4, 'rf_bootstrap': False}. Best is trial 72 with value: 0.7794665591911845.\n",
            "[I 2024-07-10 19:08:40,702] Trial 75 finished with value: 0.7609125105835232 and parameters: {'rf_n_estimators': 256, 'rf_max_depth': 47, 'rf_criterion': 'gini', 'rf_max_features': 'log2', 'rf_min_samples_split': 25, 'rf_min_samples_leaf': 16, 'rf_bootstrap': False}. Best is trial 72 with value: 0.7794665591911845.\n",
            "[I 2024-07-10 19:08:54,698] Trial 76 finished with value: 0.7692181158673177 and parameters: {'rf_n_estimators': 212, 'rf_max_depth': 41, 'rf_criterion': 'gini', 'rf_max_features': 'log2', 'rf_min_samples_split': 32, 'rf_min_samples_leaf': 2, 'rf_bootstrap': False}. Best is trial 72 with value: 0.7794665591911845.\n",
            "[I 2024-07-10 19:09:09,354] Trial 77 finished with value: 0.7533145563668289 and parameters: {'rf_n_estimators': 224, 'rf_max_depth': 49, 'rf_criterion': 'entropy', 'rf_max_features': 'log2', 'rf_min_samples_split': 18, 'rf_min_samples_leaf': 22, 'rf_bootstrap': False}. Best is trial 72 with value: 0.7794665591911845.\n",
            "[I 2024-07-10 19:09:24,177] Trial 78 finished with value: 0.7621497283432218 and parameters: {'rf_n_estimators': 249, 'rf_max_depth': 43, 'rf_criterion': 'gini', 'rf_max_features': 'log2', 'rf_min_samples_split': 62, 'rf_min_samples_leaf': 2, 'rf_bootstrap': False}. Best is trial 72 with value: 0.7794665591911845.\n",
            "[I 2024-07-10 19:09:32,174] Trial 79 finished with value: 0.7515474594858048 and parameters: {'rf_n_estimators': 147, 'rf_max_depth': 45, 'rf_criterion': 'gini', 'rf_max_features': 'log2', 'rf_min_samples_split': 2, 'rf_min_samples_leaf': 30, 'rf_bootstrap': False}. Best is trial 72 with value: 0.7794665591911845.\n",
            "[I 2024-07-10 19:09:47,043] Trial 80 finished with value: 0.760029430786102 and parameters: {'rf_n_estimators': 268, 'rf_max_depth': 50, 'rf_criterion': 'gini', 'rf_max_features': 'log2', 'rf_min_samples_split': 52, 'rf_min_samples_leaf': 13, 'rf_bootstrap': False}. Best is trial 72 with value: 0.7794665591911845.\n",
            "[I 2024-07-10 19:10:04,827] Trial 81 finished with value: 0.7708082218743849 and parameters: {'rf_n_estimators': 288, 'rf_max_depth': 46, 'rf_criterion': 'gini', 'rf_max_features': 'log2', 'rf_min_samples_split': 17, 'rf_min_samples_leaf': 7, 'rf_bootstrap': False}. Best is trial 72 with value: 0.7794665591911845.\n",
            "[I 2024-07-10 19:10:22,133] Trial 82 finished with value: 0.7619739871841736 and parameters: {'rf_n_estimators': 284, 'rf_max_depth': 47, 'rf_criterion': 'gini', 'rf_max_features': 'log2', 'rf_min_samples_split': 7, 'rf_min_samples_leaf': 17, 'rf_bootstrap': False}. Best is trial 72 with value: 0.7794665591911845.\n",
            "[I 2024-07-10 19:10:38,818] Trial 83 finished with value: 0.7676283222889778 and parameters: {'rf_n_estimators': 270, 'rf_max_depth': 46, 'rf_criterion': 'gini', 'rf_max_features': 'log2', 'rf_min_samples_split': 23, 'rf_min_samples_leaf': 12, 'rf_bootstrap': False}. Best is trial 72 with value: 0.7794665591911845.\n",
            "[I 2024-07-10 19:10:50,322] Trial 84 finished with value: 0.7549045061595324 and parameters: {'rf_n_estimators': 218, 'rf_max_depth': 8, 'rf_criterion': 'gini', 'rf_max_features': 'log2', 'rf_min_samples_split': 30, 'rf_min_samples_leaf': 7, 'rf_bootstrap': False}. Best is trial 72 with value: 0.7794665591911845.\n",
            "[I 2024-07-10 19:11:01,649] Trial 85 finished with value: 0.7287523471208132 and parameters: {'rf_n_estimators': 239, 'rf_max_depth': 44, 'rf_criterion': 'gini', 'rf_max_features': 'log2', 'rf_min_samples_split': 37, 'rf_min_samples_leaf': 92, 'rf_bootstrap': False}. Best is trial 72 with value: 0.7794665591911845.\n",
            "[I 2024-07-10 19:11:18,877] Trial 86 finished with value: 0.7778755158979358 and parameters: {'rf_n_estimators': 256, 'rf_max_depth': 49, 'rf_criterion': 'gini', 'rf_max_features': 'log2', 'rf_min_samples_split': 16, 'rf_min_samples_leaf': 2, 'rf_bootstrap': False}. Best is trial 72 with value: 0.7794665591911845.\n",
            "[I 2024-07-10 19:11:30,745] Trial 87 finished with value: 0.7529616681194603 and parameters: {'rf_n_estimators': 207, 'rf_max_depth': 49, 'rf_criterion': 'gini', 'rf_max_features': 'log2', 'rf_min_samples_split': 79, 'rf_min_samples_leaf': 19, 'rf_bootstrap': False}. Best is trial 72 with value: 0.7794665591911845.\n",
            "[I 2024-07-10 19:11:44,180] Trial 88 finished with value: 0.7773470427058827 and parameters: {'rf_n_estimators': 187, 'rf_max_depth': 42, 'rf_criterion': 'gini', 'rf_max_features': 'log2', 'rf_min_samples_split': 16, 'rf_min_samples_leaf': 2, 'rf_bootstrap': False}. Best is trial 72 with value: 0.7794665591911845.\n",
            "[I 2024-07-10 19:11:54,996] Trial 89 finished with value: 0.7543754081100249 and parameters: {'rf_n_estimators': 168, 'rf_max_depth': 40, 'rf_criterion': 'entropy', 'rf_max_features': 'log2', 'rf_min_samples_split': 15, 'rf_min_samples_leaf': 25, 'rf_bootstrap': False}. Best is trial 72 with value: 0.7794665591911845.\n",
            "[I 2024-07-10 19:12:04,506] Trial 90 finished with value: 0.7382943890924881 and parameters: {'rf_n_estimators': 189, 'rf_max_depth': 42, 'rf_criterion': 'gini', 'rf_max_features': 'log2', 'rf_min_samples_split': 200, 'rf_min_samples_leaf': 13, 'rf_bootstrap': False}. Best is trial 72 with value: 0.7794665591911845.\n",
            "[I 2024-07-10 19:12:18,270] Trial 91 finished with value: 0.7745183130098446 and parameters: {'rf_n_estimators': 197, 'rf_max_depth': 48, 'rf_criterion': 'gini', 'rf_max_features': 'log2', 'rf_min_samples_split': 24, 'rf_min_samples_leaf': 2, 'rf_bootstrap': False}. Best is trial 72 with value: 0.7794665591911845.\n",
            "[I 2024-07-10 19:12:31,572] Trial 92 finished with value: 0.7725748501123182 and parameters: {'rf_n_estimators': 199, 'rf_max_depth': 48, 'rf_criterion': 'gini', 'rf_max_features': 'log2', 'rf_min_samples_split': 22, 'rf_min_samples_leaf': 6, 'rf_bootstrap': False}. Best is trial 72 with value: 0.7794665591911845.\n",
            "[I 2024-07-10 19:12:45,188] Trial 93 finished with value: 0.7746951476694379 and parameters: {'rf_n_estimators': 184, 'rf_max_depth': 49, 'rf_criterion': 'gini', 'rf_max_features': 'log2', 'rf_min_samples_split': 17, 'rf_min_samples_leaf': 2, 'rf_bootstrap': False}. Best is trial 72 with value: 0.7794665591911845.\n",
            "[I 2024-07-10 19:12:55,940] Trial 94 finished with value: 0.7628564421241405 and parameters: {'rf_n_estimators': 181, 'rf_max_depth': 49, 'rf_criterion': 'gini', 'rf_max_features': 'log2', 'rf_min_samples_split': 2, 'rf_min_samples_leaf': 13, 'rf_bootstrap': False}. Best is trial 72 with value: 0.7794665591911845.\n",
            "[I 2024-07-10 19:13:06,368] Trial 95 finished with value: 0.7605593099074274 and parameters: {'rf_n_estimators': 164, 'rf_max_depth': 50, 'rf_criterion': 'gini', 'rf_max_features': 'log2', 'rf_min_samples_split': 15, 'rf_min_samples_leaf': 17, 'rf_bootstrap': False}. Best is trial 72 with value: 0.7794665591911845.\n",
            "[I 2024-07-10 19:13:13,903] Trial 96 finished with value: 0.7163840748829173 and parameters: {'rf_n_estimators': 151, 'rf_max_depth': 48, 'rf_criterion': 'gini', 'rf_max_features': 'log2', 'rf_min_samples_split': 33, 'rf_min_samples_leaf': 162, 'rf_bootstrap': False}. Best is trial 72 with value: 0.7794665591911845.\n",
            "[I 2024-07-10 19:13:25,149] Trial 97 finished with value: 0.7738122240863803 and parameters: {'rf_n_estimators': 176, 'rf_max_depth': 36, 'rf_criterion': 'gini', 'rf_max_features': 'log2', 'rf_min_samples_split': 10, 'rf_min_samples_leaf': 7, 'rf_bootstrap': False}. Best is trial 72 with value: 0.7794665591911845.\n",
            "[I 2024-07-10 19:13:35,832] Trial 98 finished with value: 0.7446557504069384 and parameters: {'rf_n_estimators': 186, 'rf_max_depth': 47, 'rf_criterion': 'gini', 'rf_max_features': 'log2', 'rf_min_samples_split': 116, 'rf_min_samples_leaf': 33, 'rf_bootstrap': False}. Best is trial 72 with value: 0.7794665591911845.\n",
            "[I 2024-07-10 19:13:47,576] Trial 99 finished with value: 0.7561421925623217 and parameters: {'rf_n_estimators': 192, 'rf_max_depth': 50, 'rf_criterion': 'gini', 'rf_max_features': 'log2', 'rf_min_samples_split': 44, 'rf_min_samples_leaf': 21, 'rf_bootstrap': False}. Best is trial 72 with value: 0.7794665591911845.\n",
            "[I 2024-07-10 19:14:01,084] Trial 100 finished with value: 0.7720448147766291 and parameters: {'rf_n_estimators': 198, 'rf_max_depth': 38, 'rf_criterion': 'gini', 'rf_max_features': 'log2', 'rf_min_samples_split': 16, 'rf_min_samples_leaf': 6, 'rf_bootstrap': False}. Best is trial 72 with value: 0.7794665591911845.\n",
            "[I 2024-07-10 19:14:12,999] Trial 101 finished with value: 0.776285253676505 and parameters: {'rf_n_estimators': 182, 'rf_max_depth': 35, 'rf_criterion': 'gini', 'rf_max_features': 'log2', 'rf_min_samples_split': 10, 'rf_min_samples_leaf': 6, 'rf_bootstrap': False}. Best is trial 72 with value: 0.7794665591911845.\n",
            "[I 2024-07-10 19:14:25,776] Trial 102 finished with value: 0.7628570669815948 and parameters: {'rf_n_estimators': 206, 'rf_max_depth': 38, 'rf_criterion': 'gini', 'rf_max_features': 'log2', 'rf_min_samples_split': 19, 'rf_min_samples_leaf': 12, 'rf_bootstrap': False}. Best is trial 72 with value: 0.7794665591911845.\n",
            "[I 2024-07-10 19:14:38,770] Trial 103 finished with value: 0.7805267860769262 and parameters: {'rf_n_estimators': 158, 'rf_max_depth': 28, 'rf_criterion': 'gini', 'rf_max_features': 'log2', 'rf_min_samples_split': 7, 'rf_min_samples_leaf': 2, 'rf_bootstrap': False}. Best is trial 103 with value: 0.7805267860769262.\n",
            "[I 2024-07-10 19:14:51,227] Trial 104 finished with value: 0.774872450972122 and parameters: {'rf_n_estimators': 160, 'rf_max_depth': 35, 'rf_criterion': 'gini', 'rf_max_features': 'log2', 'rf_min_samples_split': 7, 'rf_min_samples_leaf': 6, 'rf_bootstrap': False}. Best is trial 103 with value: 0.7805267860769262.\n",
            "[I 2024-07-10 19:15:02,851] Trial 105 finished with value: 0.775402173879084 and parameters: {'rf_n_estimators': 158, 'rf_max_depth': 33, 'rf_criterion': 'gini', 'rf_max_features': 'log2', 'rf_min_samples_split': 7, 'rf_min_samples_leaf': 6, 'rf_bootstrap': False}. Best is trial 103 with value: 0.7805267860769262.\n",
            "[I 2024-07-10 19:15:12,096] Trial 106 finished with value: 0.7738125365151076 and parameters: {'rf_n_estimators': 133, 'rf_max_depth': 33, 'rf_criterion': 'gini', 'rf_max_features': 'log2', 'rf_min_samples_split': 5, 'rf_min_samples_leaf': 7, 'rf_bootstrap': False}. Best is trial 103 with value: 0.7805267860769262.\n",
            "[I 2024-07-10 19:15:23,195] Trial 107 finished with value: 0.7658610691935902 and parameters: {'rf_n_estimators': 156, 'rf_max_depth': 32, 'rf_criterion': 'gini', 'rf_max_features': 'log2', 'rf_min_samples_split': 10, 'rf_min_samples_leaf': 12, 'rf_bootstrap': False}. Best is trial 103 with value: 0.7805267860769262.\n",
            "[I 2024-07-10 19:15:33,066] Trial 108 finished with value: 0.7541981048073408 and parameters: {'rf_n_estimators': 140, 'rf_max_depth': 29, 'rf_criterion': 'entropy', 'rf_max_features': 'log2', 'rf_min_samples_split': 5, 'rf_min_samples_leaf': 27, 'rf_bootstrap': False}. Best is trial 103 with value: 0.7805267860769262.\n",
            "[I 2024-07-10 19:15:41,271] Trial 109 finished with value: 0.7329929422350526 and parameters: {'rf_n_estimators': 159, 'rf_max_depth': 24, 'rf_criterion': 'gini', 'rf_max_features': 'log2', 'rf_min_samples_split': 10, 'rf_min_samples_leaf': 74, 'rf_bootstrap': False}. Best is trial 103 with value: 0.7805267860769262.\n",
            "[I 2024-07-10 19:15:52,701] Trial 110 finished with value: 0.7595000203078672 and parameters: {'rf_n_estimators': 174, 'rf_max_depth': 31, 'rf_criterion': 'gini', 'rf_max_features': 'log2', 'rf_min_samples_split': 13, 'rf_min_samples_leaf': 18, 'rf_bootstrap': False}. Best is trial 103 with value: 0.7805267860769262.\n",
            "[I 2024-07-10 19:16:01,472] Trial 111 finished with value: 0.7775232525080216 and parameters: {'rf_n_estimators': 125, 'rf_max_depth': 35, 'rf_criterion': 'gini', 'rf_max_features': 'log2', 'rf_min_samples_split': 7, 'rf_min_samples_leaf': 6, 'rf_bootstrap': False}. Best is trial 103 with value: 0.7805267860769262.\n",
            "[I 2024-07-10 19:16:12,338] Trial 112 finished with value: 0.7757550621264524 and parameters: {'rf_n_estimators': 141, 'rf_max_depth': 37, 'rf_criterion': 'gini', 'rf_max_features': 'log2', 'rf_min_samples_split': 6, 'rf_min_samples_leaf': 6, 'rf_bootstrap': False}. Best is trial 103 with value: 0.7805267860769262.\n",
            "[I 2024-07-10 19:16:21,637] Trial 113 finished with value: 0.7683345674268057 and parameters: {'rf_n_estimators': 113, 'rf_max_depth': 34, 'rf_criterion': 'gini', 'rf_max_features': 'log2', 'rf_min_samples_split': 2, 'rf_min_samples_leaf': 10, 'rf_bootstrap': False}. Best is trial 103 with value: 0.7805267860769262.\n",
            "[I 2024-07-10 19:16:30,094] Trial 114 finished with value: 0.7755791647530407 and parameters: {'rf_n_estimators': 118, 'rf_max_depth': 35, 'rf_criterion': 'gini', 'rf_max_features': 'log2', 'rf_min_samples_split': 7, 'rf_min_samples_leaf': 6, 'rf_bootstrap': False}. Best is trial 103 with value: 0.7805267860769262.\n",
            "[I 2024-07-10 19:16:39,289] Trial 115 finished with value: 0.7626799198932744 and parameters: {'rf_n_estimators': 120, 'rf_max_depth': 33, 'rf_criterion': 'gini', 'rf_max_features': 'log2', 'rf_min_samples_split': 13, 'rf_min_samples_leaf': 15, 'rf_bootstrap': False}. Best is trial 103 with value: 0.7805267860769262.\n",
            "[I 2024-07-10 19:16:46,271] Trial 116 finished with value: 0.7579085083715278 and parameters: {'rf_n_estimators': 112, 'rf_max_depth': 37, 'rf_criterion': 'gini', 'rf_max_features': 'log2', 'rf_min_samples_split': 6, 'rf_min_samples_leaf': 23, 'rf_bootstrap': False}. Best is trial 103 with value: 0.7805267860769262.\n",
            "[I 2024-07-10 19:16:55,134] Trial 117 finished with value: 0.7708082218743849 and parameters: {'rf_n_estimators': 101, 'rf_max_depth': 36, 'rf_criterion': 'gini', 'rf_max_features': 'log2', 'rf_min_samples_split': 9, 'rf_min_samples_leaf': 9, 'rf_bootstrap': False}. Best is trial 103 with value: 0.7805267860769262.\n",
            "[I 2024-07-10 19:17:04,003] Trial 118 finished with value: 0.7739890587459736 and parameters: {'rf_n_estimators': 123, 'rf_max_depth': 35, 'rf_criterion': 'gini', 'rf_max_features': 'log2', 'rf_min_samples_split': 2, 'rf_min_samples_leaf': 6, 'rf_bootstrap': False}. Best is trial 103 with value: 0.7805267860769262.\n",
            "[I 2024-07-10 19:17:13,603] Trial 119 finished with value: 0.7575549952667048 and parameters: {'rf_n_estimators': 136, 'rf_max_depth': 30, 'rf_criterion': 'gini', 'rf_max_features': 'log2', 'rf_min_samples_split': 13, 'rf_min_samples_leaf': 18, 'rf_bootstrap': False}. Best is trial 103 with value: 0.7805267860769262.\n",
            "[I 2024-07-10 19:17:24,815] Trial 120 finished with value: 0.7642701821147051 and parameters: {'rf_n_estimators': 146, 'rf_max_depth': 39, 'rf_criterion': 'gini', 'rf_max_features': 'log2', 'rf_min_samples_split': 20, 'rf_min_samples_leaf': 12, 'rf_bootstrap': False}. Best is trial 103 with value: 0.7805267860769262.\n",
            "[I 2024-07-10 19:17:34,032] Trial 121 finished with value: 0.7734577736953758 and parameters: {'rf_n_estimators': 142, 'rf_max_depth': 35, 'rf_criterion': 'gini', 'rf_max_features': 'log2', 'rf_min_samples_split': 6, 'rf_min_samples_leaf': 8, 'rf_bootstrap': False}. Best is trial 103 with value: 0.7805267860769262.\n",
            "[I 2024-07-10 19:17:46,514] Trial 122 finished with value: 0.7746949914550743 and parameters: {'rf_n_estimators': 169, 'rf_max_depth': 37, 'rf_criterion': 'gini', 'rf_max_features': 'log2', 'rf_min_samples_split': 8, 'rf_min_samples_leaf': 6, 'rf_bootstrap': False}. Best is trial 103 with value: 0.7805267860769262.\n",
            "[I 2024-07-10 19:17:58,493] Trial 123 finished with value: 0.7741646436906581 and parameters: {'rf_n_estimators': 158, 'rf_max_depth': 27, 'rf_criterion': 'gini', 'rf_max_features': 'log2', 'rf_min_samples_split': 17, 'rf_min_samples_leaf': 5, 'rf_bootstrap': False}. Best is trial 103 with value: 0.7805267860769262.\n",
            "[I 2024-07-10 19:18:06,975] Trial 124 finished with value: 0.7614431707766667 and parameters: {'rf_n_estimators': 128, 'rf_max_depth': 35, 'rf_criterion': 'gini', 'rf_max_features': 'log2', 'rf_min_samples_split': 12, 'rf_min_samples_leaf': 14, 'rf_bootstrap': False}. Best is trial 103 with value: 0.7805267860769262.\n",
            "[I 2024-07-10 19:18:17,632] Trial 125 finished with value: 0.7766386105669645 and parameters: {'rf_n_estimators': 128, 'rf_max_depth': 34, 'rf_criterion': 'gini', 'rf_max_features': 'log2', 'rf_min_samples_split': 7, 'rf_min_samples_leaf': 2, 'rf_bootstrap': False}. Best is trial 103 with value: 0.7805267860769262.\n",
            "[I 2024-07-10 19:18:27,122] Trial 126 finished with value: 0.7655061501594949 and parameters: {'rf_n_estimators': 115, 'rf_max_depth': 33, 'rf_criterion': 'gini', 'rf_max_features': 'log2', 'rf_min_samples_split': 2, 'rf_min_samples_leaf': 11, 'rf_bootstrap': False}. Best is trial 103 with value: 0.7805267860769262.\n",
            "[I 2024-07-10 19:18:35,992] Trial 127 finished with value: 0.7776996185245241 and parameters: {'rf_n_estimators': 125, 'rf_max_depth': 36, 'rf_criterion': 'gini', 'rf_max_features': 'log2', 'rf_min_samples_split': 19, 'rf_min_samples_leaf': 2, 'rf_bootstrap': False}. Best is trial 103 with value: 0.7805267860769262.\n",
            "[I 2024-07-10 19:18:45,451] Trial 128 finished with value: 0.7543733773232981 and parameters: {'rf_n_estimators': 105, 'rf_max_depth': 32, 'rf_criterion': 'entropy', 'rf_max_features': 'log2', 'rf_min_samples_split': 19, 'rf_min_samples_leaf': 21, 'rf_bootstrap': False}. Best is trial 103 with value: 0.7805267860769262.\n",
            "[I 2024-07-10 19:18:52,591] Trial 129 finished with value: 0.7476599088332974 and parameters: {'rf_n_estimators': 127, 'rf_max_depth': 38, 'rf_criterion': 'gini', 'rf_max_features': 'log2', 'rf_min_samples_split': 139, 'rf_min_samples_leaf': 2, 'rf_bootstrap': False}. Best is trial 103 with value: 0.7805267860769262.\n",
            "[I 2024-07-10 19:19:02,483] Trial 130 finished with value: 0.7607366132101114 and parameters: {'rf_n_estimators': 137, 'rf_max_depth': 29, 'rf_criterion': 'gini', 'rf_max_features': 'log2', 'rf_min_samples_split': 12, 'rf_min_samples_leaf': 16, 'rf_bootstrap': False}. Best is trial 103 with value: 0.7805267860769262.\n",
            "[I 2024-07-10 19:19:12,872] Trial 131 finished with value: 0.7759322092147729 and parameters: {'rf_n_estimators': 127, 'rf_max_depth': 32, 'rf_criterion': 'gini', 'rf_max_features': 'log2', 'rf_min_samples_split': 15, 'rf_min_samples_leaf': 2, 'rf_bootstrap': False}. Best is trial 103 with value: 0.7805267860769262.\n",
            "[I 2024-07-10 19:19:21,190] Trial 132 finished with value: 0.768510621014581 and parameters: {'rf_n_estimators': 121, 'rf_max_depth': 32, 'rf_criterion': 'gini', 'rf_max_features': 'log2', 'rf_min_samples_split': 15, 'rf_min_samples_leaf': 10, 'rf_bootstrap': False}. Best is trial 103 with value: 0.7805267860769262.\n",
            "[I 2024-07-10 19:19:29,839] Trial 133 finished with value: 0.7460698028262303 and parameters: {'rf_n_estimators': 129, 'rf_max_depth': 36, 'rf_criterion': 'gini', 'rf_max_features': 'log2', 'rf_min_samples_split': 176, 'rf_min_samples_leaf': 5, 'rf_bootstrap': False}. Best is trial 103 with value: 0.7805267860769262.\n",
            "[I 2024-07-10 19:19:38,120] Trial 134 finished with value: 0.7769932171723325 and parameters: {'rf_n_estimators': 107, 'rf_max_depth': 33, 'rf_criterion': 'gini', 'rf_max_features': 'log2', 'rf_min_samples_split': 9, 'rf_min_samples_leaf': 2, 'rf_bootstrap': False}. Best is trial 103 with value: 0.7805267860769262.\n",
            "[I 2024-07-10 19:19:47,381] Trial 135 finished with value: 0.7669197339356959 and parameters: {'rf_n_estimators': 110, 'rf_max_depth': 34, 'rf_criterion': 'gini', 'rf_max_features': 'log2', 'rf_min_samples_split': 8, 'rf_min_samples_leaf': 10, 'rf_bootstrap': False}. Best is trial 103 with value: 0.7805267860769262.\n",
            "[I 2024-07-10 19:19:57,938] Trial 136 finished with value: 0.7750500667035333 and parameters: {'rf_n_estimators': 143, 'rf_max_depth': 30, 'rf_criterion': 'gini', 'rf_max_features': 'log2', 'rf_min_samples_split': 5, 'rf_min_samples_leaf': 7, 'rf_bootstrap': False}. Best is trial 103 with value: 0.7805267860769262.\n",
            "[I 2024-07-10 19:20:06,787] Trial 137 finished with value: 0.7632097990145998 and parameters: {'rf_n_estimators': 118, 'rf_max_depth': 33, 'rf_criterion': 'gini', 'rf_max_features': 'log2', 'rf_min_samples_split': 10, 'rf_min_samples_leaf': 14, 'rf_bootstrap': False}. Best is trial 103 with value: 0.7805267860769262.\n",
            "[I 2024-07-10 19:20:14,756] Trial 138 finished with value: 0.75508196567658 and parameters: {'rf_n_estimators': 105, 'rf_max_depth': 37, 'rf_criterion': 'gini', 'rf_max_features': 'log2', 'rf_min_samples_split': 99, 'rf_min_samples_leaf': 2, 'rf_bootstrap': False}. Best is trial 103 with value: 0.7805267860769262.\n",
            "[I 2024-07-10 19:20:23,834] Trial 139 finished with value: 0.7667443052053751 and parameters: {'rf_n_estimators': 134, 'rf_max_depth': 26, 'rf_criterion': 'gini', 'rf_max_features': 'log2', 'rf_min_samples_split': 14, 'rf_min_samples_leaf': 10, 'rf_bootstrap': False}. Best is trial 103 with value: 0.7805267860769262.\n",
            "[I 2024-07-10 19:20:31,610] Trial 140 finished with value: 0.7227449675542766 and parameters: {'rf_n_estimators': 125, 'rf_max_depth': 31, 'rf_criterion': 'gini', 'rf_max_features': 'sqrt', 'rf_min_samples_split': 17, 'rf_min_samples_leaf': 121, 'rf_bootstrap': False}. Best is trial 103 with value: 0.7805267860769262.\n",
            "[I 2024-07-10 19:20:41,277] Trial 141 finished with value: 0.7697476825599161 and parameters: {'rf_n_estimators': 151, 'rf_max_depth': 34, 'rf_criterion': 'gini', 'rf_max_features': 'log2', 'rf_min_samples_split': 28, 'rf_min_samples_leaf': 5, 'rf_bootstrap': False}. Best is trial 103 with value: 0.7805267860769262.\n",
            "[I 2024-07-10 19:20:51,079] Trial 142 finished with value: 0.7743424156364329 and parameters: {'rf_n_estimators': 109, 'rf_max_depth': 40, 'rf_criterion': 'gini', 'rf_max_features': 'log2', 'rf_min_samples_split': 21, 'rf_min_samples_leaf': 2, 'rf_bootstrap': False}. Best is trial 103 with value: 0.7805267860769262.\n",
            "[I 2024-07-10 19:21:01,297] Trial 143 finished with value: 0.7745184692242082 and parameters: {'rf_n_estimators': 133, 'rf_max_depth': 35, 'rf_criterion': 'gini', 'rf_max_features': 'log2', 'rf_min_samples_split': 6, 'rf_min_samples_leaf': 6, 'rf_bootstrap': False}. Best is trial 103 with value: 0.7805267860769262.\n",
            "[I 2024-07-10 19:21:09,378] Trial 144 finished with value: 0.7651538867695807 and parameters: {'rf_n_estimators': 119, 'rf_max_depth': 36, 'rf_criterion': 'gini', 'rf_max_features': 'log2', 'rf_min_samples_split': 11, 'rf_min_samples_leaf': 15, 'rf_bootstrap': False}. Best is trial 103 with value: 0.7805267860769262.\n",
            "[I 2024-07-10 19:21:18,156] Trial 145 finished with value: 0.7580851868167574 and parameters: {'rf_n_estimators': 128, 'rf_max_depth': 32, 'rf_criterion': 'gini', 'rf_max_features': 'log2', 'rf_min_samples_split': 20, 'rf_min_samples_leaf': 9, 'rf_bootstrap': True}. Best is trial 103 with value: 0.7805267860769262.\n",
            "[I 2024-07-10 19:21:24,411] Trial 146 finished with value: 0.7056040340797256 and parameters: {'rf_n_estimators': 146, 'rf_max_depth': 37, 'rf_criterion': 'gini', 'rf_max_features': 'log2', 'rf_min_samples_split': 2, 'rf_min_samples_leaf': 189, 'rf_bootstrap': False}. Best is trial 103 with value: 0.7805267860769262.\n",
            "[I 2024-07-10 19:21:37,077] Trial 147 finished with value: 0.7787600016246293 and parameters: {'rf_n_estimators': 155, 'rf_max_depth': 39, 'rf_criterion': 'gini', 'rf_max_features': 'log2', 'rf_min_samples_split': 8, 'rf_min_samples_leaf': 2, 'rf_bootstrap': False}. Best is trial 103 with value: 0.7805267860769262.\n",
            "[I 2024-07-10 19:21:46,717] Trial 148 finished with value: 0.7577322985693888 and parameters: {'rf_n_estimators': 153, 'rf_max_depth': 39, 'rf_criterion': 'gini', 'rf_max_features': 'log2', 'rf_min_samples_split': 9, 'rf_min_samples_leaf': 20, 'rf_bootstrap': False}. Best is trial 103 with value: 0.7805267860769262.\n",
            "[I 2024-07-10 19:21:58,756] Trial 149 finished with value: 0.7754020176647203 and parameters: {'rf_n_estimators': 170, 'rf_max_depth': 38, 'rf_criterion': 'gini', 'rf_max_features': 'log2', 'rf_min_samples_split': 15, 'rf_min_samples_leaf': 2, 'rf_bootstrap': False}. Best is trial 103 with value: 0.7805267860769262.\n",
            "[I 2024-07-10 19:22:10,469] Trial 150 finished with value: 0.7621495721288583 and parameters: {'rf_n_estimators': 138, 'rf_max_depth': 34, 'rf_criterion': 'entropy', 'rf_max_features': 'log2', 'rf_min_samples_split': 6, 'rf_min_samples_leaf': 13, 'rf_bootstrap': False}. Best is trial 103 with value: 0.7805267860769262.\n",
            "[I 2024-07-10 19:22:22,636] Trial 151 finished with value: 0.7746953038838016 and parameters: {'rf_n_estimators': 164, 'rf_max_depth': 35, 'rf_criterion': 'gini', 'rf_max_features': 'log2', 'rf_min_samples_split': 12, 'rf_min_samples_leaf': 6, 'rf_bootstrap': False}. Best is trial 103 with value: 0.7805267860769262.\n",
            "[I 2024-07-10 19:22:35,678] Trial 152 finished with value: 0.7754015490216295 and parameters: {'rf_n_estimators': 181, 'rf_max_depth': 37, 'rf_criterion': 'gini', 'rf_max_features': 'log2', 'rf_min_samples_split': 25, 'rf_min_samples_leaf': 2, 'rf_bootstrap': False}. Best is trial 103 with value: 0.7805267860769262.\n",
            "[I 2024-07-10 19:22:44,008] Trial 153 finished with value: 0.77151477944094 and parameters: {'rf_n_estimators': 117, 'rf_max_depth': 40, 'rf_criterion': 'gini', 'rf_max_features': 'log2', 'rf_min_samples_split': 18, 'rf_min_samples_leaf': 8, 'rf_bootstrap': False}. Best is trial 103 with value: 0.7805267860769262.\n",
            "[I 2024-07-10 19:22:54,499] Trial 154 finished with value: 0.7648000612360305 and parameters: {'rf_n_estimators': 142, 'rf_max_depth': 41, 'rf_criterion': 'gini', 'rf_max_features': 'log2', 'rf_min_samples_split': 9, 'rf_min_samples_leaf': 11, 'rf_bootstrap': False}. Best is trial 103 with value: 0.7805267860769262.\n",
            "[I 2024-07-10 19:23:02,251] Trial 155 finished with value: 0.7739882776741556 and parameters: {'rf_n_estimators': 100, 'rf_max_depth': 33, 'rf_criterion': 'gini', 'rf_max_features': 'log2', 'rf_min_samples_split': 4, 'rf_min_samples_leaf': 5, 'rf_bootstrap': False}. Best is trial 103 with value: 0.7805267860769262.\n",
            "[I 2024-07-10 19:23:15,479] Trial 156 finished with value: 0.7775226276505671 and parameters: {'rf_n_estimators': 177, 'rf_max_depth': 39, 'rf_criterion': 'gini', 'rf_max_features': 'log2', 'rf_min_samples_split': 15, 'rf_min_samples_leaf': 2, 'rf_bootstrap': False}. Best is trial 103 with value: 0.7805267860769262.\n",
            "[I 2024-07-10 19:23:26,943] Trial 157 finished with value: 0.7708080656600214 and parameters: {'rf_n_estimators': 155, 'rf_max_depth': 23, 'rf_criterion': 'gini', 'rf_max_features': 'log2', 'rf_min_samples_split': 15, 'rf_min_samples_leaf': 9, 'rf_bootstrap': False}. Best is trial 103 with value: 0.7805267860769262.\n",
            "[I 2024-07-10 19:23:38,325] Trial 158 finished with value: 0.7598535334126902 and parameters: {'rf_n_estimators': 176, 'rf_max_depth': 39, 'rf_criterion': 'gini', 'rf_max_features': 'log2', 'rf_min_samples_split': 8, 'rf_min_samples_leaf': 17, 'rf_bootstrap': False}. Best is trial 103 with value: 0.7805267860769262.\n",
            "[I 2024-07-10 19:23:48,396] Trial 159 finished with value: 0.7739878090310647 and parameters: {'rf_n_estimators': 149, 'rf_max_depth': 36, 'rf_criterion': 'gini', 'rf_max_features': 'log2', 'rf_min_samples_split': 14, 'rf_min_samples_leaf': 6, 'rf_bootstrap': False}. Best is trial 103 with value: 0.7805267860769262.\n",
            "[I 2024-07-10 19:23:59,710] Trial 160 finished with value: 0.7623267192171786 and parameters: {'rf_n_estimators': 164, 'rf_max_depth': 34, 'rf_criterion': 'gini', 'rf_max_features': 'log2', 'rf_min_samples_split': 2, 'rf_min_samples_leaf': 13, 'rf_bootstrap': False}. Best is trial 103 with value: 0.7805267860769262.\n",
            "[I 2024-07-10 19:24:13,469] Trial 161 finished with value: 0.7769929047436054 and parameters: {'rf_n_estimators': 191, 'rf_max_depth': 38, 'rf_criterion': 'gini', 'rf_max_features': 'log2', 'rf_min_samples_split': 19, 'rf_min_samples_leaf': 2, 'rf_bootstrap': False}. Best is trial 103 with value: 0.7805267860769262.\n",
            "[I 2024-07-10 19:24:27,713] Trial 162 finished with value: 0.7773459492053375 and parameters: {'rf_n_estimators': 190, 'rf_max_depth': 38, 'rf_criterion': 'gini', 'rf_max_features': 'log2', 'rf_min_samples_split': 11, 'rf_min_samples_leaf': 2, 'rf_bootstrap': False}. Best is trial 103 with value: 0.7805267860769262.\n",
            "[I 2024-07-10 19:24:41,344] Trial 163 finished with value: 0.776109512517457 and parameters: {'rf_n_estimators': 189, 'rf_max_depth': 38, 'rf_criterion': 'gini', 'rf_max_features': 'log2', 'rf_min_samples_split': 23, 'rf_min_samples_leaf': 2, 'rf_bootstrap': False}. Best is trial 103 with value: 0.7805267860769262.\n",
            "[I 2024-07-10 19:24:53,697] Trial 164 finished with value: 0.7725762560415905 and parameters: {'rf_n_estimators': 188, 'rf_max_depth': 39, 'rf_criterion': 'gini', 'rf_max_features': 'log2', 'rf_min_samples_split': 26, 'rf_min_samples_leaf': 2, 'rf_bootstrap': False}. Best is trial 103 with value: 0.7805267860769262.\n",
            "[I 2024-07-10 19:25:06,739] Trial 165 finished with value: 0.775402486307811 and parameters: {'rf_n_estimators': 193, 'rf_max_depth': 38, 'rf_criterion': 'gini', 'rf_max_features': 'log2', 'rf_min_samples_split': 22, 'rf_min_samples_leaf': 2, 'rf_bootstrap': False}. Best is trial 103 with value: 0.7805267860769262.\n",
            "[I 2024-07-10 19:25:19,203] Trial 166 finished with value: 0.7692179596529541 and parameters: {'rf_n_estimators': 182, 'rf_max_depth': 40, 'rf_criterion': 'gini', 'rf_max_features': 'log2', 'rf_min_samples_split': 17, 'rf_min_samples_leaf': 10, 'rf_bootstrap': False}. Best is trial 103 with value: 0.7805267860769262.\n",
            "[I 2024-07-10 19:25:27,528] Trial 167 finished with value: 0.7167366507015587 and parameters: {'rf_n_estimators': 175, 'rf_max_depth': 37, 'rf_criterion': 'gini', 'rf_max_features': 'sqrt', 'rf_min_samples_split': 12, 'rf_min_samples_leaf': 103, 'rf_bootstrap': True}. Best is trial 103 with value: 0.7805267860769262.\n",
            "[I 2024-07-10 19:25:39,048] Trial 168 finished with value: 0.7697478387742797 and parameters: {'rf_n_estimators': 187, 'rf_max_depth': 41, 'rf_criterion': 'gini', 'rf_max_features': 'log2', 'rf_min_samples_split': 30, 'rf_min_samples_leaf': 6, 'rf_bootstrap': False}. Best is trial 103 with value: 0.7805267860769262.\n",
            "[I 2024-07-10 19:25:51,659] Trial 169 finished with value: 0.7660372789957292 and parameters: {'rf_n_estimators': 194, 'rf_max_depth': 38, 'rf_criterion': 'gini', 'rf_max_features': 'log2', 'rf_min_samples_split': 21, 'rf_min_samples_leaf': 12, 'rf_bootstrap': False}. Best is trial 103 with value: 0.7805267860769262.\n",
            "[I 2024-07-10 19:26:05,359] Trial 170 finished with value: 0.7690417498508153 and parameters: {'rf_n_estimators': 205, 'rf_max_depth': 21, 'rf_criterion': 'gini', 'rf_max_features': 'log2', 'rf_min_samples_split': 12, 'rf_min_samples_leaf': 9, 'rf_bootstrap': False}. Best is trial 103 with value: 0.7805267860769262.\n",
            "[I 2024-07-10 19:26:18,731] Trial 171 finished with value: 0.7762855661052322 and parameters: {'rf_n_estimators': 181, 'rf_max_depth': 36, 'rf_criterion': 'gini', 'rf_max_features': 'log2', 'rf_min_samples_split': 17, 'rf_min_samples_leaf': 2, 'rf_bootstrap': False}. Best is trial 103 with value: 0.7805267860769262.\n",
            "[I 2024-07-10 19:26:31,525] Trial 172 finished with value: 0.7750485045598973 and parameters: {'rf_n_estimators': 178, 'rf_max_depth': 36, 'rf_criterion': 'gini', 'rf_max_features': 'log2', 'rf_min_samples_split': 18, 'rf_min_samples_leaf': 5, 'rf_bootstrap': False}. Best is trial 103 with value: 0.7805267860769262.\n",
            "[I 2024-07-10 19:26:44,417] Trial 173 finished with value: 0.7739885901028828 and parameters: {'rf_n_estimators': 186, 'rf_max_depth': 37, 'rf_criterion': 'gini', 'rf_max_features': 'log2', 'rf_min_samples_split': 24, 'rf_min_samples_leaf': 2, 'rf_bootstrap': False}. Best is trial 103 with value: 0.7805267860769262.\n",
            "[I 2024-07-10 19:26:56,109] Trial 174 finished with value: 0.7757556869839067 and parameters: {'rf_n_estimators': 169, 'rf_max_depth': 38, 'rf_criterion': 'gini', 'rf_max_features': 'log2', 'rf_min_samples_split': 16, 'rf_min_samples_leaf': 2, 'rf_bootstrap': False}. Best is trial 103 with value: 0.7805267860769262.\n",
            "[I 2024-07-10 19:27:08,987] Trial 175 finished with value: 0.777521534150022 and parameters: {'rf_n_estimators': 170, 'rf_max_depth': 39, 'rf_criterion': 'gini', 'rf_max_features': 'log2', 'rf_min_samples_split': 16, 'rf_min_samples_leaf': 2, 'rf_bootstrap': False}. Best is trial 103 with value: 0.7805267860769262.\n",
            "[I 2024-07-10 19:27:22,565] Trial 176 finished with value: 0.7764616196930075 and parameters: {'rf_n_estimators': 178, 'rf_max_depth': 39, 'rf_criterion': 'gini', 'rf_max_features': 'log2', 'rf_min_samples_split': 11, 'rf_min_samples_leaf': 2, 'rf_bootstrap': False}. Best is trial 103 with value: 0.7805267860769262.\n",
            "[I 2024-07-10 19:27:34,606] Trial 177 finished with value: 0.7709844316765239 and parameters: {'rf_n_estimators': 173, 'rf_max_depth': 39, 'rf_criterion': 'gini', 'rf_max_features': 'log2', 'rf_min_samples_split': 11, 'rf_min_samples_leaf': 9, 'rf_bootstrap': False}. Best is trial 103 with value: 0.7805267860769262.\n",
            "[I 2024-07-10 19:27:46,052] Trial 178 finished with value: 0.7625033976624083 and parameters: {'rf_n_estimators': 182, 'rf_max_depth': 42, 'rf_criterion': 'gini', 'rf_max_features': 'log2', 'rf_min_samples_split': 21, 'rf_min_samples_leaf': 14, 'rf_bootstrap': False}. Best is trial 103 with value: 0.7805267860769262.\n",
            "[I 2024-07-10 19:28:00,700] Trial 179 finished with value: 0.767097818310198 and parameters: {'rf_n_estimators': 194, 'rf_max_depth': 41, 'rf_criterion': 'entropy', 'rf_max_features': 'log2', 'rf_min_samples_split': 29, 'rf_min_samples_leaf': 6, 'rf_bootstrap': False}. Best is trial 103 with value: 0.7805267860769262.\n",
            "[I 2024-07-10 19:28:10,829] Trial 180 finished with value: 0.7188571044730421 and parameters: {'rf_n_estimators': 261, 'rf_max_depth': 39, 'rf_criterion': 'gini', 'rf_max_features': 'log2', 'rf_min_samples_split': 10, 'rf_min_samples_leaf': 136, 'rf_bootstrap': False}. Best is trial 103 with value: 0.7805267860769262.\n",
            "[I 2024-07-10 19:28:24,092] Trial 181 finished with value: 0.7755779150381319 and parameters: {'rf_n_estimators': 177, 'rf_max_depth': 40, 'rf_criterion': 'gini', 'rf_max_features': 'log2', 'rf_min_samples_split': 15, 'rf_min_samples_leaf': 2, 'rf_bootstrap': False}. Best is trial 103 with value: 0.7805267860769262.\n",
            "[I 2024-07-10 19:28:37,382] Trial 182 finished with value: 0.7723984840958157 and parameters: {'rf_n_estimators': 190, 'rf_max_depth': 38, 'rf_criterion': 'gini', 'rf_max_features': 'log2', 'rf_min_samples_split': 18, 'rf_min_samples_leaf': 6, 'rf_bootstrap': False}. Best is trial 103 with value: 0.7805267860769262.\n",
            "[I 2024-07-10 19:28:50,427] Trial 183 finished with value: 0.7785822296788545 and parameters: {'rf_n_estimators': 170, 'rf_max_depth': 36, 'rf_criterion': 'gini', 'rf_max_features': 'log2', 'rf_min_samples_split': 13, 'rf_min_samples_leaf': 2, 'rf_bootstrap': False}. Best is trial 103 with value: 0.7805267860769262.\n",
            "[I 2024-07-10 19:29:00,970] Trial 184 finished with value: 0.7699251420769637 and parameters: {'rf_n_estimators': 169, 'rf_max_depth': 36, 'rf_criterion': 'gini', 'rf_max_features': 'log2', 'rf_min_samples_split': 10, 'rf_min_samples_leaf': 9, 'rf_bootstrap': False}. Best is trial 103 with value: 0.7805267860769262.\n",
            "[I 2024-07-10 19:29:13,744] Trial 185 finished with value: 0.7732814076788733 and parameters: {'rf_n_estimators': 180, 'rf_max_depth': 37, 'rf_criterion': 'gini', 'rf_max_features': 'log2', 'rf_min_samples_split': 24, 'rf_min_samples_leaf': 2, 'rf_bootstrap': False}. Best is trial 103 with value: 0.7805267860769262.\n",
            "[I 2024-07-10 19:29:25,253] Trial 186 finished with value: 0.7642704945434323 and parameters: {'rf_n_estimators': 163, 'rf_max_depth': 39, 'rf_criterion': 'gini', 'rf_max_features': 'log2', 'rf_min_samples_split': 5, 'rf_min_samples_leaf': 11, 'rf_bootstrap': False}. Best is trial 103 with value: 0.7805267860769262.\n",
            "[I 2024-07-10 19:29:39,295] Trial 187 finished with value: 0.7743422594220694 and parameters: {'rf_n_estimators': 200, 'rf_max_depth': 36, 'rf_criterion': 'gini', 'rf_max_features': 'log2', 'rf_min_samples_split': 14, 'rf_min_samples_leaf': 6, 'rf_bootstrap': False}. Best is trial 103 with value: 0.7805267860769262.\n",
            "[I 2024-07-10 19:29:52,409] Trial 188 finished with value: 0.778759376767175 and parameters: {'rf_n_estimators': 171, 'rf_max_depth': 35, 'rf_criterion': 'gini', 'rf_max_features': 'log2', 'rf_min_samples_split': 18, 'rf_min_samples_leaf': 2, 'rf_bootstrap': False}. Best is trial 103 with value: 0.7805267860769262.\n",
            "[I 2024-07-10 19:30:02,816] Trial 189 finished with value: 0.768864134119404 and parameters: {'rf_n_estimators': 171, 'rf_max_depth': 34, 'rf_criterion': 'gini', 'rf_max_features': 'log2', 'rf_min_samples_split': 19, 'rf_min_samples_leaf': 9, 'rf_bootstrap': False}. Best is trial 103 with value: 0.7805267860769262.\n",
            "[I 2024-07-10 19:30:16,454] Trial 190 finished with value: 0.7602062654456953 and parameters: {'rf_n_estimators': 165, 'rf_max_depth': 35, 'rf_criterion': 'gini', 'rf_max_features': 'log2', 'rf_min_samples_split': 9, 'rf_min_samples_leaf': 16, 'rf_bootstrap': False}. Best is trial 103 with value: 0.7805267860769262.\n",
            "[I 2024-07-10 19:30:29,709] Trial 191 finished with value: 0.776108731445639 and parameters: {'rf_n_estimators': 182, 'rf_max_depth': 38, 'rf_criterion': 'gini', 'rf_max_features': 'log2', 'rf_min_samples_split': 11, 'rf_min_samples_leaf': 6, 'rf_bootstrap': False}. Best is trial 103 with value: 0.7805267860769262.\n",
            "[I 2024-07-10 19:30:43,542] Trial 192 finished with value: 0.7764627131935526 and parameters: {'rf_n_estimators': 187, 'rf_max_depth': 36, 'rf_criterion': 'gini', 'rf_max_features': 'log2', 'rf_min_samples_split': 18, 'rf_min_samples_leaf': 2, 'rf_bootstrap': False}. Best is trial 103 with value: 0.7805267860769262.\n",
            "[I 2024-07-10 19:30:57,003] Trial 193 finished with value: 0.7750480359168065 and parameters: {'rf_n_estimators': 175, 'rf_max_depth': 35, 'rf_criterion': 'gini', 'rf_max_features': 'log2', 'rf_min_samples_split': 14, 'rf_min_samples_leaf': 2, 'rf_bootstrap': False}. Best is trial 103 with value: 0.7805267860769262.\n",
            "[I 2024-07-10 19:31:16,109] Trial 194 finished with value: 0.7732809390357824 and parameters: {'rf_n_estimators': 322, 'rf_max_depth': 36, 'rf_criterion': 'gini', 'rf_max_features': 'log2', 'rf_min_samples_split': 18, 'rf_min_samples_leaf': 6, 'rf_bootstrap': False}. Best is trial 103 with value: 0.7805267860769262.\n",
            "[I 2024-07-10 19:31:28,502] Trial 195 finished with value: 0.7667443052053751 and parameters: {'rf_n_estimators': 185, 'rf_max_depth': 37, 'rf_criterion': 'gini', 'rf_max_features': 'log2', 'rf_min_samples_split': 6, 'rf_min_samples_leaf': 10, 'rf_bootstrap': False}. Best is trial 103 with value: 0.7805267860769262.\n",
            "[I 2024-07-10 19:31:40,491] Trial 196 finished with value: 0.7755788523243135 and parameters: {'rf_n_estimators': 172, 'rf_max_depth': 35, 'rf_criterion': 'gini', 'rf_max_features': 'log2', 'rf_min_samples_split': 13, 'rf_min_samples_leaf': 5, 'rf_bootstrap': False}. Best is trial 103 with value: 0.7805267860769262.\n",
            "[I 2024-07-10 19:31:50,324] Trial 197 finished with value: 0.7669206712218776 and parameters: {'rf_n_estimators': 162, 'rf_max_depth': 40, 'rf_criterion': 'gini', 'rf_max_features': 'sqrt', 'rf_min_samples_split': 2, 'rf_min_samples_leaf': 13, 'rf_bootstrap': False}. Best is trial 103 with value: 0.7805267860769262.\n",
            "[I 2024-07-10 19:32:08,928] Trial 198 finished with value: 0.7754024863078111 and parameters: {'rf_n_estimators': 365, 'rf_max_depth': 36, 'rf_criterion': 'gini', 'rf_max_features': 'log2', 'rf_min_samples_split': 8, 'rf_min_samples_leaf': 2, 'rf_bootstrap': True}. Best is trial 103 with value: 0.7805267860769262.\n",
            "[I 2024-07-10 19:32:20,431] Trial 199 finished with value: 0.7552584879074462 and parameters: {'rf_n_estimators': 197, 'rf_max_depth': 28, 'rf_criterion': 'gini', 'rf_max_features': 'log2', 'rf_min_samples_split': 78, 'rf_min_samples_leaf': 8, 'rf_bootstrap': False}. Best is trial 103 with value: 0.7805267860769262.\n",
            "[I 2024-07-10 19:32:32,940] Trial 200 finished with value: 0.7711609539073899 and parameters: {'rf_n_estimators': 179, 'rf_max_depth': 37, 'rf_criterion': 'gini', 'rf_max_features': 'log2', 'rf_min_samples_split': 20, 'rf_min_samples_leaf': 6, 'rf_bootstrap': False}. Best is trial 103 with value: 0.7805267860769262.\n",
            "[I 2024-07-10 19:32:46,245] Trial 201 finished with value: 0.7736352332124234 and parameters: {'rf_n_estimators': 189, 'rf_max_depth': 39, 'rf_criterion': 'gini', 'rf_max_features': 'log2', 'rf_min_samples_split': 25, 'rf_min_samples_leaf': 2, 'rf_bootstrap': False}. Best is trial 103 with value: 0.7805267860769262.\n",
            "[I 2024-07-10 19:32:59,525] Trial 202 finished with value: 0.7766389229956916 and parameters: {'rf_n_estimators': 190, 'rf_max_depth': 34, 'rf_criterion': 'gini', 'rf_max_features': 'log2', 'rf_min_samples_split': 15, 'rf_min_samples_leaf': 5, 'rf_bootstrap': False}. Best is trial 103 with value: 0.7805267860769262.\n",
            "[I 2024-07-10 19:33:11,440] Trial 203 finished with value: 0.7667443052053751 and parameters: {'rf_n_estimators': 194, 'rf_max_depth': 34, 'rf_criterion': 'gini', 'rf_max_features': 'log2', 'rf_min_samples_split': 16, 'rf_min_samples_leaf': 9, 'rf_bootstrap': False}. Best is trial 103 with value: 0.7805267860769262.\n",
            "[I 2024-07-10 19:33:23,992] Trial 204 finished with value: 0.7739884338885192 and parameters: {'rf_n_estimators': 176, 'rf_max_depth': 36, 'rf_criterion': 'gini', 'rf_max_features': 'log2', 'rf_min_samples_split': 11, 'rf_min_samples_leaf': 5, 'rf_bootstrap': False}. Best is trial 103 with value: 0.7805267860769262.\n",
            "[I 2024-07-10 19:33:36,337] Trial 205 finished with value: 0.7644476416317528 and parameters: {'rf_n_estimators': 186, 'rf_max_depth': 35, 'rf_criterion': 'gini', 'rf_max_features': 'log2', 'rf_min_samples_split': 7, 'rf_min_samples_leaf': 12, 'rf_bootstrap': False}. Best is trial 103 with value: 0.7805267860769262.\n",
            "[I 2024-07-10 19:33:48,367] Trial 206 finished with value: 0.7764627131935526 and parameters: {'rf_n_estimators': 156, 'rf_max_depth': 33, 'rf_criterion': 'gini', 'rf_max_features': 'log2', 'rf_min_samples_split': 16, 'rf_min_samples_leaf': 2, 'rf_bootstrap': False}. Best is trial 103 with value: 0.7805267860769262.\n",
            "[I 2024-07-10 19:33:59,038] Trial 207 finished with value: 0.7727512161288207 and parameters: {'rf_n_estimators': 154, 'rf_max_depth': 33, 'rf_criterion': 'gini', 'rf_max_features': 'log2', 'rf_min_samples_split': 19, 'rf_min_samples_leaf': 5, 'rf_bootstrap': False}. Best is trial 103 with value: 0.7805267860769262.\n",
            "[I 2024-07-10 19:34:11,223] Trial 208 finished with value: 0.7748715136859403 and parameters: {'rf_n_estimators': 165, 'rf_max_depth': 34, 'rf_criterion': 'gini', 'rf_max_features': 'log2', 'rf_min_samples_split': 14, 'rf_min_samples_leaf': 2, 'rf_bootstrap': False}. Best is trial 103 with value: 0.7805267860769262.\n",
            "[I 2024-07-10 19:34:22,571] Trial 209 finished with value: 0.7692173347954998 and parameters: {'rf_n_estimators': 158, 'rf_max_depth': 32, 'rf_criterion': 'gini', 'rf_max_features': 'log2', 'rf_min_samples_split': 22, 'rf_min_samples_leaf': 9, 'rf_bootstrap': False}. Best is trial 103 with value: 0.7805267860769262.\n",
            "[I 2024-07-10 19:34:35,264] Trial 210 finished with value: 0.7761088876600025 and parameters: {'rf_n_estimators': 169, 'rf_max_depth': 40, 'rf_criterion': 'gini', 'rf_max_features': 'log2', 'rf_min_samples_split': 16, 'rf_min_samples_leaf': 2, 'rf_bootstrap': False}. Best is trial 103 with value: 0.7805267860769262.\n",
            "[I 2024-07-10 19:34:47,878] Trial 211 finished with value: 0.7762849412477778 and parameters: {'rf_n_estimators': 180, 'rf_max_depth': 35, 'rf_criterion': 'gini', 'rf_max_features': 'log2', 'rf_min_samples_split': 12, 'rf_min_samples_leaf': 6, 'rf_bootstrap': False}. Best is trial 103 with value: 0.7805267860769262.\n",
            "[I 2024-07-10 19:35:02,590] Trial 212 finished with value: 0.7761092000887297 and parameters: {'rf_n_estimators': 201, 'rf_max_depth': 37, 'rf_criterion': 'gini', 'rf_max_features': 'log2', 'rf_min_samples_split': 9, 'rf_min_samples_leaf': 2, 'rf_bootstrap': False}. Best is trial 103 with value: 0.7805267860769262.\n",
            "[I 2024-07-10 19:35:14,467] Trial 213 finished with value: 0.7734574612666486 and parameters: {'rf_n_estimators': 184, 'rf_max_depth': 34, 'rf_criterion': 'gini', 'rf_max_features': 'log2', 'rf_min_samples_split': 6, 'rf_min_samples_leaf': 8, 'rf_bootstrap': False}. Best is trial 103 with value: 0.7805267860769262.\n",
            "[I 2024-07-10 19:35:26,884] Trial 214 finished with value: 0.7723987965245429 and parameters: {'rf_n_estimators': 172, 'rf_max_depth': 15, 'rf_criterion': 'gini', 'rf_max_features': 'log2', 'rf_min_samples_split': 18, 'rf_min_samples_leaf': 6, 'rf_bootstrap': False}. Best is trial 103 with value: 0.7805267860769262.\n",
            "[I 2024-07-10 19:35:39,629] Trial 215 finished with value: 0.7621494159144946 and parameters: {'rf_n_estimators': 195, 'rf_max_depth': 36, 'rf_criterion': 'gini', 'rf_max_features': 'log2', 'rf_min_samples_split': 13, 'rf_min_samples_leaf': 12, 'rf_bootstrap': False}. Best is trial 103 with value: 0.7805267860769262.\n",
            "[I 2024-07-10 19:35:56,140] Trial 216 finished with value: 0.7746967098130739 and parameters: {'rf_n_estimators': 176, 'rf_max_depth': 33, 'rf_criterion': 'entropy', 'rf_max_features': 'log2', 'rf_min_samples_split': 5, 'rf_min_samples_leaf': 2, 'rf_bootstrap': False}. Best is trial 103 with value: 0.7805267860769262.\n",
            "[I 2024-07-10 19:36:12,547] Trial 217 finished with value: 0.774165893405567 and parameters: {'rf_n_estimators': 252, 'rf_max_depth': 38, 'rf_criterion': 'gini', 'rf_max_features': 'log2', 'rf_min_samples_split': 10, 'rf_min_samples_leaf': 6, 'rf_bootstrap': False}. Best is trial 103 with value: 0.7805267860769262.\n",
            "[I 2024-07-10 19:36:25,238] Trial 218 finished with value: 0.7658602881217722 and parameters: {'rf_n_estimators': 190, 'rf_max_depth': 35, 'rf_criterion': 'gini', 'rf_max_features': 'log2', 'rf_min_samples_split': 17, 'rf_min_samples_leaf': 10, 'rf_bootstrap': False}. Best is trial 103 with value: 0.7805267860769262.\n",
            "[I 2024-07-10 19:36:33,002] Trial 219 finished with value: 0.7345828920277561 and parameters: {'rf_n_estimators': 167, 'rf_max_depth': 31, 'rf_criterion': 'gini', 'rf_max_features': 'log2', 'rf_min_samples_split': 26, 'rf_min_samples_leaf': 68, 'rf_bootstrap': False}. Best is trial 103 with value: 0.7805267860769262.\n",
            "[I 2024-07-10 19:36:43,889] Trial 220 finished with value: 0.7616201616506235 and parameters: {'rf_n_estimators': 159, 'rf_max_depth': 38, 'rf_criterion': 'gini', 'rf_max_features': 'log2', 'rf_min_samples_split': 21, 'rf_min_samples_leaf': 14, 'rf_bootstrap': False}. Best is trial 103 with value: 0.7805267860769262.\n",
            "[I 2024-07-10 19:36:57,026] Trial 221 finished with value: 0.7715149356553036 and parameters: {'rf_n_estimators': 181, 'rf_max_depth': 35, 'rf_criterion': 'gini', 'rf_max_features': 'log2', 'rf_min_samples_split': 12, 'rf_min_samples_leaf': 6, 'rf_bootstrap': False}. Best is trial 103 with value: 0.7805267860769262.\n",
            "[I 2024-07-10 19:37:10,718] Trial 222 finished with value: 0.7782296538602131 and parameters: {'rf_n_estimators': 181, 'rf_max_depth': 34, 'rf_criterion': 'gini', 'rf_max_features': 'log2', 'rf_min_samples_split': 12, 'rf_min_samples_leaf': 2, 'rf_bootstrap': False}. Best is trial 103 with value: 0.7805267860769262.\n",
            "[I 2024-07-10 19:37:24,372] Trial 223 finished with value: 0.7748718261146677 and parameters: {'rf_n_estimators': 186, 'rf_max_depth': 33, 'rf_criterion': 'gini', 'rf_max_features': 'log2', 'rf_min_samples_split': 15, 'rf_min_samples_leaf': 2, 'rf_bootstrap': False}. Best is trial 103 with value: 0.7805267860769262.\n",
            "[I 2024-07-10 19:37:35,972] Trial 224 finished with value: 0.7771692707601078 and parameters: {'rf_n_estimators': 173, 'rf_max_depth': 34, 'rf_criterion': 'gini', 'rf_max_features': 'log2', 'rf_min_samples_split': 9, 'rf_min_samples_leaf': 5, 'rf_bootstrap': False}. Best is trial 103 with value: 0.7805267860769262.\n",
            "[I 2024-07-10 19:37:49,840] Trial 225 finished with value: 0.7775227838649308 and parameters: {'rf_n_estimators': 172, 'rf_max_depth': 34, 'rf_criterion': 'gini', 'rf_max_features': 'log2', 'rf_min_samples_split': 2, 'rf_min_samples_leaf': 2, 'rf_bootstrap': False}. Best is trial 103 with value: 0.7805267860769262.\n",
            "[I 2024-07-10 19:38:02,087] Trial 226 finished with value: 0.7704548649839256 and parameters: {'rf_n_estimators': 172, 'rf_max_depth': 34, 'rf_criterion': 'gini', 'rf_max_features': 'log2', 'rf_min_samples_split': 2, 'rf_min_samples_leaf': 9, 'rf_bootstrap': False}. Best is trial 103 with value: 0.7805267860769262.\n",
            "[I 2024-07-10 19:38:13,618] Trial 227 finished with value: 0.7761090438743661 and parameters: {'rf_n_estimators': 151, 'rf_max_depth': 32, 'rf_criterion': 'gini', 'rf_max_features': 'log2', 'rf_min_samples_split': 5, 'rf_min_samples_leaf': 6, 'rf_bootstrap': False}. Best is trial 103 with value: 0.7805267860769262.\n",
            "[I 2024-07-10 19:38:25,780] Trial 228 finished with value: 0.7778753596835722 and parameters: {'rf_n_estimators': 164, 'rf_max_depth': 33, 'rf_criterion': 'gini', 'rf_max_features': 'log2', 'rf_min_samples_split': 8, 'rf_min_samples_leaf': 5, 'rf_bootstrap': False}. Best is trial 103 with value: 0.7805267860769262.\n",
            "[I 2024-07-10 19:38:36,048] Trial 229 finished with value: 0.7695710041146864 and parameters: {'rf_n_estimators': 161, 'rf_max_depth': 33, 'rf_criterion': 'gini', 'rf_max_features': 'log2', 'rf_min_samples_split': 6, 'rf_min_samples_leaf': 10, 'rf_bootstrap': False}. Best is trial 103 with value: 0.7805267860769262.\n",
            "[I 2024-07-10 19:38:48,145] Trial 230 finished with value: 0.7750491294173516 and parameters: {'rf_n_estimators': 156, 'rf_max_depth': 34, 'rf_criterion': 'gini', 'rf_max_features': 'sqrt', 'rf_min_samples_split': 2, 'rf_min_samples_leaf': 5, 'rf_bootstrap': False}. Best is trial 103 with value: 0.7805267860769262.\n",
            "[I 2024-07-10 19:39:01,203] Trial 231 finished with value: 0.7768148203691033 and parameters: {'rf_n_estimators': 166, 'rf_max_depth': 32, 'rf_criterion': 'gini', 'rf_max_features': 'log2', 'rf_min_samples_split': 9, 'rf_min_samples_leaf': 2, 'rf_bootstrap': False}. Best is trial 103 with value: 0.7805267860769262.\n",
            "[I 2024-07-10 19:39:13,150] Trial 232 finished with value: 0.775931740571682 and parameters: {'rf_n_estimators': 166, 'rf_max_depth': 31, 'rf_criterion': 'gini', 'rf_max_features': 'log2', 'rf_min_samples_split': 8, 'rf_min_samples_leaf': 5, 'rf_bootstrap': False}. Best is trial 103 with value: 0.7805267860769262.\n",
            "[I 2024-07-10 19:39:24,871] Trial 233 finished with value: 0.7782291852171224 and parameters: {'rf_n_estimators': 163, 'rf_max_depth': 32, 'rf_criterion': 'gini', 'rf_max_features': 'log2', 'rf_min_samples_split': 8, 'rf_min_samples_leaf': 2, 'rf_bootstrap': False}. Best is trial 103 with value: 0.7805267860769262.\n",
            "[I 2024-07-10 19:39:33,955] Trial 234 finished with value: 0.7289288693516791 and parameters: {'rf_n_estimators': 169, 'rf_max_depth': 32, 'rf_criterion': 'gini', 'rf_max_features': 'log2', 'rf_min_samples_split': 8, 'rf_min_samples_leaf': 90, 'rf_bootstrap': False}. Best is trial 103 with value: 0.7805267860769262.\n",
            "[I 2024-07-10 19:39:45,740] Trial 235 finished with value: 0.771513998369122 and parameters: {'rf_n_estimators': 165, 'rf_max_depth': 31, 'rf_criterion': 'gini', 'rf_max_features': 'log2', 'rf_min_samples_split': 5, 'rf_min_samples_leaf': 8, 'rf_bootstrap': False}. Best is trial 103 with value: 0.7805267860769262.\n",
            "[I 2024-07-10 19:39:54,888] Trial 236 finished with value: 0.7716920827436241 and parameters: {'rf_n_estimators': 172, 'rf_max_depth': 30, 'rf_criterion': 'gini', 'rf_max_features': 'log2', 'rf_min_samples_split': 10, 'rf_min_samples_leaf': 2, 'rf_bootstrap': True}. Best is trial 103 with value: 0.7805267860769262.\n",
            "[I 2024-07-10 19:40:06,906] Trial 237 finished with value: 0.7748719823290313 and parameters: {'rf_n_estimators': 162, 'rf_max_depth': 29, 'rf_criterion': 'gini', 'rf_max_features': 'log2', 'rf_min_samples_split': 12, 'rf_min_samples_leaf': 6, 'rf_bootstrap': False}. Best is trial 103 with value: 0.7805267860769262.\n",
            "[I 2024-07-10 19:40:16,526] Trial 238 finished with value: 0.7381175544328948 and parameters: {'rf_n_estimators': 174, 'rf_max_depth': 26, 'rf_criterion': 'gini', 'rf_max_features': 'log2', 'rf_min_samples_split': 7, 'rf_min_samples_leaf': 57, 'rf_bootstrap': False}. Best is trial 103 with value: 0.7805267860769262.\n",
            "[I 2024-07-10 19:40:25,808] Trial 239 finished with value: 0.7662141136553224 and parameters: {'rf_n_estimators': 148, 'rf_max_depth': 33, 'rf_criterion': 'gini', 'rf_max_features': 'log2', 'rf_min_samples_split': 4, 'rf_min_samples_leaf': 12, 'rf_bootstrap': False}. Best is trial 103 with value: 0.7805267860769262.\n",
            "[I 2024-07-10 19:40:35,150] Trial 240 finished with value: 0.7699227988615098 and parameters: {'rf_n_estimators': 108, 'rf_max_depth': 34, 'rf_criterion': 'gini', 'rf_max_features': 'log2', 'rf_min_samples_split': 2, 'rf_min_samples_leaf': 8, 'rf_bootstrap': False}. Best is trial 103 with value: 0.7805267860769262.\n",
            "[I 2024-07-10 19:40:46,488] Trial 241 finished with value: 0.774871669900304 and parameters: {'rf_n_estimators': 157, 'rf_max_depth': 33, 'rf_criterion': 'gini', 'rf_max_features': 'log2', 'rf_min_samples_split': 12, 'rf_min_samples_leaf': 5, 'rf_bootstrap': False}. Best is trial 103 with value: 0.7805267860769262.\n",
            "[I 2024-07-10 19:40:58,104] Trial 242 finished with value: 0.7759320530004092 and parameters: {'rf_n_estimators': 163, 'rf_max_depth': 32, 'rf_criterion': 'gini', 'rf_max_features': 'log2', 'rf_min_samples_split': 13, 'rf_min_samples_leaf': 2, 'rf_bootstrap': False}. Best is trial 103 with value: 0.7805267860769262.\n",
            "[I 2024-07-10 19:41:10,469] Trial 243 finished with value: 0.7771688021170171 and parameters: {'rf_n_estimators': 155, 'rf_max_depth': 34, 'rf_criterion': 'gini', 'rf_max_features': 'log2', 'rf_min_samples_split': 16, 'rf_min_samples_leaf': 2, 'rf_bootstrap': False}. Best is trial 103 with value: 0.7805267860769262.\n",
            "[I 2024-07-10 19:41:23,845] Trial 244 finished with value: 0.7796426127789597 and parameters: {'rf_n_estimators': 168, 'rf_max_depth': 34, 'rf_criterion': 'gini', 'rf_max_features': 'log2', 'rf_min_samples_split': 9, 'rf_min_samples_leaf': 2, 'rf_bootstrap': False}. Best is trial 103 with value: 0.7805267860769262.\n",
            "[I 2024-07-10 19:41:36,542] Trial 245 finished with value: 0.77222024350695 and parameters: {'rf_n_estimators': 167, 'rf_max_depth': 34, 'rf_criterion': 'gini', 'rf_max_features': 'log2', 'rf_min_samples_split': 8, 'rf_min_samples_leaf': 6, 'rf_bootstrap': False}. Best is trial 103 with value: 0.7805267860769262.\n",
            "[I 2024-07-10 19:41:46,219] Trial 246 finished with value: 0.7702775616812415 and parameters: {'rf_n_estimators': 153, 'rf_max_depth': 34, 'rf_criterion': 'gini', 'rf_max_features': 'log2', 'rf_min_samples_split': 9, 'rf_min_samples_leaf': 9, 'rf_bootstrap': False}. Best is trial 103 with value: 0.7805267860769262.\n",
            "[I 2024-07-10 19:41:59,359] Trial 247 finished with value: 0.7803504200604238 and parameters: {'rf_n_estimators': 170, 'rf_max_depth': 32, 'rf_criterion': 'gini', 'rf_max_features': 'log2', 'rf_min_samples_split': 13, 'rf_min_samples_leaf': 2, 'rf_bootstrap': False}. Best is trial 103 with value: 0.7805267860769262.\n",
            "[I 2024-07-10 19:42:12,048] Trial 248 finished with value: 0.7752253392194906 and parameters: {'rf_n_estimators': 170, 'rf_max_depth': 32, 'rf_criterion': 'gini', 'rf_max_features': 'log2', 'rf_min_samples_split': 15, 'rf_min_samples_leaf': 5, 'rf_bootstrap': False}. Best is trial 103 with value: 0.7805267860769262.\n",
            "[I 2024-07-10 19:42:19,660] Trial 249 finished with value: 0.7110821593823908 and parameters: {'rf_n_estimators': 175, 'rf_max_depth': 33, 'rf_criterion': 'gini', 'rf_max_features': 'log2', 'rf_min_samples_split': 14, 'rf_min_samples_leaf': 166, 'rf_bootstrap': False}. Best is trial 103 with value: 0.7805267860769262.\n"
          ]
        }
      ]
    },
    {
      "cell_type": "markdown",
      "source": [
        "### Resultado da otimização\n",
        "\n",
        "Como resultado dessa nova rodada de otimização conseguimos melhorar o desempenho do modelo na base de teste. Alcançamos um ganho de acurácia e Roc Score, mas também, no F1-Score das classes 4, 6 e 7, sendo a classe 7 a que mais melhorou (29%)."
      ],
      "metadata": {
        "id": "W6yowtde8SRL"
      }
    },
    {
      "cell_type": "code",
      "source": [
        "RF_test = RandomForestClassifier(n_estimators=best_results_opt['params']['rf_n_estimators'],\n",
        "                                 max_depth=best_results_opt['params']['rf_max_depth'],\n",
        "                                 criterion=best_results_opt['params']['rf_criterion'],\n",
        "                                 max_features=best_results_opt['params']['rf_max_features'],\n",
        "                                 min_samples_split=best_results_opt['params']['rf_min_samples_split'],\n",
        "                                 min_samples_leaf=best_results_opt['params']['rf_min_samples_leaf'],\n",
        "                                 bootstrap=best_results_opt['params']['rf_bootstrap']\n",
        "                                 )\n",
        "\n",
        "log_model_metrics('RandomForest', RF_test, X_train, y_train, X_test, y_test)"
      ],
      "metadata": {
        "colab": {
          "base_uri": "https://localhost:8080/",
          "height": 753
        },
        "id": "03q4_P4WS4dE",
        "outputId": "e1f11d07-a9cd-4d75-a5b8-30272358e350"
      },
      "execution_count": null,
      "outputs": [
        {
          "output_type": "display_data",
          "data": {
            "text/plain": [
              "<Figure size 640x480 with 2 Axes>"
            ],
            "image/png": "[encoded data removed]"
          },
          "metadata": {}
        },
        {
          "output_type": "stream",
          "name": "stdout",
          "text": [
            "              precision    recall  f1-score   support\n",
            "\n",
            "           3       0.87      0.89      0.88      1094\n",
            "           4       0.68      0.61      0.65       506\n",
            "           5       0.75      0.81      0.78       823\n",
            "           6       0.64      0.65      0.64       305\n",
            "           7       0.67      0.13      0.22        60\n",
            "\n",
            "    accuracy                           0.77      2788\n",
            "   macro avg       0.72      0.62      0.63      2788\n",
            "weighted avg       0.77      0.77      0.77      2788\n",
            "\n",
            "RandomForest train score: 0.98745361371267\n",
            "RandomForest test score: 0.7747489239598279\n",
            "RandomForest roc auc score: 0.9370444073041435\n"
          ]
        }
      ]
    },
    {
      "cell_type": "markdown",
      "source": [
        "# Auto Sklearn"
      ],
      "metadata": {
        "id": "78lcVWRCMdrP"
      }
    },
    {
      "cell_type": "markdown",
      "source": [
        "## Instalação de dependências"
      ],
      "metadata": {
        "id": "3oPCFzYa7g39"
      }
    },
    {
      "cell_type": "markdown",
      "source": [
        "Importar o Auto Sklearn por meio dos comandos padrões estava dando erro:\n",
        "```\n",
        "!pip install auto-sklearn\n",
        "import autosklearn.classification\n",
        "```\n",
        "\n",
        "Por isso, estamos realizando a instalação através da discussão presente em https://github.com/automl/auto-sklearn/issues/1684."
      ],
      "metadata": {
        "id": "-30T7ToPMkSY"
      }
    },
    {
      "cell_type": "code",
      "source": [
        "# 1. uninstall all affected packages\n",
        "!pip uninstall -y Cython scipy pyparsing scikit_learn imbalanced-learn mlxtend yellowbrick"
      ],
      "metadata": {
        "colab": {
          "base_uri": "https://localhost:8080/"
        },
        "collapsed": true,
        "id": "Px21iKkpNCpD",
        "outputId": "b0703437-5d12-4a98-d3eb-f6fb124ab6ed"
      },
      "execution_count": null,
      "outputs": [
        {
          "output_type": "stream",
          "name": "stdout",
          "text": [
            "Found existing installation: Cython 3.0.10\n",
            "Uninstalling Cython-3.0.10:\n",
            "  Successfully uninstalled Cython-3.0.10\n",
            "Found existing installation: scipy 1.11.4\n",
            "Uninstalling scipy-1.11.4:\n",
            "  Successfully uninstalled scipy-1.11.4\n",
            "Found existing installation: pyparsing 3.1.2\n",
            "Uninstalling pyparsing-3.1.2:\n",
            "  Successfully uninstalled pyparsing-3.1.2\n",
            "Found existing installation: scikit-learn 1.2.2\n",
            "Uninstalling scikit-learn-1.2.2:\n",
            "  Successfully uninstalled scikit-learn-1.2.2\n",
            "Found existing installation: imbalanced-learn 0.10.1\n",
            "Uninstalling imbalanced-learn-0.10.1:\n",
            "  Successfully uninstalled imbalanced-learn-0.10.1\n",
            "Found existing installation: mlxtend 0.22.0\n",
            "Uninstalling mlxtend-0.22.0:\n",
            "  Successfully uninstalled mlxtend-0.22.0\n",
            "Found existing installation: yellowbrick 1.5\n",
            "Uninstalling yellowbrick-1.5:\n",
            "  Successfully uninstalled yellowbrick-1.5\n"
          ]
        }
      ]
    },
    {
      "cell_type": "code",
      "source": [
        "# 2. install packages to be downgraded\n",
        "!pip install Cython==0.29.36 scipy==1.9 pyparsing==2.4"
      ],
      "metadata": {
        "colab": {
          "base_uri": "https://localhost:8080/"
        },
        "collapsed": true,
        "id": "TmJv2jR6NH6C",
        "outputId": "c55a4be2-acd3-4640-d706-433b882351cc"
      },
      "execution_count": null,
      "outputs": [
        {
          "output_type": "stream",
          "name": "stdout",
          "text": [
            "Collecting Cython==0.29.36\n",
            "  Downloading Cython-0.29.36-cp310-cp310-manylinux_2_17_x86_64.manylinux2014_x86_64.manylinux_2_24_x86_64.whl (1.9 MB)\n",
            "\u001b[2K     \u001b[90m━━━━━━━━━━━━━━━━━━━━━━━━━━━━━━━━━━━━━━━━\u001b[0m \u001b[32m1.9/1.9 MB\u001b[0m \u001b[31m15.2 MB/s\u001b[0m eta \u001b[36m0:00:00\u001b[0m\n",
            "\u001b[?25hCollecting scipy==1.9\n",
            "  Downloading scipy-1.9.0-cp310-cp310-manylinux_2_17_x86_64.manylinux2014_x86_64.whl (43.9 MB)\n",
            "\u001b[2K     \u001b[90m━━━━━━━━━━━━━━━━━━━━━━━━━━━━━━━━━━━━━━━━\u001b[0m \u001b[32m43.9/43.9 MB\u001b[0m \u001b[31m9.3 MB/s\u001b[0m eta \u001b[36m0:00:00\u001b[0m\n",
            "\u001b[?25hCollecting pyparsing==2.4\n",
            "  Downloading pyparsing-2.4.0-py2.py3-none-any.whl (62 kB)\n",
            "\u001b[2K     \u001b[90m━━━━━━━━━━━━━━━━━━━━━━━━━━━━━━━━━━━━━━━━\u001b[0m \u001b[32m62.3/62.3 kB\u001b[0m \u001b[31m6.3 MB/s\u001b[0m eta \u001b[36m0:00:00\u001b[0m\n",
            "\u001b[?25hCollecting numpy<1.25.0,>=1.18.5 (from scipy==1.9)\n",
            "  Downloading numpy-1.24.4-cp310-cp310-manylinux_2_17_x86_64.manylinux2014_x86_64.whl (17.3 MB)\n",
            "\u001b[2K     \u001b[90m━━━━━━━━━━━━━━━━━━━━━━━━━━━━━━━━━━━━━━━━\u001b[0m \u001b[32m17.3/17.3 MB\u001b[0m \u001b[31m40.8 MB/s\u001b[0m eta \u001b[36m0:00:00\u001b[0m\n",
            "\u001b[?25hInstalling collected packages: pyparsing, numpy, Cython, scipy\n",
            "  Attempting uninstall: numpy\n",
            "    Found existing installation: numpy 1.25.2\n",
            "    Uninstalling numpy-1.25.2:\n",
            "      Successfully uninstalled numpy-1.25.2\n",
            "\u001b[31mERROR: pip's dependency resolver does not currently take into account all the packages that are installed. This behaviour is the source of the following dependency conflicts.\n",
            "fastai 2.7.15 requires scikit-learn, which is not installed.\n",
            "librosa 0.10.2.post1 requires scikit-learn>=0.20.0, which is not installed.\n",
            "qudida 0.0.4 requires scikit-learn>=0.19.1, which is not installed.\n",
            "sklearn-pandas 2.2.0 requires scikit-learn>=0.23.0, which is not installed.\n",
            "httplib2 0.22.0 requires pyparsing!=3.0.0,!=3.0.1,!=3.0.2,!=3.0.3,<4,>=2.4.2; python_version > \"3.0\", but you have pyparsing 2.4.0 which is incompatible.\n",
            "pandas-stubs 2.0.3.230814 requires numpy>=1.25.0; python_version >= \"3.9\", but you have numpy 1.24.4 which is incompatible.\u001b[0m\u001b[31m\n",
            "\u001b[0mSuccessfully installed Cython-0.29.36 numpy-1.24.4 pyparsing-2.4.0 scipy-1.9.0\n"
          ]
        },
        {
          "output_type": "display_data",
          "data": {
            "application/vnd.colab-display-data+json": {
              "pip_warning": {
                "packages": [
                  "numpy",
                  "pyparsing"
                ]
              },
              "id": "8093adfca773419b977dcd5a2cc2350b"
            }
          },
          "metadata": {}
        }
      ]
    },
    {
      "cell_type": "code",
      "source": [
        "# 3. install older scikit-learn disregarding its dependencies\n",
        "!pip install scikit-learn==0.24.2 --no-build-isolation"
      ],
      "metadata": {
        "colab": {
          "base_uri": "https://localhost:8080/"
        },
        "collapsed": true,
        "id": "EjmBzKbfNchF",
        "outputId": "dc5c6b3f-e918-40b9-91f5-2d2fcc57eff1"
      },
      "execution_count": null,
      "outputs": [
        {
          "output_type": "stream",
          "name": "stdout",
          "text": [
            "Collecting scikit-learn==0.24.2\n",
            "  Downloading scikit-learn-0.24.2.tar.gz (7.5 MB)\n",
            "\u001b[2K     \u001b[90m━━━━━━━━━━━━━━━━━━━━━━━━━━━━━━━━━━━━━━━━\u001b[0m \u001b[32m7.5/7.5 MB\u001b[0m \u001b[31m43.5 MB/s\u001b[0m eta \u001b[36m0:00:00\u001b[0m\n",
            "\u001b[?25h  Preparing metadata (pyproject.toml) ... \u001b[?25l\u001b[?25hdone\n",
            "Requirement already satisfied: numpy>=1.13.3 in /usr/local/lib/python3.10/dist-packages (from scikit-learn==0.24.2) (1.24.4)\n",
            "Requirement already satisfied: scipy>=0.19.1 in /usr/local/lib/python3.10/dist-packages (from scikit-learn==0.24.2) (1.9.0)\n",
            "Requirement already satisfied: joblib>=0.11 in /usr/local/lib/python3.10/dist-packages (from scikit-learn==0.24.2) (1.4.2)\n",
            "Requirement already satisfied: threadpoolctl>=2.0.0 in /usr/local/lib/python3.10/dist-packages (from scikit-learn==0.24.2) (3.5.0)\n",
            "Building wheels for collected packages: scikit-learn\n",
            "  Building wheel for scikit-learn (pyproject.toml) ... \u001b[?25l\u001b[?25hdone\n",
            "  Created wheel for scikit-learn: filename=scikit_learn-0.24.2-cp310-cp310-linux_x86_64.whl size=22238026 sha256=6f3c4e9d6368a90c536173e7f23c5aa4cbcc25aaee410991549e11e6deb42a16\n",
            "  Stored in directory: /root/.cache/pip/wheels/13/a4/68/4e78865652fa14db4a162b491e5138565f97646f9e1f2ab8cc\n",
            "Successfully built scikit-learn\n",
            "Installing collected packages: scikit-learn\n",
            "\u001b[31mERROR: pip's dependency resolver does not currently take into account all the packages that are installed. This behaviour is the source of the following dependency conflicts.\n",
            "bigframes 1.11.0 requires scikit-learn>=1.2.2, but you have scikit-learn 0.24.2 which is incompatible.\u001b[0m\u001b[31m\n",
            "\u001b[0mSuccessfully installed scikit-learn-0.24.2\n"
          ]
        }
      ]
    },
    {
      "cell_type": "code",
      "source": [
        "# 4. finally install auto-sklearn\n",
        "!pip install auto-sklearn"
      ],
      "metadata": {
        "colab": {
          "base_uri": "https://localhost:8080/"
        },
        "collapsed": true,
        "id": "Y2XKSgu_nTIy",
        "outputId": "dbb705b2-1c50-4a4b-9d58-db52a4dd6610"
      },
      "execution_count": null,
      "outputs": [
        {
          "output_type": "stream",
          "name": "stdout",
          "text": [
            "Collecting auto-sklearn\n",
            "  Downloading auto-sklearn-0.15.0.tar.gz (6.5 MB)\n",
            "\u001b[2K     \u001b[90m━━━━━━━━━━━━━━━━━━━━━━━━━━━━━━━━━━━━━━━━\u001b[0m \u001b[32m6.5/6.5 MB\u001b[0m \u001b[31m26.4 MB/s\u001b[0m eta \u001b[36m0:00:00\u001b[0m\n",
            "\u001b[?25h  Installing build dependencies ... \u001b[?25l\u001b[?25hdone\n",
            "  Getting requirements to build wheel ... \u001b[?25l\u001b[?25hdone\n",
            "  Preparing metadata (pyproject.toml) ... \u001b[?25l\u001b[?25hdone\n",
            "Requirement already satisfied: setuptools in /usr/local/lib/python3.10/dist-packages (from auto-sklearn) (67.7.2)\n",
            "Requirement already satisfied: typing-extensions in /usr/local/lib/python3.10/dist-packages (from auto-sklearn) (4.12.2)\n",
            "Requirement already satisfied: distro in /usr/lib/python3/dist-packages (from auto-sklearn) (1.7.0)\n",
            "Requirement already satisfied: numpy>=1.9.0 in /usr/local/lib/python3.10/dist-packages (from auto-sklearn) (1.24.4)\n",
            "Requirement already satisfied: scipy>=1.7.0 in /usr/local/lib/python3.10/dist-packages (from auto-sklearn) (1.9.0)\n",
            "Requirement already satisfied: joblib in /usr/local/lib/python3.10/dist-packages (from auto-sklearn) (1.4.2)\n",
            "Requirement already satisfied: scikit-learn<0.25.0,>=0.24.0 in /usr/local/lib/python3.10/dist-packages (from auto-sklearn) (0.24.2)\n",
            "Requirement already satisfied: dask>=2021.12 in /usr/local/lib/python3.10/dist-packages (from auto-sklearn) (2023.8.1)\n",
            "Requirement already satisfied: distributed>=2012.12 in /usr/local/lib/python3.10/dist-packages (from auto-sklearn) (2023.8.1)\n",
            "Requirement already satisfied: pyyaml in /usr/local/lib/python3.10/dist-packages (from auto-sklearn) (6.0.1)\n",
            "Requirement already satisfied: pandas>=1.0 in /usr/local/lib/python3.10/dist-packages (from auto-sklearn) (2.0.3)\n",
            "Collecting liac-arff (from auto-sklearn)\n",
            "  Downloading liac-arff-2.5.0.tar.gz (13 kB)\n",
            "  Preparing metadata (setup.py) ... \u001b[?25l\u001b[?25hdone\n",
            "Requirement already satisfied: threadpoolctl in /usr/local/lib/python3.10/dist-packages (from auto-sklearn) (3.5.0)\n",
            "Collecting ConfigSpace<0.5,>=0.4.21 (from auto-sklearn)\n",
            "  Downloading ConfigSpace-0.4.21-cp310-cp310-manylinux_2_17_x86_64.manylinux2014_x86_64.whl (4.8 MB)\n",
            "\u001b[2K     \u001b[90m━━━━━━━━━━━━━━━━━━━━━━━━━━━━━━━━━━━━━━━━\u001b[0m \u001b[32m4.8/4.8 MB\u001b[0m \u001b[31m75.8 MB/s\u001b[0m eta \u001b[36m0:00:00\u001b[0m\n",
            "\u001b[?25hCollecting pynisher<0.7,>=0.6.3 (from auto-sklearn)\n",
            "  Downloading pynisher-0.6.4.tar.gz (11 kB)\n",
            "  Preparing metadata (setup.py) ... \u001b[?25l\u001b[?25hdone\n",
            "Collecting pyrfr<0.9,>=0.8.1 (from auto-sklearn)\n",
            "  Downloading pyrfr-0.8.3-cp310-cp310-manylinux_2_17_x86_64.manylinux2014_x86_64.whl (4.5 MB)\n",
            "\u001b[2K     \u001b[90m━━━━━━━━━━━━━━━━━━━━━━━━━━━━━━━━━━━━━━━━\u001b[0m \u001b[32m4.5/4.5 MB\u001b[0m \u001b[31m82.9 MB/s\u001b[0m eta \u001b[36m0:00:00\u001b[0m\n",
            "\u001b[?25hCollecting smac<1.3,>=1.2 (from auto-sklearn)\n",
            "  Downloading smac-1.2.tar.gz (260 kB)\n",
            "\u001b[2K     \u001b[90m━━━━━━━━━━━━━━━━━━━━━━━━━━━━━━━━━━━━━━━━\u001b[0m \u001b[32m260.9/260.9 kB\u001b[0m \u001b[31m19.0 MB/s\u001b[0m eta \u001b[36m0:00:00\u001b[0m\n",
            "\u001b[?25h  Preparing metadata (setup.py) ... \u001b[?25l\u001b[?25hdone\n",
            "Requirement already satisfied: cython in /usr/local/lib/python3.10/dist-packages (from ConfigSpace<0.5,>=0.4.21->auto-sklearn) (0.29.36)\n",
            "Requirement already satisfied: pyparsing in /usr/local/lib/python3.10/dist-packages (from ConfigSpace<0.5,>=0.4.21->auto-sklearn) (2.4.0)\n",
            "Requirement already satisfied: click>=8.0 in /usr/local/lib/python3.10/dist-packages (from dask>=2021.12->auto-sklearn) (8.1.7)\n",
            "Requirement already satisfied: cloudpickle>=1.5.0 in /usr/local/lib/python3.10/dist-packages (from dask>=2021.12->auto-sklearn) (2.2.1)\n",
            "Requirement already satisfied: fsspec>=2021.09.0 in /usr/local/lib/python3.10/dist-packages (from dask>=2021.12->auto-sklearn) (2023.6.0)\n",
            "Requirement already satisfied: packaging>=20.0 in /usr/local/lib/python3.10/dist-packages (from dask>=2021.12->auto-sklearn) (24.1)\n",
            "Requirement already satisfied: partd>=1.2.0 in /usr/local/lib/python3.10/dist-packages (from dask>=2021.12->auto-sklearn) (1.4.2)\n",
            "Requirement already satisfied: toolz>=0.10.0 in /usr/local/lib/python3.10/dist-packages (from dask>=2021.12->auto-sklearn) (0.12.1)\n",
            "Requirement already satisfied: importlib-metadata>=4.13.0 in /usr/local/lib/python3.10/dist-packages (from dask>=2021.12->auto-sklearn) (8.0.0)\n",
            "Requirement already satisfied: jinja2>=2.10.3 in /usr/local/lib/python3.10/dist-packages (from distributed>=2012.12->auto-sklearn) (3.1.4)\n",
            "Requirement already satisfied: locket>=1.0.0 in /usr/local/lib/python3.10/dist-packages (from distributed>=2012.12->auto-sklearn) (1.0.0)\n",
            "Requirement already satisfied: msgpack>=1.0.0 in /usr/local/lib/python3.10/dist-packages (from distributed>=2012.12->auto-sklearn) (1.0.8)\n",
            "Requirement already satisfied: psutil>=5.7.2 in /usr/local/lib/python3.10/dist-packages (from distributed>=2012.12->auto-sklearn) (5.9.5)\n",
            "Requirement already satisfied: sortedcontainers>=2.0.5 in /usr/local/lib/python3.10/dist-packages (from distributed>=2012.12->auto-sklearn) (2.4.0)\n",
            "Requirement already satisfied: tblib>=1.6.0 in /usr/local/lib/python3.10/dist-packages (from distributed>=2012.12->auto-sklearn) (3.0.0)\n",
            "Requirement already satisfied: tornado>=6.0.4 in /usr/local/lib/python3.10/dist-packages (from distributed>=2012.12->auto-sklearn) (6.3.3)\n",
            "Requirement already satisfied: urllib3>=1.24.3 in /usr/local/lib/python3.10/dist-packages (from distributed>=2012.12->auto-sklearn) (2.0.7)\n",
            "Requirement already satisfied: zict>=2.2.0 in /usr/local/lib/python3.10/dist-packages (from distributed>=2012.12->auto-sklearn) (3.0.0)\n",
            "Requirement already satisfied: python-dateutil>=2.8.2 in /usr/local/lib/python3.10/dist-packages (from pandas>=1.0->auto-sklearn) (2.8.2)\n",
            "Requirement already satisfied: pytz>=2020.1 in /usr/local/lib/python3.10/dist-packages (from pandas>=1.0->auto-sklearn) (2023.4)\n",
            "Requirement already satisfied: tzdata>=2022.1 in /usr/local/lib/python3.10/dist-packages (from pandas>=1.0->auto-sklearn) (2024.1)\n",
            "Collecting emcee>=3.0.0 (from smac<1.3,>=1.2->auto-sklearn)\n",
            "  Downloading emcee-3.1.6-py2.py3-none-any.whl (47 kB)\n",
            "\u001b[2K     \u001b[90m━━━━━━━━━━━━━━━━━━━━━━━━━━━━━━━━━━━━━━━━\u001b[0m \u001b[32m47.4/47.4 kB\u001b[0m \u001b[31m4.8 MB/s\u001b[0m eta \u001b[36m0:00:00\u001b[0m\n",
            "\u001b[?25hRequirement already satisfied: zipp>=0.5 in /usr/local/lib/python3.10/dist-packages (from importlib-metadata>=4.13.0->dask>=2021.12->auto-sklearn) (3.19.2)\n",
            "Requirement already satisfied: MarkupSafe>=2.0 in /usr/local/lib/python3.10/dist-packages (from jinja2>=2.10.3->distributed>=2012.12->auto-sklearn) (2.1.5)\n",
            "Requirement already satisfied: six>=1.5 in /usr/local/lib/python3.10/dist-packages (from python-dateutil>=2.8.2->pandas>=1.0->auto-sklearn) (1.16.0)\n",
            "Building wheels for collected packages: auto-sklearn, pynisher, smac, liac-arff\n",
            "  Building wheel for auto-sklearn (pyproject.toml) ... \u001b[?25l\u001b[?25hdone\n",
            "  Created wheel for auto-sklearn: filename=auto_sklearn-0.15.0-py3-none-any.whl size=6641936 sha256=46e61534ba4842c6b76987c1ce53f96071ab1eb95d020778bece844b3c6a772a\n",
            "  Stored in directory: /root/.cache/pip/wheels/4d/0a/f9/8c1a06bcc36bc16b467b044b5bb03a90f92a5c5e6cd443414b\n",
            "  Building wheel for pynisher (setup.py) ... \u001b[?25l\u001b[?25hdone\n",
            "  Created wheel for pynisher: filename=pynisher-0.6.4-py3-none-any.whl size=7026 sha256=488c7a0e3b7a6b5ab01320e4551bd88c8f1fd895bc6704a3854389f5f104e68f\n",
            "  Stored in directory: /root/.cache/pip/wheels/90/7b/53/b21d6b41910f43c7f1557262e579598f83e75e44c659c1bcce\n",
            "  Building wheel for smac (setup.py) ... \u001b[?25l\u001b[?25hdone\n",
            "  Created wheel for smac: filename=smac-1.2-py3-none-any.whl size=215906 sha256=c76d9bbe4294772325b4b70b13f232569aed0e1c055348ca6d59842cd7f4b898\n",
            "  Stored in directory: /root/.cache/pip/wheels/66/2e/d9/2db14bdfcdc36bf12e202b44201df03f194367fcfd85ce2778\n",
            "  Building wheel for liac-arff (setup.py) ... \u001b[?25l\u001b[?25hdone\n",
            "  Created wheel for liac-arff: filename=liac_arff-2.5.0-py3-none-any.whl size=11716 sha256=ac1813d755587e2230d0f790913bec7e2a4cc0f4fec563fd784de9f8d4b6354b\n",
            "  Stored in directory: /root/.cache/pip/wheels/5d/2a/9c/3895d9617f8f49a0883ba686326d598e78a1c2f54fe3cae86d\n",
            "Successfully built auto-sklearn pynisher smac liac-arff\n",
            "Installing collected packages: pyrfr, pynisher, liac-arff, emcee, ConfigSpace, smac, auto-sklearn\n",
            "Successfully installed ConfigSpace-0.4.21 auto-sklearn-0.15.0 emcee-3.1.6 liac-arff-2.5.0 pynisher-0.6.4 pyrfr-0.8.3 smac-1.2\n"
          ]
        }
      ]
    },
    {
      "cell_type": "code",
      "source": [
        "# 5. then, try loading the package repeatedly until trash in its dependencies are clean\n",
        "import autosklearn\n",
        "import autosklearn.classification\n",
        "import sklearn.model_selection\n",
        "import sklearn.metrics"
      ],
      "metadata": {
        "id": "TJKeBb5mo076"
      },
      "execution_count": null,
      "outputs": []
    },
    {
      "cell_type": "markdown",
      "source": [
        "## Treinamento"
      ],
      "metadata": {
        "id": "Si8ze5-t7kp0"
      }
    },
    {
      "cell_type": "markdown",
      "source": [
        "Com o autosklearn instalado corretamente no Colab, podemos treinar o modelo utilizando essa biblioteca."
      ],
      "metadata": {
        "id": "3CIgCxOB7UKy"
      }
    },
    {
      "cell_type": "code",
      "source": [
        "automl = autosklearn.classification.AutoSklearnClassifier()\n",
        "automl.fit(X_train, y_train)"
      ],
      "metadata": {
        "id": "oEDjT54ZgqbX",
        "colab": {
          "base_uri": "https://localhost:8080/"
        },
        "outputId": "c37fe11a-1284-4ba7-9854-82a2f20f9e8a"
      },
      "execution_count": null,
      "outputs": [
        {
          "output_type": "execute_result",
          "data": {
            "text/plain": [
              "AutoSklearnClassifier(ensemble_class=<class 'autosklearn.ensembles.ensemble_selection.EnsembleSelection'>,\n",
              "                      per_run_time_limit=360)"
            ]
          },
          "metadata": {},
          "execution_count": 29
        }
      ]
    },
    {
      "cell_type": "code",
      "source": [
        "best_pipeline = automl.get_models_with_weights()[0][1]\n",
        "\n",
        "print(best_pipeline)"
      ],
      "metadata": {
        "colab": {
          "base_uri": "https://localhost:8080/"
        },
        "id": "qr7wOly9q8hj",
        "outputId": "bd080cdd-39a6-4e1e-fe09-96b8b98286f6"
      },
      "execution_count": null,
      "outputs": [
        {
          "output_type": "stream",
          "name": "stdout",
          "text": [
            "SimpleClassificationPipeline({'balancing:strategy': 'none', 'classifier:__choice__': 'adaboost', 'data_preprocessor:__choice__': 'feature_type', 'feature_preprocessor:__choice__': 'no_preprocessing', 'classifier:adaboost:algorithm': 'SAMME', 'classifier:adaboost:learning_rate': 0.2487958078311133, 'classifier:adaboost:max_depth': 5, 'classifier:adaboost:n_estimators': 219, 'data_preprocessor:feature_type:numerical_transformer:imputation:strategy': 'most_frequent', 'data_preprocessor:feature_type:numerical_transformer:rescaling:__choice__': 'none'},\n",
            "dataset_properties={\n",
            "  'task': 2,\n",
            "  'sparse': False,\n",
            "  'multilabel': False,\n",
            "  'multiclass': True,\n",
            "  'target_type': 'classification',\n",
            "  'signed': False})\n"
          ]
        }
      ]
    },
    {
      "cell_type": "markdown",
      "source": [
        "Observamos que o classificador encontrado pelo auto-sklearn foi o AdaBoost com os seguintes hiperparâmetros:\n",
        "* classifier:adaboost\n",
        "  : 'SAMME' (o algoritmo escolhido para o AdaBoost é SAMME).\n",
        "* classifier:adaboost\n",
        "  : 0.2487958078311133 (a taxa de aprendizado do AdaBoost).\n",
        "* classifier:adaboost\n",
        "  : 5 (a profundidade máxima das árvores de decisão no AdaBoost).\n",
        "* classifier:adaboost\n",
        "  : 219 (o número de estimadores ou árvores no AdaBoost)."
      ],
      "metadata": {
        "id": "wih_VxPb82B8"
      }
    },
    {
      "cell_type": "markdown",
      "source": [
        "## Avaliação"
      ],
      "metadata": {
        "id": "DQG3ZfpU70rp"
      }
    },
    {
      "cell_type": "code",
      "source": [
        "train_score = automl.score(X_train, y_train)\n",
        "test_score = automl.score(X_test, y_test)"
      ],
      "metadata": {
        "id": "-39ZfCPO5x5S"
      },
      "execution_count": null,
      "outputs": []
    },
    {
      "cell_type": "code",
      "source": [
        "y_pred = automl.predict(X_test)\n",
        "y_proba = automl.predict_proba(X_test)[:, 1] if hasattr(automl, \"predict_proba\") else np.zeros_like(y_test)\n",
        "roc_auc = roc_auc_score(y_test, automl.predict_proba(X_test), multi_class='ovr')"
      ],
      "metadata": {
        "id": "3LLAJ7nc6Odk"
      },
      "execution_count": null,
      "outputs": []
    },
    {
      "cell_type": "code",
      "source": [
        " # Log confusion matrix as an artifact\n",
        "cf_matrix = confusion_matrix(y_test, y_pred)\n",
        "fig, ax = plt.subplots()\n",
        "sns.heatmap(cf_matrix, annot=True, cmap='Blues', fmt='g', ax=ax)\n",
        "# sns.heatmap(cf_matrix, annot=True, cmap='Blues')\n",
        "ax.set_title(f'Confusion Matrix\\n')\n",
        "ax.set_xlabel('Predictions')\n",
        "ax.set_ylabel('Labels')\n",
        "plt.show()\n",
        "\n",
        "report_str = classification_report(y_test, y_pred)\n",
        "print(report_str)\n",
        "print(f'Auto-sklearn train score: {train_score}')\n",
        "print(f'Auto-sklearn test score: {test_score}')\n",
        "print(f'Auto-sklearn roc auc score: {roc_auc}')"
      ],
      "metadata": {
        "colab": {
          "base_uri": "https://localhost:8080/",
          "height": 753
        },
        "id": "DwW7bBE-6ZeV",
        "outputId": "f0458287-e77f-44eb-99b4-82c8b1135edf"
      },
      "execution_count": null,
      "outputs": [
        {
          "output_type": "display_data",
          "data": {
            "text/plain": [
              "<Figure size 640x480 with 2 Axes>"
            ],
            "image/png": "[encoded data removed]"
          },
          "metadata": {}
        },
        {
          "output_type": "stream",
          "name": "stdout",
          "text": [
            "              precision    recall  f1-score   support\n",
            "\n",
            "           3       0.87      0.88      0.87      1094\n",
            "           4       0.68      0.61      0.64       506\n",
            "           5       0.73      0.80      0.77       823\n",
            "           6       0.62      0.62      0.62       305\n",
            "           7       0.70      0.12      0.20        60\n",
            "\n",
            "    accuracy                           0.76      2788\n",
            "   macro avg       0.72      0.61      0.62      2788\n",
            "weighted avg       0.76      0.76      0.76      2788\n",
            "\n",
            "Auto-sklearn train score: 0.9153560699770278\n",
            "Auto-sklearn test score: 0.7643472022955524\n",
            "Auto-sklearn roc auc score: 0.9354994461640906\n"
          ]
        }
      ]
    },
    {
      "cell_type": "markdown",
      "source": [
        "O modelo gerado pela biblioteca teve um desempenho muito próximo ao que obtivemos com o Random Forest, mas com uma taxa um pouco mais baixa de overfitting no conjunto de treinamento. Ambos tiveram uma alta pontuação no ROC AUC, mesmo com a fase \"7\" possuindo um baixo recall. Isso indica que possíveis problemas de desbalanceamento ou variabilidade nos dados.\n",
        "\n",
        "Percebemos, no entanto, que ao considerar a distribuição e quantidade dos dados, o modelo se saiu razoavelmente bem."
      ],
      "metadata": {
        "id": "BvPy_MKr_AIq"
      }
    }
  ]
}